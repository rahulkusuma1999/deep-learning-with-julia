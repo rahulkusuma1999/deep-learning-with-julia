{
  "nbformat": 4,
  "nbformat_minor": 0,
  "metadata": {
    "colab": {
      "name": "MNIST.ipynb",
      "provenance": [],
      "collapsed_sections": []
    },
    "kernelspec": {
      "display_name": "Julia",
      "language": "julia",
      "name": "julia"
    },
    "language_info": {
      "file_extension": ".jl",
      "mimetype": "application/julia",
      "name": "julia"
    },
    "accelerator": "GPU"
  },
  "cells": [
    {
      "cell_type": "markdown",
      "metadata": {
        "id": "8WVxOVvExJE6",
        "colab_type": "text"
      },
      "source": [
        "**For julia to run in google colab run this command**"
      ]
    },
    {
      "cell_type": "markdown",
      "metadata": {
        "id": "G0BABUV-xVVx",
        "colab_type": "text"
      },
      "source": [
        "This will take few minutes"
      ]
    },
    {
      "cell_type": "code",
      "metadata": {
        "id": "GIeFXS0F0zww",
        "colab_type": "code",
        "colab": {
          "base_uri": "https://localhost:8080/",
          "height": 1000
        },
        "outputId": "354529e7-a2bb-4c8d-ee51-13fb8f60d106"
      },
      "source": [
        "%%shell\n",
        "set -e\n",
        "\n",
        "#---------------------------------------------------#\n",
        "JULIA_VERSION=\"1.4.2\" # any version ≥ 0.7.0\n",
        "JULIA_PACKAGES=\"IJulia BenchmarkTools Plots\"\n",
        "JULIA_PACKAGES_IF_GPU=\"CuArrays\"\n",
        "JULIA_NUM_THREADS=2\n",
        "#---------------------------------------------------#\n",
        "\n",
        "if [ -n \"$COLAB_GPU\" ] && [ -z `which julia` ]; then\n",
        "  # Install Julia\n",
        "  JULIA_VER=`cut -d '.' -f -2 <<< \"$JULIA_VERSION\"`\n",
        "  echo \"Installing Julia $JULIA_VERSION on the current Colab Runtime...\"\n",
        "  BASE_URL=\"https://julialang-s3.julialang.org/bin/linux/x64\"\n",
        "  URL=\"$BASE_URL/$JULIA_VER/julia-$JULIA_VERSION-linux-x86_64.tar.gz\"\n",
        "  wget -nv $URL -O /tmp/julia.tar.gz # -nv means \"not verbose\"\n",
        "  tar -x -f /tmp/julia.tar.gz -C /usr/local --strip-components 1\n",
        "  rm /tmp/julia.tar.gz\n",
        "\n",
        "  # Install Packages\n",
        "  if [ \"$COLAB_GPU\" = \"1\" ]; then\n",
        "      JULIA_PACKAGES=\"$JULIA_PACKAGES $JULIA_PACKAGES_IF_GPU\"\n",
        "  fi\n",
        "  for PKG in `echo $JULIA_PACKAGES`; do\n",
        "    echo \"Installing Julia package $PKG...\"\n",
        "    julia -e 'using Pkg; pkg\"add '$PKG'; precompile;\"'\n",
        "  done\n",
        "\n",
        "  # Install kernel and rename it to \"julia\"\n",
        "  echo \"Installing IJulia kernel...\"\n",
        "  julia -e 'using IJulia; IJulia.installkernel(\"julia\", env=Dict(\n",
        "      \"JULIA_NUM_THREADS\"=>\"'\"$JULIA_NUM_THREADS\"'\"))'\n",
        "  KERNEL_DIR=`julia -e \"using IJulia; print(IJulia.kerneldir())\"`\n",
        "  KERNEL_NAME=`ls -d \"$KERNEL_DIR\"/julia*`\n",
        "  mv -f $KERNEL_NAME \"$KERNEL_DIR\"/julia  \n",
        "\n",
        "  echo ''\n",
        "  echo \"Success! Please reload this page and jump to the next section.\"\n",
        "fi"
      ],
      "execution_count": null,
      "outputs": [
        {
          "output_type": "stream",
          "text": [
            "Installing Julia 1.4.2 on the current Colab Runtime...\n",
            "2020-07-11 06:40:34 URL:https://storage.googleapis.com/julialang2/bin/linux/x64/1.4/julia-1.4.2-linux-x86_64.tar.gz [99093958/99093958] -> \"/tmp/julia.tar.gz\" [1]\n",
            "Installing Julia package IJulia...\n",
            "    Cloning default registries into `~/.julia`\n",
            "    Cloning registry from \"https://github.com/JuliaRegistries/General.git\"\n",
            "\u001b[2K\u001b[?25h      Added registry `General` to `~/.julia/registries/General`\n",
            "  Resolving package versions...\n",
            "  Installed VersionParsing ── v1.2.0\n",
            "  Installed MbedTLS_jll ───── v2.16.6+1\n",
            "  Installed SoftGlobalScope ─ v1.0.10\n",
            "  Installed ZeroMQ_jll ────── v4.3.2+4\n",
            "  Installed Parsers ───────── v1.0.7\n",
            "  Installed IJulia ────────── v1.21.2\n",
            "  Installed Conda ─────────── v1.4.1\n",
            "  Installed JSON ──────────── v0.21.0\n",
            "  Installed ZMQ ───────────── v1.2.1\n",
            "  Installed MbedTLS ───────── v1.0.2\n",
            "Downloading artifact: MbedTLS\n",
            "######################################################################## 100.0%\n",
            "\u001b[1A\u001b[2K\u001b[?25hDownloading artifact: ZeroMQ\n",
            "######################################################################## 100.0%\n",
            "\u001b[1A\u001b[2K\u001b[?25h   Updating `~/.julia/environments/v1.4/Project.toml`\n",
            "  [7073ff75] + IJulia v1.21.2\n",
            "   Updating `~/.julia/environments/v1.4/Manifest.toml`\n",
            "  [8f4d0f93] + Conda v1.4.1\n",
            "  [7073ff75] + IJulia v1.21.2\n",
            "  [682c06a0] + JSON v0.21.0\n",
            "  [739be429] + MbedTLS v1.0.2\n",
            "  [c8ffd9c3] + MbedTLS_jll v2.16.6+1\n",
            "  [69de0a69] + Parsers v1.0.7\n",
            "  [b85f4697] + SoftGlobalScope v1.0.10\n",
            "  [81def892] + VersionParsing v1.2.0\n",
            "  [c2297ded] + ZMQ v1.2.1\n",
            "  [8f1865be] + ZeroMQ_jll v4.3.2+4\n",
            "  [2a0f44e3] + Base64 \n",
            "  [ade2ca70] + Dates \n",
            "  [8ba89e20] + Distributed \n",
            "  [7b1f6079] + FileWatching \n",
            "  [b77e0a4c] + InteractiveUtils \n",
            "  [76f85450] + LibGit2 \n",
            "  [8f399da3] + Libdl \n",
            "  [56ddb016] + Logging \n",
            "  [d6f4376e] + Markdown \n",
            "  [a63ad114] + Mmap \n",
            "  [44cfe95a] + Pkg \n",
            "  [de0858da] + Printf \n",
            "  [3fa0cd96] + REPL \n",
            "  [9a3f8284] + Random \n",
            "  [ea8e919c] + SHA \n",
            "  [9e88b42a] + Serialization \n",
            "  [6462fe0b] + Sockets \n",
            "  [8dfed614] + Test \n",
            "  [cf7118a7] + UUIDs \n",
            "  [4ec0a83e] + Unicode \n",
            "   Building Conda ─→ `~/.julia/packages/Conda/3rPhK/deps/build.log`\n",
            "   Building IJulia → `~/.julia/packages/IJulia/DrVMH/deps/build.log`\n",
            "Precompiling project...\n",
            "Installing Julia package BenchmarkTools...\n",
            "   Updating registry at `~/.julia/registries/General`\n",
            "   Updating git-repo `https://github.com/JuliaRegistries/General.git`\n",
            "\u001b[?25l\u001b[2K\u001b[?25h  Resolving package versions...\n",
            "  Installed BenchmarkTools ─ v0.5.0\n",
            "   Updating `~/.julia/environments/v1.4/Project.toml`\n",
            "  [6e4b80f9] + BenchmarkTools v0.5.0\n",
            "   Updating `~/.julia/environments/v1.4/Manifest.toml`\n",
            "  [6e4b80f9] + BenchmarkTools v0.5.0\n",
            "  [37e2e46d] + LinearAlgebra \n",
            "  [2f01184e] + SparseArrays \n",
            "  [10745b16] + Statistics \n",
            "Precompiling project...\n",
            "Installing Julia package Plots...\n",
            "   Updating registry at `~/.julia/registries/General`\n",
            "   Updating git-repo `https://github.com/JuliaRegistries/General.git`\n",
            "\u001b[?25l\u001b[2K\u001b[?25h  Resolving package versions...\n",
            "  Installed FFMPEG_jll ────────────────── v4.1.0+3\n",
            "  Installed LibVPX_jll ────────────────── v1.8.1+1\n",
            "  Installed FreeType2_jll ─────────────── v2.10.1+2\n",
            "  Installed DataAPI ───────────────────── v1.3.0\n",
            "  Installed StructArrays ──────────────── v0.4.4\n",
            "  Installed TableTraits ───────────────── v1.0.0\n",
            "  Installed HTTP ──────────────────────── v0.8.16\n",
            "  Installed Plots ─────────────────────── v1.5.4\n",
            "  Installed FFMPEG ────────────────────── v0.3.0\n",
            "  Installed Adapt ─────────────────────── v2.0.2\n",
            "  Installed x264_jll ──────────────────── v2019.5.25+2\n",
            "  Installed IterTools ─────────────────── v1.3.0\n",
            "  Installed StatsBase ─────────────────── v0.33.0\n",
            "  Installed DataStructures ────────────── v0.17.19\n",
            "  Installed Contour ───────────────────── v0.5.4\n",
            "  Installed OpenSSL_jll ───────────────── v1.1.1+4\n",
            "  Installed Opus_jll ──────────────────── v1.3.1+1\n",
            "  Installed FriBidi_jll ───────────────── v1.0.5+3\n",
            "  Installed Bzip2_jll ─────────────────── v1.0.6+2\n",
            "  Installed Colors ────────────────────── v0.12.3\n",
            "  Installed PlotThemes ────────────────── v2.0.0\n",
            "  Installed IniFile ───────────────────── v0.5.0\n",
            "  Installed IteratorInterfaceExtensions ─ v1.0.0\n",
            "  Installed SortingAlgorithms ─────────── v0.3.1\n",
            "  Installed x265_jll ──────────────────── v3.0.0+1\n",
            "  Installed GR ────────────────────────── v0.50.1\n",
            "  Installed Measures ──────────────────── v0.3.1\n",
            "  Installed OrderedCollections ────────── v1.3.0\n",
            "  Installed libfdk_aac_jll ────────────── v0.1.6+2\n",
            "  Installed FixedPointNumbers ─────────── v0.8.2\n",
            "  Installed GeometryBasics ────────────── v0.2.15\n",
            "  Installed Reexport ──────────────────── v0.2.0\n",
            "  Installed DataValueInterfaces ───────── v1.0.0\n",
            "  Installed Ogg_jll ───────────────────── v1.3.4+0\n",
            "  Installed PlotUtils ─────────────────── v1.0.5\n",
            "  Installed Tables ────────────────────── v1.0.4\n",
            "  Installed libvorbis_jll ─────────────── v1.3.6+4\n",
            "  Installed NaNMath ───────────────────── v0.3.3\n",
            "  Installed StaticArrays ──────────────── v0.12.4\n",
            "  Installed Missings ──────────────────── v0.4.3\n",
            "  Installed LAME_jll ──────────────────── v3.100.0+1\n",
            "  Installed Showoff ───────────────────── v0.3.1\n",
            "  Installed Zlib_jll ──────────────────── v1.2.11+14\n",
            "  Installed RecipesPipeline ───────────── v0.1.11\n",
            "  Installed ColorTypes ────────────────── v0.10.6\n",
            "  Installed libass_jll ────────────────── v0.14.0+2\n",
            "  Installed RecipesBase ───────────────── v1.0.1\n",
            "  Installed Requires ──────────────────── v1.0.1\n",
            "  Installed ColorSchemes ──────────────── v3.9.0\n",
            "  Installed GeometryTypes ─────────────── v0.8.3\n",
            "Downloading artifact: LibVPX\n",
            "######################################################################## 100.0%\n",
            "\u001b[1A\u001b[2K\u001b[?25hDownloading artifact: FFMPEG\n",
            "######################################################################## 100.0%\n",
            "\u001b[1A\u001b[2K\u001b[?25hDownloading artifact: FreeType2\n",
            "######################################################################## 100.0%\n",
            "\u001b[1A\u001b[2K\u001b[?25hDownloading artifact: x264\n",
            "######################################################################## 100.0%\n",
            "\u001b[1A\u001b[2K\u001b[?25hDownloading artifact: OpenSSL\n",
            "######################################################################## 100.0%\n",
            "\u001b[1A\u001b[2K\u001b[?25hDownloading artifact: Bzip2\n",
            "######################################################################## 100.0%\n",
            "\u001b[1A\u001b[2K\u001b[?25hDownloading artifact: FriBidi\n",
            "######################################################################## 100.0%\n",
            "\u001b[1A\u001b[2K\u001b[?25hDownloading artifact: Opus\n",
            "######################################################################## 100.0%\n",
            "\u001b[1A\u001b[2K\u001b[?25hDownloading artifact: x265\n",
            "######################################################################## 100.0%\n",
            "\u001b[1A\u001b[2K\u001b[?25hDownloading artifact: libfdk_aac\n",
            "######################################################################## 100.0%\n",
            "\u001b[1A\u001b[2K\u001b[?25hDownloading artifact: Ogg\n",
            "######################################################################## 100.0%\n",
            "\u001b[1A\u001b[2K\u001b[?25hDownloading artifact: libvorbis\n",
            "######################################################################## 100.0%\n",
            "\u001b[1A\u001b[2K\u001b[?25hDownloading artifact: LAME\n",
            "######################################################################## 100.0%\n",
            "\u001b[1A\u001b[2K\u001b[?25hDownloading artifact: Zlib\n",
            "######################################################################## 100.0%\n",
            "\u001b[1A\u001b[2K\u001b[?25hDownloading artifact: libass\n",
            "######################################################################## 100.0%\n",
            "\u001b[1A\u001b[2K\u001b[?25h   Updating `~/.julia/environments/v1.4/Project.toml`\n",
            "  [91a5bcdd] + Plots v1.5.4\n",
            "   Updating `~/.julia/environments/v1.4/Manifest.toml`\n",
            "  [79e6a3ab] + Adapt v2.0.2\n",
            "  [6e34b625] + Bzip2_jll v1.0.6+2\n",
            "  [35d6a980] + ColorSchemes v3.9.0\n",
            "  [3da002f7] + ColorTypes v0.10.6\n",
            "  [5ae59095] + Colors v0.12.3\n",
            "  [d38c429a] + Contour v0.5.4\n",
            "  [9a962f9c] + DataAPI v1.3.0\n",
            "  [864edb3b] + DataStructures v0.17.19\n",
            "  [e2d170a0] + DataValueInterfaces v1.0.0\n",
            "  [c87230d0] + FFMPEG v0.3.0\n",
            "  [b22a6f82] + FFMPEG_jll v4.1.0+3\n",
            "  [53c48c17] + FixedPointNumbers v0.8.2\n",
            "  [d7e528f0] + FreeType2_jll v2.10.1+2\n",
            "  [559328eb] + FriBidi_jll v1.0.5+3\n",
            "  [28b8d3ca] + GR v0.50.1\n",
            "  [5c1252a2] + GeometryBasics v0.2.15\n",
            "  [4d00f742] + GeometryTypes v0.8.3\n",
            "  [cd3eb016] + HTTP v0.8.16\n",
            "  [83e8ac13] + IniFile v0.5.0\n",
            "  [c8e1da08] + IterTools v1.3.0\n",
            "  [82899510] + IteratorInterfaceExtensions v1.0.0\n",
            "  [c1c5ebd0] + LAME_jll v3.100.0+1\n",
            "  [dd192d2f] + LibVPX_jll v1.8.1+1\n",
            "  [442fdcdd] + Measures v0.3.1\n",
            "  [e1d29d7a] + Missings v0.4.3\n",
            "  [77ba4419] + NaNMath v0.3.3\n",
            "  [e7412a2a] + Ogg_jll v1.3.4+0\n",
            "  [458c3c95] + OpenSSL_jll v1.1.1+4\n",
            "  [91d4177d] + Opus_jll v1.3.1+1\n",
            "  [bac558e1] + OrderedCollections v1.3.0\n",
            "  [ccf2f8ad] + PlotThemes v2.0.0\n",
            "  [995b91a9] + PlotUtils v1.0.5\n",
            "  [91a5bcdd] + Plots v1.5.4\n",
            "  [3cdcf5f2] + RecipesBase v1.0.1\n",
            "  [01d81517] + RecipesPipeline v0.1.11\n",
            "  [189a3867] + Reexport v0.2.0\n",
            "  [ae029012] + Requires v1.0.1\n",
            "  [992d4aef] + Showoff v0.3.1\n",
            "  [a2af1166] + SortingAlgorithms v0.3.1\n",
            "  [90137ffa] + StaticArrays v0.12.4\n",
            "  [2913bbd2] + StatsBase v0.33.0\n",
            "  [09ab397b] + StructArrays v0.4.4\n",
            "  [3783bdb8] + TableTraits v1.0.0\n",
            "  [bd369af6] + Tables v1.0.4\n",
            "  [83775a58] + Zlib_jll v1.2.11+14\n",
            "  [0ac62f75] + libass_jll v0.14.0+2\n",
            "  [f638f0a6] + libfdk_aac_jll v0.1.6+2\n",
            "  [f27f6e37] + libvorbis_jll v1.3.6+4\n",
            "  [1270edf5] + x264_jll v2019.5.25+2\n",
            "  [dfaa095f] + x265_jll v3.0.0+1\n",
            "  [8bb1440f] + DelimitedFiles \n",
            "   Building GR ───→ `~/.julia/packages/GR/Atztx/deps/build.log`\n",
            "   Building Plots → `~/.julia/packages/Plots/jpF9l/deps/build.log`\n",
            "Precompiling project...\n",
            "Installing Julia package CuArrays...\n",
            "   Updating registry at `~/.julia/registries/General`\n",
            "   Updating git-repo `https://github.com/JuliaRegistries/General.git`\n",
            "\u001b[?25l\u001b[2K\u001b[?25h  Resolving package versions...\n",
            "  Installed NNPACK_jll ────────── v2018.6.22+0\n",
            "  Installed CpuId ─────────────── v0.2.2\n",
            "  Installed UnPack ────────────── v1.0.1\n",
            "  Installed FoldingTrees ──────── v1.0.0\n",
            "  Installed Adapt ─────────────── v1.1.0\n",
            "  Installed CUDAapi ───────────── v4.0.0\n",
            "  Installed VectorizationBase ─── v0.12.21\n",
            "  Installed CuArrays ──────────── v2.2.2\n",
            "  Installed BinaryProvider ────── v0.5.10\n",
            "  Installed ExprTools ─────────── v0.1.1\n",
            "  Installed TimerOutputs ──────── v0.5.6\n",
            "  Installed AbstractTrees ─────── v0.3.3\n",
            "  Installed GPUCompiler ───────── v0.2.0\n",
            "  Installed SIMDPirates ───────── v0.8.13\n",
            "  Installed MacroTools ────────── v0.5.5\n",
            "  Installed CUDAdrv ───────────── v6.3.0\n",
            "  Installed CEnum ─────────────── v0.3.0\n",
            "  Installed Cthulhu ───────────── v1.2.0\n",
            "  Installed CodeTracking ──────── v1.0.0\n",
            "  Installed OffsetArrays ──────── v1.1.1\n",
            "  Installed NNlib ─────────────── v0.7.2\n",
            "  Installed CUDAnative ────────── v3.2.0\n",
            "  Installed LLVM ──────────────── v1.7.0\n",
            "  Installed AbstractFFTs ──────── v0.5.0\n",
            "  Installed DocStringExtensions ─ v0.8.2\n",
            "  Installed SLEEFPirates ──────── v0.5.4\n",
            "  Installed GPUArrays ─────────── v3.4.1\n",
            "  Installed LoopVectorization ─── v0.8.15\n",
            "Downloading artifact: NNPACK\n",
            "######################################################################## 100.0%\n",
            "\u001b[1A\u001b[2K\u001b[?25h   Updating `~/.julia/environments/v1.4/Project.toml`\n",
            "  [3a865a2d] + CuArrays v2.2.2\n",
            "   Updating `~/.julia/environments/v1.4/Manifest.toml`\n",
            "  [621f4979] + AbstractFFTs v0.5.0\n",
            "  [1520ce14] + AbstractTrees v0.3.3\n",
            "  [79e6a3ab] ↓ Adapt v2.0.2 ⇒ v1.1.0\n",
            "  [b99e7846] + BinaryProvider v0.5.10\n",
            "  [fa961155] + CEnum v0.3.0\n",
            "  [3895d2a7] + CUDAapi v4.0.0\n",
            "  [c5f51814] + CUDAdrv v6.3.0\n",
            "  [be33ccc6] + CUDAnative v3.2.0\n",
            "  [da1fd8a2] + CodeTracking v1.0.0\n",
            "  [adafc99b] + CpuId v0.2.2\n",
            "  [f68482b8] + Cthulhu v1.2.0\n",
            "  [3a865a2d] + CuArrays v2.2.2\n",
            "  [ffbed154] + DocStringExtensions v0.8.2\n",
            "  [e2ba6199] + ExprTools v0.1.1\n",
            "  [1eca21be] + FoldingTrees v1.0.0\n",
            "  [0c68f7d7] + GPUArrays v3.4.1\n",
            "  [61eb1bfa] + GPUCompiler v0.2.0\n",
            "  [929cbde3] + LLVM v1.7.0\n",
            "  [bdcacae8] + LoopVectorization v0.8.15\n",
            "  [1914dd2f] + MacroTools v0.5.5\n",
            "  [a6bfbf70] + NNPACK_jll v2018.6.22+0\n",
            "  [872c559c] + NNlib v0.7.2\n",
            "  [6fe1bfb0] + OffsetArrays v1.1.1\n",
            "  [21efa798] + SIMDPirates v0.8.13\n",
            "  [476501e8] + SLEEFPirates v0.5.4\n",
            "  [a759f4b9] + TimerOutputs v0.5.6\n",
            "  [3a884ed6] + UnPack v1.0.1\n",
            "  [3d5dd08c] + VectorizationBase v0.12.21\n",
            "   Building SLEEFPirates → `~/.julia/packages/SLEEFPirates/QzifL/deps/build.log`\n",
            "Precompiling project...\n",
            "Installing IJulia kernel...\n",
            "[ Info: Installing julia kernelspec in /root/.local/share/jupyter/kernels/julia-1.4\n",
            "\n",
            "Success! Please reload this page and jump to the next section.\n"
          ],
          "name": "stdout"
        },
        {
          "output_type": "execute_result",
          "data": {
            "text/plain": [
              ""
            ]
          },
          "metadata": {
            "tags": []
          },
          "execution_count": 1
        }
      ]
    },
    {
      "cell_type": "markdown",
      "metadata": {
        "id": "ilTPDY8hxe2g",
        "colab_type": "text"
      },
      "source": [
        "**Loading Packages**"
      ]
    },
    {
      "cell_type": "code",
      "metadata": {
        "id": "EEzvvzCl1i0F",
        "colab_type": "code",
        "colab": {
          "base_uri": "https://localhost:8080/",
          "height": 646
        },
        "outputId": "90aaa969-a11c-4a81-9e3c-60d31912b0d8"
      },
      "source": [
        "using Pkg\n",
        "Pkg.add(\"Flux\")"
      ],
      "execution_count": 1,
      "outputs": [
        {
          "output_type": "stream",
          "text": [
            "\u001b[32m\u001b[1m   Updating\u001b[22m\u001b[39m registry at `~/.julia/registries/General`\n"
          ],
          "name": "stderr"
        },
        {
          "output_type": "stream",
          "text": [
            "\u001b[?25l\u001b[2K"
          ],
          "name": "stdout"
        },
        {
          "output_type": "stream",
          "text": [
            "\u001b[32m\u001b[1m   Updating\u001b[22m\u001b[39m git-repo `https://github.com/JuliaRegistries/General.git`\n"
          ],
          "name": "stderr"
        },
        {
          "output_type": "stream",
          "text": [
            "\u001b[?25h"
          ],
          "name": "stdout"
        },
        {
          "output_type": "stream",
          "text": [
            "\u001b[32m\u001b[1m  Resolving\u001b[22m\u001b[39m package versions...\n",
            "\u001b[32m\u001b[1m  Installed\u001b[22m\u001b[39m OpenSpecFun_jll ────────────── v0.5.3+3\n",
            "\u001b[32m\u001b[1m  Installed\u001b[22m\u001b[39m CodecZlib ──────────────────── v0.7.0\n",
            "\u001b[32m\u001b[1m  Installed\u001b[22m\u001b[39m DiffResults ────────────────── v1.0.2\n",
            "\u001b[32m\u001b[1m  Installed\u001b[22m\u001b[39m ZipFile ────────────────────── v0.9.2\n",
            "\u001b[32m\u001b[1m  Installed\u001b[22m\u001b[39m Tracker ────────────────────── v0.2.7\n",
            "\u001b[32m\u001b[1m  Installed\u001b[22m\u001b[39m Juno ───────────────────────── v0.8.2\n",
            "\u001b[32m\u001b[1m  Installed\u001b[22m\u001b[39m ForwardDiff ────────────────── v0.10.12\n",
            "\u001b[32m\u001b[1m  Installed\u001b[22m\u001b[39m Flux ───────────────────────── v0.8.3\n",
            "\u001b[32m\u001b[1m  Installed\u001b[22m\u001b[39m CompilerSupportLibraries_jll ─ v0.3.3+0\n",
            "\u001b[32m\u001b[1m  Installed\u001b[22m\u001b[39m Media ──────────────────────── v0.5.0\n",
            "\u001b[32m\u001b[1m  Installed\u001b[22m\u001b[39m SpecialFunctions ───────────── v0.10.3\n",
            "\u001b[32m\u001b[1m  Installed\u001b[22m\u001b[39m CommonSubexpressions ───────── v0.3.0\n",
            "\u001b[32m\u001b[1m  Installed\u001b[22m\u001b[39m DiffRules ──────────────────── v1.0.1\n",
            "\u001b[32m\u001b[1m  Installed\u001b[22m\u001b[39m TranscodingStreams ─────────── v0.9.5\n",
            "######################################################################### 100.0%\n",
            "######################################################################### 100.0%\n",
            "\u001b[32m\u001b[1m   Updating\u001b[22m\u001b[39m `~/.julia/environments/v1.4/Project.toml`\n",
            " \u001b[90m [587475ba]\u001b[39m\u001b[92m + Flux v0.8.3\u001b[39m\n",
            "\u001b[32m\u001b[1m   Updating\u001b[22m\u001b[39m `~/.julia/environments/v1.4/Manifest.toml`\n",
            " \u001b[90m [944b1d66]\u001b[39m\u001b[92m + CodecZlib v0.7.0\u001b[39m\n",
            " \u001b[90m [bbf7d656]\u001b[39m\u001b[92m + CommonSubexpressions v0.3.0\u001b[39m\n",
            " \u001b[90m [e66e0078]\u001b[39m\u001b[92m + CompilerSupportLibraries_jll v0.3.3+0\u001b[39m\n",
            " \u001b[90m [163ba53b]\u001b[39m\u001b[92m + DiffResults v1.0.2\u001b[39m\n",
            " \u001b[90m [b552c78f]\u001b[39m\u001b[92m + DiffRules v1.0.1\u001b[39m\n",
            " \u001b[90m [587475ba]\u001b[39m\u001b[92m + Flux v0.8.3\u001b[39m\n",
            " \u001b[90m [f6369f11]\u001b[39m\u001b[92m + ForwardDiff v0.10.12\u001b[39m\n",
            " \u001b[90m [e5e0dc1b]\u001b[39m\u001b[92m + Juno v0.8.2\u001b[39m\n",
            " \u001b[90m [e89f7d12]\u001b[39m\u001b[92m + Media v0.5.0\u001b[39m\n",
            " \u001b[90m [efe28fd5]\u001b[39m\u001b[92m + OpenSpecFun_jll v0.5.3+3\u001b[39m\n",
            " \u001b[90m [276daf66]\u001b[39m\u001b[92m + SpecialFunctions v0.10.3\u001b[39m\n",
            " \u001b[90m [9f7883ad]\u001b[39m\u001b[92m + Tracker v0.2.7\u001b[39m\n",
            " \u001b[90m [3bb67fe8]\u001b[39m\u001b[92m + TranscodingStreams v0.9.5\u001b[39m\n",
            " \u001b[90m [a5390f91]\u001b[39m\u001b[92m + ZipFile v0.9.2\u001b[39m\n",
            " \u001b[90m [9abbd945]\u001b[39m\u001b[92m + Profile \u001b[39m\n"
          ],
          "name": "stderr"
        }
      ]
    },
    {
      "cell_type": "code",
      "metadata": {
        "id": "yQlpeR9wNOi8",
        "colab_type": "code",
        "colab": {
          "base_uri": "https://localhost:8080/",
          "height": 85
        },
        "outputId": "798abc17-638d-4865-f426-c17560d0180f"
      },
      "source": [
        "using Plots,Statistics,Flux,Flux.Data.MNIST,Printf"
      ],
      "execution_count": 2,
      "outputs": [
        {
          "output_type": "stream",
          "text": [
            "┌ Info: Precompiling Plots [91a5bcdd-55d7-5caf-9e0b-520d859cae80]\n",
            "└ @ Base loading.jl:1260\n",
            "┌ Info: Precompiling Flux [587475ba-b771-5e3f-ad9e-33799f191a9c]\n",
            "└ @ Base loading.jl:1260\n"
          ],
          "name": "stderr"
        }
      ]
    },
    {
      "cell_type": "code",
      "metadata": {
        "id": "dUwOyTMSWQ1y",
        "colab_type": "code",
        "colab": {}
      },
      "source": [
        "using Base.Iterators: repeated, partition"
      ],
      "execution_count": 3,
      "outputs": []
    },
    {
      "cell_type": "code",
      "metadata": {
        "id": "g2h_M5WDWc7X",
        "colab_type": "code",
        "colab": {}
      },
      "source": [
        "using Flux: onehotbatch, onecold, crossentropy, throttle"
      ],
      "execution_count": 4,
      "outputs": []
    },
    {
      "cell_type": "code",
      "metadata": {
        "id": "llNSktbiXP9l",
        "colab_type": "code",
        "colab": {
          "base_uri": "https://localhost:8080/",
          "height": 119
        },
        "outputId": "30c82183-1e93-40d1-fcc9-e13f232bf3e9"
      },
      "source": [
        "Pkg.add(\"BSON\")"
      ],
      "execution_count": 5,
      "outputs": [
        {
          "output_type": "stream",
          "text": [
            "\u001b[32m\u001b[1m  Resolving\u001b[22m\u001b[39m package versions...\n",
            "\u001b[32m\u001b[1m  Installed\u001b[22m\u001b[39m BSON ─ v0.2.6\n",
            "\u001b[32m\u001b[1m   Updating\u001b[22m\u001b[39m `~/.julia/environments/v1.4/Project.toml`\n",
            " \u001b[90m [fbb218c0]\u001b[39m\u001b[92m + BSON v0.2.6\u001b[39m\n",
            "\u001b[32m\u001b[1m   Updating\u001b[22m\u001b[39m `~/.julia/environments/v1.4/Manifest.toml`\n",
            " \u001b[90m [fbb218c0]\u001b[39m\u001b[92m + BSON v0.2.6\u001b[39m\n"
          ],
          "name": "stderr"
        }
      ]
    },
    {
      "cell_type": "code",
      "metadata": {
        "id": "n8o-YbiOXOZF",
        "colab_type": "code",
        "colab": {
          "base_uri": "https://localhost:8080/",
          "height": 51
        },
        "outputId": "ac4ae84c-99f0-4443-bb19-d05600b7d8b8"
      },
      "source": [
        "using  BSON"
      ],
      "execution_count": 6,
      "outputs": [
        {
          "output_type": "stream",
          "text": [
            "┌ Info: Precompiling BSON [fbb218c0-5317-5bc6-957e-2ee96dd4b1f0]\n",
            "└ @ Base loading.jl:1260\n"
          ],
          "name": "stderr"
        }
      ]
    },
    {
      "cell_type": "markdown",
      "metadata": {
        "id": "pVIR-RA7xiwg",
        "colab_type": "text"
      },
      "source": [
        "**Loading Data**"
      ]
    },
    {
      "cell_type": "markdown",
      "metadata": {
        "id": "l3-Y3KM2xoAg",
        "colab_type": "text"
      },
      "source": [
        "we load data from julia package itself"
      ]
    },
    {
      "cell_type": "code",
      "metadata": {
        "id": "uxaCJYylPtv0",
        "colab_type": "code",
        "colab": {
          "base_uri": "https://localhost:8080/",
          "height": 612
        },
        "outputId": "213dbf9f-2577-4ba0-a4c2-9e71f0c2e610"
      },
      "source": [
        "\n",
        "train_label= MNIST.labels(:train)"
      ],
      "execution_count": 7,
      "outputs": [
        {
          "output_type": "stream",
          "text": [
            "┌ Info: Downloading MNIST dataset\n",
            "└ @ Flux.Data.MNIST /root/.julia/packages/Flux/qXNjB/src/data/mnist.jl:24\n",
            "┌ Info: Downloading MNIST dataset\n",
            "└ @ Flux.Data.MNIST /root/.julia/packages/Flux/qXNjB/src/data/mnist.jl:24\n",
            "┌ Info: Downloading MNIST dataset\n",
            "└ @ Flux.Data.MNIST /root/.julia/packages/Flux/qXNjB/src/data/mnist.jl:24\n",
            "┌ Info: Downloading MNIST dataset\n",
            "└ @ Flux.Data.MNIST /root/.julia/packages/Flux/qXNjB/src/data/mnist.jl:24\n"
          ],
          "name": "stderr"
        },
        {
          "output_type": "execute_result",
          "data": {
            "text/plain": [
              "60000-element Array{Int64,1}:\n",
              " 5\n",
              " 0\n",
              " 4\n",
              " 1\n",
              " 9\n",
              " 2\n",
              " 1\n",
              " 3\n",
              " 1\n",
              " 4\n",
              " 3\n",
              " 5\n",
              " 3\n",
              " ⋮\n",
              " 7\n",
              " 8\n",
              " 9\n",
              " 2\n",
              " 9\n",
              " 5\n",
              " 1\n",
              " 8\n",
              " 3\n",
              " 5\n",
              " 6\n",
              " 8"
            ]
          },
          "metadata": {
            "tags": []
          },
          "execution_count": 7
        }
      ]
    },
    {
      "cell_type": "code",
      "metadata": {
        "id": "tMYkUtlIQCyn",
        "colab_type": "code",
        "colab": {
          "base_uri": "https://localhost:8080/",
          "height": 496
        },
        "outputId": "ac90e36b-394d-487b-8f42-7a97d964d795"
      },
      "source": [
        "train_img = MNIST.images(:train)"
      ],
      "execution_count": 8,
      "outputs": [
        {
          "output_type": "execute_result",
          "data": {
            "text/plain": [
              "60000-element Array{Array{Gray{FixedPointNumbers.Normed{UInt8,8}},2},1}:\n",
              " [Gray{N0f8}(0.0) Gray{N0f8}(0.0) … Gray{N0f8}(0.0) Gray{N0f8}(0.0); Gray{N0f8}(0.0) Gray{N0f8}(0.0) … Gray{N0f8}(0.0) Gray{N0f8}(0.0); … ; Gray{N0f8}(0.0) Gray{N0f8}(0.0) … Gray{N0f8}(0.0) Gray{N0f8}(0.0); Gray{N0f8}(0.0) Gray{N0f8}(0.0) … Gray{N0f8}(0.0) Gray{N0f8}(0.0)]\n",
              " [Gray{N0f8}(0.0) Gray{N0f8}(0.0) … Gray{N0f8}(0.0) Gray{N0f8}(0.0); Gray{N0f8}(0.0) Gray{N0f8}(0.0) … Gray{N0f8}(0.0) Gray{N0f8}(0.0); … ; Gray{N0f8}(0.0) Gray{N0f8}(0.0) … Gray{N0f8}(0.0) Gray{N0f8}(0.0); Gray{N0f8}(0.0) Gray{N0f8}(0.0) … Gray{N0f8}(0.0) Gray{N0f8}(0.0)]\n",
              " [Gray{N0f8}(0.0) Gray{N0f8}(0.0) … Gray{N0f8}(0.0) Gray{N0f8}(0.0); Gray{N0f8}(0.0) Gray{N0f8}(0.0) … Gray{N0f8}(0.0) Gray{N0f8}(0.0); … ; Gray{N0f8}(0.0) Gray{N0f8}(0.0) … Gray{N0f8}(0.0) Gray{N0f8}(0.0); Gray{N0f8}(0.0) Gray{N0f8}(0.0) … Gray{N0f8}(0.0) Gray{N0f8}(0.0)]\n",
              " [Gray{N0f8}(0.0) Gray{N0f8}(0.0) … Gray{N0f8}(0.0) Gray{N0f8}(0.0); Gray{N0f8}(0.0) Gray{N0f8}(0.0) … Gray{N0f8}(0.0) Gray{N0f8}(0.0); … ; Gray{N0f8}(0.0) Gray{N0f8}(0.0) … Gray{N0f8}(0.0) Gray{N0f8}(0.0); Gray{N0f8}(0.0) Gray{N0f8}(0.0) … Gray{N0f8}(0.0) Gray{N0f8}(0.0)]\n",
              " [Gray{N0f8}(0.0) Gray{N0f8}(0.0) … Gray{N0f8}(0.0) Gray{N0f8}(0.0); Gray{N0f8}(0.0) Gray{N0f8}(0.0) … Gray{N0f8}(0.0) Gray{N0f8}(0.0); … ; Gray{N0f8}(0.0) Gray{N0f8}(0.0) … Gray{N0f8}(0.0) Gray{N0f8}(0.0); Gray{N0f8}(0.0) Gray{N0f8}(0.0) … Gray{N0f8}(0.0) Gray{N0f8}(0.0)]\n",
              " [Gray{N0f8}(0.0) Gray{N0f8}(0.0) … Gray{N0f8}(0.0) Gray{N0f8}(0.0); Gray{N0f8}(0.0) Gray{N0f8}(0.0) … Gray{N0f8}(0.0) Gray{N0f8}(0.0); … ; Gray{N0f8}(0.0) Gray{N0f8}(0.0) … Gray{N0f8}(0.0) Gray{N0f8}(0.0); Gray{N0f8}(0.0) Gray{N0f8}(0.0) … Gray{N0f8}(0.0) Gray{N0f8}(0.0)]\n",
              " [Gray{N0f8}(0.0) Gray{N0f8}(0.0) … Gray{N0f8}(0.0) Gray{N0f8}(0.0); Gray{N0f8}(0.0) Gray{N0f8}(0.0) … Gray{N0f8}(0.0) Gray{N0f8}(0.0); … ; Gray{N0f8}(0.0) Gray{N0f8}(0.0) … Gray{N0f8}(0.0) Gray{N0f8}(0.0); Gray{N0f8}(0.0) Gray{N0f8}(0.0) … Gray{N0f8}(0.0) Gray{N0f8}(0.0)]\n",
              " [Gray{N0f8}(0.0) Gray{N0f8}(0.0) … Gray{N0f8}(0.0) Gray{N0f8}(0.0); Gray{N0f8}(0.0) Gray{N0f8}(0.0) … Gray{N0f8}(0.0) Gray{N0f8}(0.0); … ; Gray{N0f8}(0.0) Gray{N0f8}(0.0) … Gray{N0f8}(0.0) Gray{N0f8}(0.0); Gray{N0f8}(0.0) Gray{N0f8}(0.0) … Gray{N0f8}(0.0) Gray{N0f8}(0.0)]\n",
              " [Gray{N0f8}(0.0) Gray{N0f8}(0.0) … Gray{N0f8}(0.0) Gray{N0f8}(0.0); Gray{N0f8}(0.0) Gray{N0f8}(0.0) … Gray{N0f8}(0.0) Gray{N0f8}(0.0); … ; Gray{N0f8}(0.0) Gray{N0f8}(0.0) … Gray{N0f8}(0.0) Gray{N0f8}(0.0); Gray{N0f8}(0.0) Gray{N0f8}(0.0) … Gray{N0f8}(0.0) Gray{N0f8}(0.0)]\n",
              " [Gray{N0f8}(0.0) Gray{N0f8}(0.0) … Gray{N0f8}(0.0) Gray{N0f8}(0.0); Gray{N0f8}(0.0) Gray{N0f8}(0.0) … Gray{N0f8}(0.0) Gray{N0f8}(0.0); … ; Gray{N0f8}(0.0) Gray{N0f8}(0.0) … Gray{N0f8}(0.0) Gray{N0f8}(0.0); Gray{N0f8}(0.0) Gray{N0f8}(0.0) … Gray{N0f8}(0.0) Gray{N0f8}(0.0)]\n",
              " [Gray{N0f8}(0.0) Gray{N0f8}(0.0) … Gray{N0f8}(0.0) Gray{N0f8}(0.0); Gray{N0f8}(0.0) Gray{N0f8}(0.0) … Gray{N0f8}(0.0) Gray{N0f8}(0.0); … ; Gray{N0f8}(0.0) Gray{N0f8}(0.0) … Gray{N0f8}(0.0) Gray{N0f8}(0.0); Gray{N0f8}(0.0) Gray{N0f8}(0.0) … Gray{N0f8}(0.0) Gray{N0f8}(0.0)]\n",
              " [Gray{N0f8}(0.0) Gray{N0f8}(0.0) … Gray{N0f8}(0.0) Gray{N0f8}(0.0); Gray{N0f8}(0.0) Gray{N0f8}(0.0) … Gray{N0f8}(0.0) Gray{N0f8}(0.0); … ; Gray{N0f8}(0.0) Gray{N0f8}(0.0) … Gray{N0f8}(0.0) Gray{N0f8}(0.0); Gray{N0f8}(0.0) Gray{N0f8}(0.0) … Gray{N0f8}(0.0) Gray{N0f8}(0.0)]\n",
              " [Gray{N0f8}(0.0) Gray{N0f8}(0.0) … Gray{N0f8}(0.0) Gray{N0f8}(0.0); Gray{N0f8}(0.0) Gray{N0f8}(0.0) … Gray{N0f8}(0.0) Gray{N0f8}(0.0); … ; Gray{N0f8}(0.0) Gray{N0f8}(0.0) … Gray{N0f8}(0.0) Gray{N0f8}(0.0); Gray{N0f8}(0.0) Gray{N0f8}(0.0) … Gray{N0f8}(0.0) Gray{N0f8}(0.0)]\n",
              " ⋮\n",
              " [Gray{N0f8}(0.0) Gray{N0f8}(0.0) … Gray{N0f8}(0.0) Gray{N0f8}(0.0); Gray{N0f8}(0.0) Gray{N0f8}(0.0) … Gray{N0f8}(0.0) Gray{N0f8}(0.0); … ; Gray{N0f8}(0.0) Gray{N0f8}(0.0) … Gray{N0f8}(0.0) Gray{N0f8}(0.0); Gray{N0f8}(0.0) Gray{N0f8}(0.0) … Gray{N0f8}(0.0) Gray{N0f8}(0.0)]\n",
              " [Gray{N0f8}(0.0) Gray{N0f8}(0.0) … Gray{N0f8}(0.0) Gray{N0f8}(0.0); Gray{N0f8}(0.0) Gray{N0f8}(0.0) … Gray{N0f8}(0.0) Gray{N0f8}(0.0); … ; Gray{N0f8}(0.0) Gray{N0f8}(0.0) … Gray{N0f8}(0.0) Gray{N0f8}(0.0); Gray{N0f8}(0.0) Gray{N0f8}(0.0) … Gray{N0f8}(0.0) Gray{N0f8}(0.0)]\n",
              " [Gray{N0f8}(0.0) Gray{N0f8}(0.0) … Gray{N0f8}(0.0) Gray{N0f8}(0.0); Gray{N0f8}(0.0) Gray{N0f8}(0.0) … Gray{N0f8}(0.0) Gray{N0f8}(0.0); … ; Gray{N0f8}(0.0) Gray{N0f8}(0.0) … Gray{N0f8}(0.0) Gray{N0f8}(0.0); Gray{N0f8}(0.0) Gray{N0f8}(0.0) … Gray{N0f8}(0.0) Gray{N0f8}(0.0)]\n",
              " [Gray{N0f8}(0.0) Gray{N0f8}(0.0) … Gray{N0f8}(0.0) Gray{N0f8}(0.0); Gray{N0f8}(0.0) Gray{N0f8}(0.0) … Gray{N0f8}(0.0) Gray{N0f8}(0.0); … ; Gray{N0f8}(0.0) Gray{N0f8}(0.0) … Gray{N0f8}(0.0) Gray{N0f8}(0.0); Gray{N0f8}(0.0) Gray{N0f8}(0.0) … Gray{N0f8}(0.0) Gray{N0f8}(0.0)]\n",
              " [Gray{N0f8}(0.0) Gray{N0f8}(0.0) … Gray{N0f8}(0.0) Gray{N0f8}(0.0); Gray{N0f8}(0.0) Gray{N0f8}(0.0) … Gray{N0f8}(0.0) Gray{N0f8}(0.0); … ; Gray{N0f8}(0.0) Gray{N0f8}(0.0) … Gray{N0f8}(0.0) Gray{N0f8}(0.0); Gray{N0f8}(0.0) Gray{N0f8}(0.0) … Gray{N0f8}(0.0) Gray{N0f8}(0.0)]\n",
              " [Gray{N0f8}(0.0) Gray{N0f8}(0.0) … Gray{N0f8}(0.0) Gray{N0f8}(0.0); Gray{N0f8}(0.0) Gray{N0f8}(0.0) … Gray{N0f8}(0.0) Gray{N0f8}(0.0); … ; Gray{N0f8}(0.0) Gray{N0f8}(0.0) … Gray{N0f8}(0.0) Gray{N0f8}(0.0); Gray{N0f8}(0.0) Gray{N0f8}(0.0) … Gray{N0f8}(0.0) Gray{N0f8}(0.0)]\n",
              " [Gray{N0f8}(0.0) Gray{N0f8}(0.0) … Gray{N0f8}(0.0) Gray{N0f8}(0.0); Gray{N0f8}(0.0) Gray{N0f8}(0.0) … Gray{N0f8}(0.0) Gray{N0f8}(0.0); … ; Gray{N0f8}(0.0) Gray{N0f8}(0.0) … Gray{N0f8}(0.0) Gray{N0f8}(0.0); Gray{N0f8}(0.0) Gray{N0f8}(0.0) … Gray{N0f8}(0.0) Gray{N0f8}(0.0)]\n",
              " [Gray{N0f8}(0.0) Gray{N0f8}(0.0) … Gray{N0f8}(0.0) Gray{N0f8}(0.0); Gray{N0f8}(0.0) Gray{N0f8}(0.0) … Gray{N0f8}(0.0) Gray{N0f8}(0.0); … ; Gray{N0f8}(0.0) Gray{N0f8}(0.0) … Gray{N0f8}(0.0) Gray{N0f8}(0.0); Gray{N0f8}(0.0) Gray{N0f8}(0.0) … Gray{N0f8}(0.0) Gray{N0f8}(0.0)]\n",
              " [Gray{N0f8}(0.0) Gray{N0f8}(0.0) … Gray{N0f8}(0.0) Gray{N0f8}(0.0); Gray{N0f8}(0.0) Gray{N0f8}(0.0) … Gray{N0f8}(0.0) Gray{N0f8}(0.0); … ; Gray{N0f8}(0.0) Gray{N0f8}(0.0) … Gray{N0f8}(0.0) Gray{N0f8}(0.0); Gray{N0f8}(0.0) Gray{N0f8}(0.0) … Gray{N0f8}(0.0) Gray{N0f8}(0.0)]\n",
              " [Gray{N0f8}(0.0) Gray{N0f8}(0.0) … Gray{N0f8}(0.0) Gray{N0f8}(0.0); Gray{N0f8}(0.0) Gray{N0f8}(0.0) … Gray{N0f8}(0.0) Gray{N0f8}(0.0); … ; Gray{N0f8}(0.0) Gray{N0f8}(0.0) … Gray{N0f8}(0.0) Gray{N0f8}(0.0); Gray{N0f8}(0.0) Gray{N0f8}(0.0) … Gray{N0f8}(0.0) Gray{N0f8}(0.0)]\n",
              " [Gray{N0f8}(0.0) Gray{N0f8}(0.0) … Gray{N0f8}(0.0) Gray{N0f8}(0.0); Gray{N0f8}(0.0) Gray{N0f8}(0.0) … Gray{N0f8}(0.0) Gray{N0f8}(0.0); … ; Gray{N0f8}(0.0) Gray{N0f8}(0.0) … Gray{N0f8}(0.0) Gray{N0f8}(0.0); Gray{N0f8}(0.0) Gray{N0f8}(0.0) … Gray{N0f8}(0.0) Gray{N0f8}(0.0)]\n",
              " [Gray{N0f8}(0.0) Gray{N0f8}(0.0) … Gray{N0f8}(0.0) Gray{N0f8}(0.0); Gray{N0f8}(0.0) Gray{N0f8}(0.0) … Gray{N0f8}(0.0) Gray{N0f8}(0.0); … ; Gray{N0f8}(0.0) Gray{N0f8}(0.0) … Gray{N0f8}(0.0) Gray{N0f8}(0.0); Gray{N0f8}(0.0) Gray{N0f8}(0.0) … Gray{N0f8}(0.0) Gray{N0f8}(0.0)]"
            ]
          },
          "metadata": {
            "tags": []
          },
          "execution_count": 8
        }
      ]
    },
    {
      "cell_type": "code",
      "metadata": {
        "id": "OTxgOSa4Qmbl",
        "colab_type": "code",
        "colab": {
          "base_uri": "https://localhost:8080/",
          "height": 476
        },
        "outputId": "cf7703f4-5bbd-4e49-bb5f-99cc90cebd9c"
      },
      "source": [
        "test_label = MNIST.labels(:test)   # load labels"
      ],
      "execution_count": 9,
      "outputs": [
        {
          "output_type": "execute_result",
          "data": {
            "text/plain": [
              "10000-element Array{Int64,1}:\n",
              " 7\n",
              " 2\n",
              " 1\n",
              " 0\n",
              " 4\n",
              " 1\n",
              " 4\n",
              " 9\n",
              " 5\n",
              " 9\n",
              " 0\n",
              " 6\n",
              " 9\n",
              " ⋮\n",
              " 5\n",
              " 6\n",
              " 7\n",
              " 8\n",
              " 9\n",
              " 0\n",
              " 1\n",
              " 2\n",
              " 3\n",
              " 4\n",
              " 5\n",
              " 6"
            ]
          },
          "metadata": {
            "tags": []
          },
          "execution_count": 9
        }
      ]
    },
    {
      "cell_type": "code",
      "metadata": {
        "id": "1m0qjFLwQt7Z",
        "colab_type": "code",
        "colab": {
          "base_uri": "https://localhost:8080/",
          "height": 496
        },
        "outputId": "52ad9d51-a670-4e88-875a-4327264d6168"
      },
      "source": [
        "\n",
        "test_img =MNIST.images(:test) # load test labels"
      ],
      "execution_count": 10,
      "outputs": [
        {
          "output_type": "execute_result",
          "data": {
            "text/plain": [
              "10000-element Array{Array{Gray{FixedPointNumbers.Normed{UInt8,8}},2},1}:\n",
              " [Gray{N0f8}(0.0) Gray{N0f8}(0.0) … Gray{N0f8}(0.0) Gray{N0f8}(0.0); Gray{N0f8}(0.0) Gray{N0f8}(0.0) … Gray{N0f8}(0.0) Gray{N0f8}(0.0); … ; Gray{N0f8}(0.0) Gray{N0f8}(0.0) … Gray{N0f8}(0.0) Gray{N0f8}(0.0); Gray{N0f8}(0.0) Gray{N0f8}(0.0) … Gray{N0f8}(0.0) Gray{N0f8}(0.0)]\n",
              " [Gray{N0f8}(0.0) Gray{N0f8}(0.0) … Gray{N0f8}(0.0) Gray{N0f8}(0.0); Gray{N0f8}(0.0) Gray{N0f8}(0.0) … Gray{N0f8}(0.0) Gray{N0f8}(0.0); … ; Gray{N0f8}(0.0) Gray{N0f8}(0.0) … Gray{N0f8}(0.0) Gray{N0f8}(0.0); Gray{N0f8}(0.0) Gray{N0f8}(0.0) … Gray{N0f8}(0.0) Gray{N0f8}(0.0)]\n",
              " [Gray{N0f8}(0.0) Gray{N0f8}(0.0) … Gray{N0f8}(0.0) Gray{N0f8}(0.0); Gray{N0f8}(0.0) Gray{N0f8}(0.0) … Gray{N0f8}(0.0) Gray{N0f8}(0.0); … ; Gray{N0f8}(0.0) Gray{N0f8}(0.0) … Gray{N0f8}(0.0) Gray{N0f8}(0.0); Gray{N0f8}(0.0) Gray{N0f8}(0.0) … Gray{N0f8}(0.0) Gray{N0f8}(0.0)]\n",
              " [Gray{N0f8}(0.0) Gray{N0f8}(0.0) … Gray{N0f8}(0.0) Gray{N0f8}(0.0); Gray{N0f8}(0.0) Gray{N0f8}(0.0) … Gray{N0f8}(0.0) Gray{N0f8}(0.0); … ; Gray{N0f8}(0.0) Gray{N0f8}(0.0) … Gray{N0f8}(0.0) Gray{N0f8}(0.0); Gray{N0f8}(0.0) Gray{N0f8}(0.0) … Gray{N0f8}(0.0) Gray{N0f8}(0.0)]\n",
              " [Gray{N0f8}(0.0) Gray{N0f8}(0.0) … Gray{N0f8}(0.0) Gray{N0f8}(0.0); Gray{N0f8}(0.0) Gray{N0f8}(0.0) … Gray{N0f8}(0.0) Gray{N0f8}(0.0); … ; Gray{N0f8}(0.0) Gray{N0f8}(0.0) … Gray{N0f8}(0.0) Gray{N0f8}(0.0); Gray{N0f8}(0.0) Gray{N0f8}(0.0) … Gray{N0f8}(0.0) Gray{N0f8}(0.0)]\n",
              " [Gray{N0f8}(0.0) Gray{N0f8}(0.0) … Gray{N0f8}(0.0) Gray{N0f8}(0.0); Gray{N0f8}(0.0) Gray{N0f8}(0.0) … Gray{N0f8}(0.0) Gray{N0f8}(0.0); … ; Gray{N0f8}(0.0) Gray{N0f8}(0.0) … Gray{N0f8}(0.0) Gray{N0f8}(0.0); Gray{N0f8}(0.0) Gray{N0f8}(0.0) … Gray{N0f8}(0.0) Gray{N0f8}(0.0)]\n",
              " [Gray{N0f8}(0.0) Gray{N0f8}(0.0) … Gray{N0f8}(0.0) Gray{N0f8}(0.0); Gray{N0f8}(0.0) Gray{N0f8}(0.0) … Gray{N0f8}(0.0) Gray{N0f8}(0.0); … ; Gray{N0f8}(0.0) Gray{N0f8}(0.0) … Gray{N0f8}(0.0) Gray{N0f8}(0.0); Gray{N0f8}(0.0) Gray{N0f8}(0.0) … Gray{N0f8}(0.0) Gray{N0f8}(0.0)]\n",
              " [Gray{N0f8}(0.0) Gray{N0f8}(0.0) … Gray{N0f8}(0.0) Gray{N0f8}(0.0); Gray{N0f8}(0.0) Gray{N0f8}(0.0) … Gray{N0f8}(0.0) Gray{N0f8}(0.0); … ; Gray{N0f8}(0.0) Gray{N0f8}(0.0) … Gray{N0f8}(0.0) Gray{N0f8}(0.0); Gray{N0f8}(0.0) Gray{N0f8}(0.0) … Gray{N0f8}(0.0) Gray{N0f8}(0.0)]\n",
              " [Gray{N0f8}(0.0) Gray{N0f8}(0.0) … Gray{N0f8}(0.0) Gray{N0f8}(0.0); Gray{N0f8}(0.0) Gray{N0f8}(0.0) … Gray{N0f8}(0.0) Gray{N0f8}(0.0); … ; Gray{N0f8}(0.0) Gray{N0f8}(0.0) … Gray{N0f8}(0.0) Gray{N0f8}(0.0); Gray{N0f8}(0.0) Gray{N0f8}(0.0) … Gray{N0f8}(0.0) Gray{N0f8}(0.0)]\n",
              " [Gray{N0f8}(0.0) Gray{N0f8}(0.0) … Gray{N0f8}(0.0) Gray{N0f8}(0.0); Gray{N0f8}(0.0) Gray{N0f8}(0.0) … Gray{N0f8}(0.0) Gray{N0f8}(0.0); … ; Gray{N0f8}(0.0) Gray{N0f8}(0.0) … Gray{N0f8}(0.0) Gray{N0f8}(0.0); Gray{N0f8}(0.0) Gray{N0f8}(0.0) … Gray{N0f8}(0.0) Gray{N0f8}(0.0)]\n",
              " [Gray{N0f8}(0.0) Gray{N0f8}(0.0) … Gray{N0f8}(0.0) Gray{N0f8}(0.0); Gray{N0f8}(0.0) Gray{N0f8}(0.0) … Gray{N0f8}(0.0) Gray{N0f8}(0.0); … ; Gray{N0f8}(0.0) Gray{N0f8}(0.0) … Gray{N0f8}(0.0) Gray{N0f8}(0.0); Gray{N0f8}(0.0) Gray{N0f8}(0.0) … Gray{N0f8}(0.0) Gray{N0f8}(0.0)]\n",
              " [Gray{N0f8}(0.0) Gray{N0f8}(0.0) … Gray{N0f8}(0.0) Gray{N0f8}(0.0); Gray{N0f8}(0.0) Gray{N0f8}(0.0) … Gray{N0f8}(0.0) Gray{N0f8}(0.0); … ; Gray{N0f8}(0.0) Gray{N0f8}(0.0) … Gray{N0f8}(0.0) Gray{N0f8}(0.0); Gray{N0f8}(0.0) Gray{N0f8}(0.0) … Gray{N0f8}(0.0) Gray{N0f8}(0.0)]\n",
              " [Gray{N0f8}(0.0) Gray{N0f8}(0.0) … Gray{N0f8}(0.0) Gray{N0f8}(0.0); Gray{N0f8}(0.0) Gray{N0f8}(0.0) … Gray{N0f8}(0.0) Gray{N0f8}(0.0); … ; Gray{N0f8}(0.0) Gray{N0f8}(0.0) … Gray{N0f8}(0.0) Gray{N0f8}(0.0); Gray{N0f8}(0.0) Gray{N0f8}(0.0) … Gray{N0f8}(0.0) Gray{N0f8}(0.0)]\n",
              " ⋮\n",
              " [Gray{N0f8}(0.0) Gray{N0f8}(0.0) … Gray{N0f8}(0.0) Gray{N0f8}(0.0); Gray{N0f8}(0.0) Gray{N0f8}(0.0) … Gray{N0f8}(0.0) Gray{N0f8}(0.0); … ; Gray{N0f8}(0.0) Gray{N0f8}(0.0) … Gray{N0f8}(0.0) Gray{N0f8}(0.0); Gray{N0f8}(0.0) Gray{N0f8}(0.0) … Gray{N0f8}(0.0) Gray{N0f8}(0.0)]\n",
              " [Gray{N0f8}(0.0) Gray{N0f8}(0.0) … Gray{N0f8}(0.0) Gray{N0f8}(0.0); Gray{N0f8}(0.0) Gray{N0f8}(0.0) … Gray{N0f8}(0.0) Gray{N0f8}(0.0); … ; Gray{N0f8}(0.0) Gray{N0f8}(0.0) … Gray{N0f8}(0.0) Gray{N0f8}(0.0); Gray{N0f8}(0.0) Gray{N0f8}(0.0) … Gray{N0f8}(0.0) Gray{N0f8}(0.0)]\n",
              " [Gray{N0f8}(0.0) Gray{N0f8}(0.0) … Gray{N0f8}(0.0) Gray{N0f8}(0.0); Gray{N0f8}(0.0) Gray{N0f8}(0.0) … Gray{N0f8}(0.0) Gray{N0f8}(0.0); … ; Gray{N0f8}(0.0) Gray{N0f8}(0.0) … Gray{N0f8}(0.0) Gray{N0f8}(0.0); Gray{N0f8}(0.0) Gray{N0f8}(0.0) … Gray{N0f8}(0.0) Gray{N0f8}(0.0)]\n",
              " [Gray{N0f8}(0.0) Gray{N0f8}(0.0) … Gray{N0f8}(0.0) Gray{N0f8}(0.0); Gray{N0f8}(0.0) Gray{N0f8}(0.0) … Gray{N0f8}(0.0) Gray{N0f8}(0.0); … ; Gray{N0f8}(0.0) Gray{N0f8}(0.0) … Gray{N0f8}(0.0) Gray{N0f8}(0.0); Gray{N0f8}(0.0) Gray{N0f8}(0.0) … Gray{N0f8}(0.0) Gray{N0f8}(0.0)]\n",
              " [Gray{N0f8}(0.0) Gray{N0f8}(0.0) … Gray{N0f8}(0.0) Gray{N0f8}(0.0); Gray{N0f8}(0.0) Gray{N0f8}(0.0) … Gray{N0f8}(0.0) Gray{N0f8}(0.0); … ; Gray{N0f8}(0.0) Gray{N0f8}(0.0) … Gray{N0f8}(0.0) Gray{N0f8}(0.0); Gray{N0f8}(0.0) Gray{N0f8}(0.0) … Gray{N0f8}(0.0) Gray{N0f8}(0.0)]\n",
              " [Gray{N0f8}(0.0) Gray{N0f8}(0.0) … Gray{N0f8}(0.0) Gray{N0f8}(0.0); Gray{N0f8}(0.0) Gray{N0f8}(0.0) … Gray{N0f8}(0.0) Gray{N0f8}(0.0); … ; Gray{N0f8}(0.0) Gray{N0f8}(0.0) … Gray{N0f8}(0.0) Gray{N0f8}(0.0); Gray{N0f8}(0.0) Gray{N0f8}(0.0) … Gray{N0f8}(0.0) Gray{N0f8}(0.0)]\n",
              " [Gray{N0f8}(0.0) Gray{N0f8}(0.0) … Gray{N0f8}(0.0) Gray{N0f8}(0.0); Gray{N0f8}(0.0) Gray{N0f8}(0.0) … Gray{N0f8}(0.0) Gray{N0f8}(0.0); … ; Gray{N0f8}(0.0) Gray{N0f8}(0.0) … Gray{N0f8}(0.0) Gray{N0f8}(0.0); Gray{N0f8}(0.0) Gray{N0f8}(0.0) … Gray{N0f8}(0.0) Gray{N0f8}(0.0)]\n",
              " [Gray{N0f8}(0.0) Gray{N0f8}(0.0) … Gray{N0f8}(0.0) Gray{N0f8}(0.0); Gray{N0f8}(0.0) Gray{N0f8}(0.0) … Gray{N0f8}(0.0) Gray{N0f8}(0.0); … ; Gray{N0f8}(0.0) Gray{N0f8}(0.0) … Gray{N0f8}(0.0) Gray{N0f8}(0.0); Gray{N0f8}(0.0) Gray{N0f8}(0.0) … Gray{N0f8}(0.0) Gray{N0f8}(0.0)]\n",
              " [Gray{N0f8}(0.0) Gray{N0f8}(0.0) … Gray{N0f8}(0.0) Gray{N0f8}(0.0); Gray{N0f8}(0.0) Gray{N0f8}(0.0) … Gray{N0f8}(0.0) Gray{N0f8}(0.0); … ; Gray{N0f8}(0.0) Gray{N0f8}(0.0) … Gray{N0f8}(0.0) Gray{N0f8}(0.0); Gray{N0f8}(0.0) Gray{N0f8}(0.0) … Gray{N0f8}(0.0) Gray{N0f8}(0.0)]\n",
              " [Gray{N0f8}(0.0) Gray{N0f8}(0.0) … Gray{N0f8}(0.0) Gray{N0f8}(0.0); Gray{N0f8}(0.0) Gray{N0f8}(0.0) … Gray{N0f8}(0.0) Gray{N0f8}(0.0); … ; Gray{N0f8}(0.0) Gray{N0f8}(0.0) … Gray{N0f8}(0.0) Gray{N0f8}(0.0); Gray{N0f8}(0.0) Gray{N0f8}(0.0) … Gray{N0f8}(0.0) Gray{N0f8}(0.0)]\n",
              " [Gray{N0f8}(0.0) Gray{N0f8}(0.0) … Gray{N0f8}(0.0) Gray{N0f8}(0.0); Gray{N0f8}(0.0) Gray{N0f8}(0.0) … Gray{N0f8}(0.0) Gray{N0f8}(0.0); … ; Gray{N0f8}(0.0) Gray{N0f8}(0.0) … Gray{N0f8}(0.0) Gray{N0f8}(0.0); Gray{N0f8}(0.0) Gray{N0f8}(0.0) … Gray{N0f8}(0.0) Gray{N0f8}(0.0)]\n",
              " [Gray{N0f8}(0.0) Gray{N0f8}(0.0) … Gray{N0f8}(0.0) Gray{N0f8}(0.0); Gray{N0f8}(0.0) Gray{N0f8}(0.0) … Gray{N0f8}(0.0) Gray{N0f8}(0.0); … ; Gray{N0f8}(0.0) Gray{N0f8}(0.0) … Gray{N0f8}(0.0) Gray{N0f8}(0.0); Gray{N0f8}(0.0) Gray{N0f8}(0.0) … Gray{N0f8}(0.0) Gray{N0f8}(0.0)]"
            ]
          },
          "metadata": {
            "tags": []
          },
          "execution_count": 10
        }
      ]
    },
    {
      "cell_type": "code",
      "metadata": {
        "id": "kmAa2V9BQ1N2",
        "colab_type": "code",
        "colab": {
          "base_uri": "https://localhost:8080/",
          "height": 588
        },
        "outputId": "50a75c81-5be0-4d2d-b599-8da05ae06d40"
      },
      "source": [
        "train_img[1]  # show image"
      ],
      "execution_count": 11,
      "outputs": [
        {
          "output_type": "execute_result",
          "data": {
            "text/plain": [
              "28×28 Array{Gray{N0f8},2} with eltype Gray{FixedPointNumbers.Normed{UInt8,8}}:\n",
              " Gray{N0f8}(0.0)  Gray{N0f8}(0.0)  …  Gray{N0f8}(0.0)  Gray{N0f8}(0.0)\n",
              " Gray{N0f8}(0.0)  Gray{N0f8}(0.0)     Gray{N0f8}(0.0)  Gray{N0f8}(0.0)\n",
              " Gray{N0f8}(0.0)  Gray{N0f8}(0.0)     Gray{N0f8}(0.0)  Gray{N0f8}(0.0)\n",
              " Gray{N0f8}(0.0)  Gray{N0f8}(0.0)     Gray{N0f8}(0.0)  Gray{N0f8}(0.0)\n",
              " Gray{N0f8}(0.0)  Gray{N0f8}(0.0)     Gray{N0f8}(0.0)  Gray{N0f8}(0.0)\n",
              " Gray{N0f8}(0.0)  Gray{N0f8}(0.0)  …  Gray{N0f8}(0.0)  Gray{N0f8}(0.0)\n",
              " Gray{N0f8}(0.0)  Gray{N0f8}(0.0)     Gray{N0f8}(0.0)  Gray{N0f8}(0.0)\n",
              " Gray{N0f8}(0.0)  Gray{N0f8}(0.0)     Gray{N0f8}(0.0)  Gray{N0f8}(0.0)\n",
              " Gray{N0f8}(0.0)  Gray{N0f8}(0.0)     Gray{N0f8}(0.0)  Gray{N0f8}(0.0)\n",
              " Gray{N0f8}(0.0)  Gray{N0f8}(0.0)     Gray{N0f8}(0.0)  Gray{N0f8}(0.0)\n",
              " Gray{N0f8}(0.0)  Gray{N0f8}(0.0)  …  Gray{N0f8}(0.0)  Gray{N0f8}(0.0)\n",
              " Gray{N0f8}(0.0)  Gray{N0f8}(0.0)     Gray{N0f8}(0.0)  Gray{N0f8}(0.0)\n",
              " Gray{N0f8}(0.0)  Gray{N0f8}(0.0)     Gray{N0f8}(0.0)  Gray{N0f8}(0.0)\n",
              " ⋮                                 ⋱                   \n",
              " Gray{N0f8}(0.0)  Gray{N0f8}(0.0)     Gray{N0f8}(0.0)  Gray{N0f8}(0.0)\n",
              " Gray{N0f8}(0.0)  Gray{N0f8}(0.0)     Gray{N0f8}(0.0)  Gray{N0f8}(0.0)\n",
              " Gray{N0f8}(0.0)  Gray{N0f8}(0.0)     Gray{N0f8}(0.0)  Gray{N0f8}(0.0)\n",
              " Gray{N0f8}(0.0)  Gray{N0f8}(0.0)     Gray{N0f8}(0.0)  Gray{N0f8}(0.0)\n",
              " Gray{N0f8}(0.0)  Gray{N0f8}(0.0)  …  Gray{N0f8}(0.0)  Gray{N0f8}(0.0)\n",
              " Gray{N0f8}(0.0)  Gray{N0f8}(0.0)     Gray{N0f8}(0.0)  Gray{N0f8}(0.0)\n",
              " Gray{N0f8}(0.0)  Gray{N0f8}(0.0)     Gray{N0f8}(0.0)  Gray{N0f8}(0.0)\n",
              " Gray{N0f8}(0.0)  Gray{N0f8}(0.0)     Gray{N0f8}(0.0)  Gray{N0f8}(0.0)\n",
              " Gray{N0f8}(0.0)  Gray{N0f8}(0.0)     Gray{N0f8}(0.0)  Gray{N0f8}(0.0)\n",
              " Gray{N0f8}(0.0)  Gray{N0f8}(0.0)  …  Gray{N0f8}(0.0)  Gray{N0f8}(0.0)\n",
              " Gray{N0f8}(0.0)  Gray{N0f8}(0.0)     Gray{N0f8}(0.0)  Gray{N0f8}(0.0)\n",
              " Gray{N0f8}(0.0)  Gray{N0f8}(0.0)     Gray{N0f8}(0.0)  Gray{N0f8}(0.0)"
            ],
            "image/svg+xml": "<?xml version=\"1.0\" encoding=\"UTF-8\"?>\n<!DOCTYPE svg PUBLIC \"-//W3C//DTD SVG 1.1//EN\"\n \"http://www.w3.org/Graphics/SVG/1.1/DTD/svg11.dtd\">\n<svg xmlns=\"http://www.w3.org/2000/svg\" version=\"1.1\"\n     width=\"150mm\" height=\"150mm\"\n     viewBox=\"0 0 28 28\" preserveAspectRatio=\"none\"\n     shape-rendering=\"crispEdges\" stroke=\"none\">\n<rect width=\".81\" height=\".81\" x=\"0\" y=\"0\" fill=\"#000000\" />\n<rect width=\".81\" height=\".81\" x=\"1\" y=\"0\" fill=\"#000000\" />\n<rect width=\".81\" height=\".81\" x=\"2\" y=\"0\" fill=\"#000000\" />\n<rect width=\".81\" height=\".81\" x=\"3\" y=\"0\" fill=\"#000000\" />\n<rect width=\".81\" height=\".81\" x=\"4\" y=\"0\" fill=\"#000000\" />\n<rect width=\".81\" height=\".81\" x=\"5\" y=\"0\" fill=\"#000000\" />\n<rect width=\".81\" height=\".81\" x=\"6\" y=\"0\" fill=\"#000000\" />\n<rect width=\".81\" height=\".81\" x=\"7\" y=\"0\" fill=\"#000000\" />\n<rect width=\".81\" height=\".81\" x=\"8\" y=\"0\" fill=\"#000000\" />\n<rect width=\".81\" height=\".81\" x=\"9\" y=\"0\" fill=\"#000000\" />\n<rect width=\".81\" height=\".81\" x=\"10\" y=\"0\" fill=\"#000000\" />\n<rect width=\".81\" height=\".81\" x=\"11\" y=\"0\" fill=\"#000000\" />\n<rect width=\".81\" height=\".81\" x=\"12\" y=\"0\" fill=\"#000000\" />\n<rect width=\".81\" height=\".81\" x=\"13\" y=\"0\" fill=\"#000000\" />\n<rect width=\".81\" height=\".81\" x=\"14\" y=\"0\" fill=\"#000000\" />\n<rect width=\".81\" height=\".81\" x=\"15\" y=\"0\" fill=\"#000000\" />\n<rect width=\".81\" height=\".81\" x=\"16\" y=\"0\" fill=\"#000000\" />\n<rect width=\".81\" height=\".81\" x=\"17\" y=\"0\" fill=\"#000000\" />\n<rect width=\".81\" height=\".81\" x=\"18\" y=\"0\" fill=\"#000000\" />\n<rect width=\".81\" height=\".81\" x=\"19\" y=\"0\" fill=\"#000000\" />\n<rect width=\".81\" height=\".81\" x=\"20\" y=\"0\" fill=\"#000000\" />\n<rect width=\".81\" height=\".81\" x=\"21\" y=\"0\" fill=\"#000000\" />\n<rect width=\".81\" height=\".81\" x=\"22\" y=\"0\" fill=\"#000000\" />\n<rect width=\".81\" height=\".81\" x=\"23\" y=\"0\" fill=\"#000000\" />\n<rect width=\".81\" height=\".81\" x=\"24\" y=\"0\" fill=\"#000000\" />\n<rect width=\".81\" height=\".81\" x=\"25\" y=\"0\" fill=\"#000000\" />\n<rect width=\".81\" height=\".81\" x=\"26\" y=\"0\" fill=\"#000000\" />\n<rect width=\".81\" height=\".81\" x=\"27\" y=\"0\" fill=\"#000000\" />\n<rect width=\".81\" height=\".81\" x=\"0\" y=\"1\" fill=\"#000000\" />\n<rect width=\".81\" height=\".81\" x=\"1\" y=\"1\" fill=\"#000000\" />\n<rect width=\".81\" height=\".81\" x=\"2\" y=\"1\" fill=\"#000000\" />\n<rect width=\".81\" height=\".81\" x=\"3\" y=\"1\" fill=\"#000000\" />\n<rect width=\".81\" height=\".81\" x=\"4\" y=\"1\" fill=\"#000000\" />\n<rect width=\".81\" height=\".81\" x=\"5\" y=\"1\" fill=\"#000000\" />\n<rect width=\".81\" height=\".81\" x=\"6\" y=\"1\" fill=\"#000000\" />\n<rect width=\".81\" height=\".81\" x=\"7\" y=\"1\" fill=\"#000000\" />\n<rect width=\".81\" height=\".81\" x=\"8\" y=\"1\" fill=\"#000000\" />\n<rect width=\".81\" height=\".81\" x=\"9\" y=\"1\" fill=\"#000000\" />\n<rect width=\".81\" height=\".81\" x=\"10\" y=\"1\" fill=\"#000000\" />\n<rect width=\".81\" height=\".81\" x=\"11\" y=\"1\" fill=\"#000000\" />\n<rect width=\".81\" height=\".81\" x=\"12\" y=\"1\" fill=\"#000000\" />\n<rect width=\".81\" height=\".81\" x=\"13\" y=\"1\" fill=\"#000000\" />\n<rect width=\".81\" height=\".81\" x=\"14\" y=\"1\" fill=\"#000000\" />\n<rect width=\".81\" height=\".81\" x=\"15\" y=\"1\" fill=\"#000000\" />\n<rect width=\".81\" height=\".81\" x=\"16\" y=\"1\" fill=\"#000000\" />\n<rect width=\".81\" height=\".81\" x=\"17\" y=\"1\" fill=\"#000000\" />\n<rect width=\".81\" height=\".81\" x=\"18\" y=\"1\" fill=\"#000000\" />\n<rect width=\".81\" height=\".81\" x=\"19\" y=\"1\" fill=\"#000000\" />\n<rect width=\".81\" height=\".81\" x=\"20\" y=\"1\" fill=\"#000000\" />\n<rect width=\".81\" height=\".81\" x=\"21\" y=\"1\" fill=\"#000000\" />\n<rect width=\".81\" height=\".81\" x=\"22\" y=\"1\" fill=\"#000000\" />\n<rect width=\".81\" height=\".81\" x=\"23\" y=\"1\" fill=\"#000000\" />\n<rect width=\".81\" height=\".81\" x=\"24\" y=\"1\" fill=\"#000000\" />\n<rect width=\".81\" height=\".81\" x=\"25\" y=\"1\" fill=\"#000000\" />\n<rect width=\".81\" height=\".81\" x=\"26\" y=\"1\" fill=\"#000000\" />\n<rect width=\".81\" height=\".81\" x=\"27\" y=\"1\" fill=\"#000000\" />\n<rect width=\".81\" height=\".81\" x=\"0\" y=\"2\" fill=\"#000000\" />\n<rect width=\".81\" height=\".81\" x=\"1\" y=\"2\" fill=\"#000000\" />\n<rect width=\".81\" height=\".81\" x=\"2\" y=\"2\" fill=\"#000000\" />\n<rect width=\".81\" height=\".81\" x=\"3\" y=\"2\" fill=\"#000000\" />\n<rect width=\".81\" height=\".81\" x=\"4\" y=\"2\" fill=\"#000000\" />\n<rect width=\".81\" height=\".81\" x=\"5\" y=\"2\" fill=\"#000000\" />\n<rect width=\".81\" height=\".81\" x=\"6\" y=\"2\" fill=\"#000000\" />\n<rect width=\".81\" height=\".81\" x=\"7\" y=\"2\" fill=\"#000000\" />\n<rect width=\".81\" height=\".81\" x=\"8\" y=\"2\" fill=\"#000000\" />\n<rect width=\".81\" height=\".81\" x=\"9\" y=\"2\" fill=\"#000000\" />\n<rect width=\".81\" height=\".81\" x=\"10\" y=\"2\" fill=\"#000000\" />\n<rect width=\".81\" height=\".81\" x=\"11\" y=\"2\" fill=\"#000000\" />\n<rect width=\".81\" height=\".81\" x=\"12\" y=\"2\" fill=\"#000000\" />\n<rect width=\".81\" height=\".81\" x=\"13\" y=\"2\" fill=\"#000000\" />\n<rect width=\".81\" height=\".81\" x=\"14\" y=\"2\" fill=\"#000000\" />\n<rect width=\".81\" height=\".81\" x=\"15\" y=\"2\" fill=\"#000000\" />\n<rect width=\".81\" height=\".81\" x=\"16\" y=\"2\" fill=\"#000000\" />\n<rect width=\".81\" height=\".81\" x=\"17\" y=\"2\" fill=\"#000000\" />\n<rect width=\".81\" height=\".81\" x=\"18\" y=\"2\" fill=\"#000000\" />\n<rect width=\".81\" height=\".81\" x=\"19\" y=\"2\" fill=\"#000000\" />\n<rect width=\".81\" height=\".81\" x=\"20\" y=\"2\" fill=\"#000000\" />\n<rect width=\".81\" height=\".81\" x=\"21\" y=\"2\" fill=\"#000000\" />\n<rect width=\".81\" height=\".81\" x=\"22\" y=\"2\" fill=\"#000000\" />\n<rect width=\".81\" height=\".81\" x=\"23\" y=\"2\" fill=\"#000000\" />\n<rect width=\".81\" height=\".81\" x=\"24\" y=\"2\" fill=\"#000000\" />\n<rect width=\".81\" height=\".81\" x=\"25\" y=\"2\" fill=\"#000000\" />\n<rect width=\".81\" height=\".81\" x=\"26\" y=\"2\" fill=\"#000000\" />\n<rect width=\".81\" height=\".81\" x=\"27\" y=\"2\" fill=\"#000000\" />\n<rect width=\".81\" height=\".81\" x=\"0\" y=\"3\" fill=\"#000000\" />\n<rect width=\".81\" height=\".81\" x=\"1\" y=\"3\" fill=\"#000000\" />\n<rect width=\".81\" height=\".81\" x=\"2\" y=\"3\" fill=\"#000000\" />\n<rect width=\".81\" height=\".81\" x=\"3\" y=\"3\" fill=\"#000000\" />\n<rect width=\".81\" height=\".81\" x=\"4\" y=\"3\" fill=\"#000000\" />\n<rect width=\".81\" height=\".81\" x=\"5\" y=\"3\" fill=\"#000000\" />\n<rect width=\".81\" height=\".81\" x=\"6\" y=\"3\" fill=\"#000000\" />\n<rect width=\".81\" height=\".81\" x=\"7\" y=\"3\" fill=\"#000000\" />\n<rect width=\".81\" height=\".81\" x=\"8\" y=\"3\" fill=\"#000000\" />\n<rect width=\".81\" height=\".81\" x=\"9\" y=\"3\" fill=\"#000000\" />\n<rect width=\".81\" height=\".81\" x=\"10\" y=\"3\" fill=\"#000000\" />\n<rect width=\".81\" height=\".81\" x=\"11\" y=\"3\" fill=\"#000000\" />\n<rect width=\".81\" height=\".81\" x=\"12\" y=\"3\" fill=\"#000000\" />\n<rect width=\".81\" height=\".81\" x=\"13\" y=\"3\" fill=\"#000000\" />\n<rect width=\".81\" height=\".81\" x=\"14\" y=\"3\" fill=\"#000000\" />\n<rect width=\".81\" height=\".81\" x=\"15\" y=\"3\" fill=\"#000000\" />\n<rect width=\".81\" height=\".81\" x=\"16\" y=\"3\" fill=\"#000000\" />\n<rect width=\".81\" height=\".81\" x=\"17\" y=\"3\" fill=\"#000000\" />\n<rect width=\".81\" height=\".81\" x=\"18\" y=\"3\" fill=\"#000000\" />\n<rect width=\".81\" height=\".81\" x=\"19\" y=\"3\" fill=\"#000000\" />\n<rect width=\".81\" height=\".81\" x=\"20\" y=\"3\" fill=\"#000000\" />\n<rect width=\".81\" height=\".81\" x=\"21\" y=\"3\" fill=\"#000000\" />\n<rect width=\".81\" height=\".81\" x=\"22\" y=\"3\" fill=\"#000000\" />\n<rect width=\".81\" height=\".81\" x=\"23\" y=\"3\" fill=\"#000000\" />\n<rect width=\".81\" height=\".81\" x=\"24\" y=\"3\" fill=\"#000000\" />\n<rect width=\".81\" height=\".81\" x=\"25\" y=\"3\" fill=\"#000000\" />\n<rect width=\".81\" height=\".81\" x=\"26\" y=\"3\" fill=\"#000000\" />\n<rect width=\".81\" height=\".81\" x=\"27\" y=\"3\" fill=\"#000000\" />\n<rect width=\".81\" height=\".81\" x=\"0\" y=\"4\" fill=\"#000000\" />\n<rect width=\".81\" height=\".81\" x=\"1\" y=\"4\" fill=\"#000000\" />\n<rect width=\".81\" height=\".81\" x=\"2\" y=\"4\" fill=\"#000000\" />\n<rect width=\".81\" height=\".81\" x=\"3\" y=\"4\" fill=\"#000000\" />\n<rect width=\".81\" height=\".81\" x=\"4\" y=\"4\" fill=\"#000000\" />\n<rect width=\".81\" height=\".81\" x=\"5\" y=\"4\" fill=\"#000000\" />\n<rect width=\".81\" height=\".81\" x=\"6\" y=\"4\" fill=\"#000000\" />\n<rect width=\".81\" height=\".81\" x=\"7\" y=\"4\" fill=\"#000000\" />\n<rect width=\".81\" height=\".81\" x=\"8\" y=\"4\" fill=\"#000000\" />\n<rect width=\".81\" height=\".81\" x=\"9\" y=\"4\" fill=\"#000000\" />\n<rect width=\".81\" height=\".81\" x=\"10\" y=\"4\" fill=\"#000000\" />\n<rect width=\".81\" height=\".81\" x=\"11\" y=\"4\" fill=\"#000000\" />\n<rect width=\".81\" height=\".81\" x=\"12\" y=\"4\" fill=\"#000000\" />\n<rect width=\".81\" height=\".81\" x=\"13\" y=\"4\" fill=\"#000000\" />\n<rect width=\".81\" height=\".81\" x=\"14\" y=\"4\" fill=\"#000000\" />\n<rect width=\".81\" height=\".81\" x=\"15\" y=\"4\" fill=\"#000000\" />\n<rect width=\".81\" height=\".81\" x=\"16\" y=\"4\" fill=\"#000000\" />\n<rect width=\".81\" height=\".81\" x=\"17\" y=\"4\" fill=\"#000000\" />\n<rect width=\".81\" height=\".81\" x=\"18\" y=\"4\" fill=\"#000000\" />\n<rect width=\".81\" height=\".81\" x=\"19\" y=\"4\" fill=\"#000000\" />\n<rect width=\".81\" height=\".81\" x=\"20\" y=\"4\" fill=\"#000000\" />\n<rect width=\".81\" height=\".81\" x=\"21\" y=\"4\" fill=\"#000000\" />\n<rect width=\".81\" height=\".81\" x=\"22\" y=\"4\" fill=\"#000000\" />\n<rect width=\".81\" height=\".81\" x=\"23\" y=\"4\" fill=\"#000000\" />\n<rect width=\".81\" height=\".81\" x=\"24\" y=\"4\" fill=\"#000000\" />\n<rect width=\".81\" height=\".81\" x=\"25\" y=\"4\" fill=\"#000000\" />\n<rect width=\".81\" height=\".81\" x=\"26\" y=\"4\" fill=\"#000000\" />\n<rect width=\".81\" height=\".81\" x=\"27\" y=\"4\" fill=\"#000000\" />\n<rect width=\".81\" height=\".81\" x=\"0\" y=\"5\" fill=\"#000000\" />\n<rect width=\".81\" height=\".81\" x=\"1\" y=\"5\" fill=\"#000000\" />\n<rect width=\".81\" height=\".81\" x=\"2\" y=\"5\" fill=\"#000000\" />\n<rect width=\".81\" height=\".81\" x=\"3\" y=\"5\" fill=\"#000000\" />\n<rect width=\".81\" height=\".81\" x=\"4\" y=\"5\" fill=\"#000000\" />\n<rect width=\".81\" height=\".81\" x=\"5\" y=\"5\" fill=\"#000000\" />\n<rect width=\".81\" height=\".81\" x=\"6\" y=\"5\" fill=\"#000000\" />\n<rect width=\".81\" height=\".81\" x=\"7\" y=\"5\" fill=\"#000000\" />\n<rect width=\".81\" height=\".81\" x=\"8\" y=\"5\" fill=\"#000000\" />\n<rect width=\".81\" height=\".81\" x=\"9\" y=\"5\" fill=\"#000000\" />\n<rect width=\".81\" height=\".81\" x=\"10\" y=\"5\" fill=\"#000000\" />\n<rect width=\".81\" height=\".81\" x=\"11\" y=\"5\" fill=\"#000000\" />\n<rect width=\".81\" height=\".81\" x=\"12\" y=\"5\" fill=\"#030303\" />\n<rect width=\".81\" height=\".81\" x=\"13\" y=\"5\" fill=\"#121212\" />\n<rect width=\".81\" height=\".81\" x=\"14\" y=\"5\" fill=\"#121212\" />\n<rect width=\".81\" height=\".81\" x=\"15\" y=\"5\" fill=\"#121212\" />\n<rect width=\".81\" height=\".81\" x=\"16\" y=\"5\" fill=\"#7E7E7E\" />\n<rect width=\".81\" height=\".81\" x=\"17\" y=\"5\" fill=\"#888888\" />\n<rect width=\".81\" height=\".81\" x=\"18\" y=\"5\" fill=\"#AFAFAF\" />\n<rect width=\".81\" height=\".81\" x=\"19\" y=\"5\" fill=\"#1A1A1A\" />\n<rect width=\".81\" height=\".81\" x=\"20\" y=\"5\" fill=\"#A6A6A6\" />\n<rect width=\".81\" height=\".81\" x=\"21\" y=\"5\" fill=\"#FFFFFF\" />\n<rect width=\".81\" height=\".81\" x=\"22\" y=\"5\" fill=\"#F7F7F7\" />\n<rect width=\".81\" height=\".81\" x=\"23\" y=\"5\" fill=\"#7F7F7F\" />\n<rect width=\".81\" height=\".81\" x=\"24\" y=\"5\" fill=\"#000000\" />\n<rect width=\".81\" height=\".81\" x=\"25\" y=\"5\" fill=\"#000000\" />\n<rect width=\".81\" height=\".81\" x=\"26\" y=\"5\" fill=\"#000000\" />\n<rect width=\".81\" height=\".81\" x=\"27\" y=\"5\" fill=\"#000000\" />\n<rect width=\".81\" height=\".81\" x=\"0\" y=\"6\" fill=\"#000000\" />\n<rect width=\".81\" height=\".81\" x=\"1\" y=\"6\" fill=\"#000000\" />\n<rect width=\".81\" height=\".81\" x=\"2\" y=\"6\" fill=\"#000000\" />\n<rect width=\".81\" height=\".81\" x=\"3\" y=\"6\" fill=\"#000000\" />\n<rect width=\".81\" height=\".81\" x=\"4\" y=\"6\" fill=\"#000000\" />\n<rect width=\".81\" height=\".81\" x=\"5\" y=\"6\" fill=\"#000000\" />\n<rect width=\".81\" height=\".81\" x=\"6\" y=\"6\" fill=\"#000000\" />\n<rect width=\".81\" height=\".81\" x=\"7\" y=\"6\" fill=\"#000000\" />\n<rect width=\".81\" height=\".81\" x=\"8\" y=\"6\" fill=\"#1E1E1E\" />\n<rect width=\".81\" height=\".81\" x=\"9\" y=\"6\" fill=\"#242424\" />\n<rect width=\".81\" height=\".81\" x=\"10\" y=\"6\" fill=\"#5E5E5E\" />\n<rect width=\".81\" height=\".81\" x=\"11\" y=\"6\" fill=\"#9A9A9A\" />\n<rect width=\".81\" height=\".81\" x=\"12\" y=\"6\" fill=\"#AAAAAA\" />\n<rect width=\".81\" height=\".81\" x=\"13\" y=\"6\" fill=\"#FDFDFD\" />\n<rect width=\".81\" height=\".81\" x=\"14\" y=\"6\" fill=\"#FDFDFD\" />\n<rect width=\".81\" height=\".81\" x=\"15\" y=\"6\" fill=\"#FDFDFD\" />\n<rect width=\".81\" height=\".81\" x=\"16\" y=\"6\" fill=\"#FDFDFD\" />\n<rect width=\".81\" height=\".81\" x=\"17\" y=\"6\" fill=\"#FDFDFD\" />\n<rect width=\".81\" height=\".81\" x=\"18\" y=\"6\" fill=\"#E1E1E1\" />\n<rect width=\".81\" height=\".81\" x=\"19\" y=\"6\" fill=\"#ACACAC\" />\n<rect width=\".81\" height=\".81\" x=\"20\" y=\"6\" fill=\"#FDFDFD\" />\n<rect width=\".81\" height=\".81\" x=\"21\" y=\"6\" fill=\"#F2F2F2\" />\n<rect width=\".81\" height=\".81\" x=\"22\" y=\"6\" fill=\"#C3C3C3\" />\n<rect width=\".81\" height=\".81\" x=\"23\" y=\"6\" fill=\"#404040\" />\n<rect width=\".81\" height=\".81\" x=\"24\" y=\"6\" fill=\"#000000\" />\n<rect width=\".81\" height=\".81\" x=\"25\" y=\"6\" fill=\"#000000\" />\n<rect width=\".81\" height=\".81\" x=\"26\" y=\"6\" fill=\"#000000\" />\n<rect width=\".81\" height=\".81\" x=\"27\" y=\"6\" fill=\"#000000\" />\n<rect width=\".81\" height=\".81\" x=\"0\" y=\"7\" fill=\"#000000\" />\n<rect width=\".81\" height=\".81\" x=\"1\" y=\"7\" fill=\"#000000\" />\n<rect width=\".81\" height=\".81\" x=\"2\" y=\"7\" fill=\"#000000\" />\n<rect width=\".81\" height=\".81\" x=\"3\" y=\"7\" fill=\"#000000\" />\n<rect width=\".81\" height=\".81\" x=\"4\" y=\"7\" fill=\"#000000\" />\n<rect width=\".81\" height=\".81\" x=\"5\" y=\"7\" fill=\"#000000\" />\n<rect width=\".81\" height=\".81\" x=\"6\" y=\"7\" fill=\"#000000\" />\n<rect width=\".81\" height=\".81\" x=\"7\" y=\"7\" fill=\"#313131\" />\n<rect width=\".81\" height=\".81\" x=\"8\" y=\"7\" fill=\"#EEEEEE\" />\n<rect width=\".81\" height=\".81\" x=\"9\" y=\"7\" fill=\"#FDFDFD\" />\n<rect width=\".81\" height=\".81\" x=\"10\" y=\"7\" fill=\"#FDFDFD\" />\n<rect width=\".81\" height=\".81\" x=\"11\" y=\"7\" fill=\"#FDFDFD\" />\n<rect width=\".81\" height=\".81\" x=\"12\" y=\"7\" fill=\"#FDFDFD\" />\n<rect width=\".81\" height=\".81\" x=\"13\" y=\"7\" fill=\"#FDFDFD\" />\n<rect width=\".81\" height=\".81\" x=\"14\" y=\"7\" fill=\"#FDFDFD\" />\n<rect width=\".81\" height=\".81\" x=\"15\" y=\"7\" fill=\"#FDFDFD\" />\n<rect width=\".81\" height=\".81\" x=\"16\" y=\"7\" fill=\"#FDFDFD\" />\n<rect width=\".81\" height=\".81\" x=\"17\" y=\"7\" fill=\"#FBFBFB\" />\n<rect width=\".81\" height=\".81\" x=\"18\" y=\"7\" fill=\"#5D5D5D\" />\n<rect width=\".81\" height=\".81\" x=\"19\" y=\"7\" fill=\"#525252\" />\n<rect width=\".81\" height=\".81\" x=\"20\" y=\"7\" fill=\"#525252\" />\n<rect width=\".81\" height=\".81\" x=\"21\" y=\"7\" fill=\"#383838\" />\n<rect width=\".81\" height=\".81\" x=\"22\" y=\"7\" fill=\"#272727\" />\n<rect width=\".81\" height=\".81\" x=\"23\" y=\"7\" fill=\"#000000\" />\n<rect width=\".81\" height=\".81\" x=\"24\" y=\"7\" fill=\"#000000\" />\n<rect width=\".81\" height=\".81\" x=\"25\" y=\"7\" fill=\"#000000\" />\n<rect width=\".81\" height=\".81\" x=\"26\" y=\"7\" fill=\"#000000\" />\n<rect width=\".81\" height=\".81\" x=\"27\" y=\"7\" fill=\"#000000\" />\n<rect width=\".81\" height=\".81\" x=\"0\" y=\"8\" fill=\"#000000\" />\n<rect width=\".81\" height=\".81\" x=\"1\" y=\"8\" fill=\"#000000\" />\n<rect width=\".81\" height=\".81\" x=\"2\" y=\"8\" fill=\"#000000\" />\n<rect width=\".81\" height=\".81\" x=\"3\" y=\"8\" fill=\"#000000\" />\n<rect width=\".81\" height=\".81\" x=\"4\" y=\"8\" fill=\"#000000\" />\n<rect width=\".81\" height=\".81\" x=\"5\" y=\"8\" fill=\"#000000\" />\n<rect width=\".81\" height=\".81\" x=\"6\" y=\"8\" fill=\"#000000\" />\n<rect width=\".81\" height=\".81\" x=\"7\" y=\"8\" fill=\"#121212\" />\n<rect width=\".81\" height=\".81\" x=\"8\" y=\"8\" fill=\"#DBDBDB\" />\n<rect width=\".81\" height=\".81\" x=\"9\" y=\"8\" fill=\"#FDFDFD\" />\n<rect width=\".81\" height=\".81\" x=\"10\" y=\"8\" fill=\"#FDFDFD\" />\n<rect width=\".81\" height=\".81\" x=\"11\" y=\"8\" fill=\"#FDFDFD\" />\n<rect width=\".81\" height=\".81\" x=\"12\" y=\"8\" fill=\"#FDFDFD\" />\n<rect width=\".81\" height=\".81\" x=\"13\" y=\"8\" fill=\"#FDFDFD\" />\n<rect width=\".81\" height=\".81\" x=\"14\" y=\"8\" fill=\"#C6C6C6\" />\n<rect width=\".81\" height=\".81\" x=\"15\" y=\"8\" fill=\"#B6B6B6\" />\n<rect width=\".81\" height=\".81\" x=\"16\" y=\"8\" fill=\"#F7F7F7\" />\n<rect width=\".81\" height=\".81\" x=\"17\" y=\"8\" fill=\"#F1F1F1\" />\n<rect width=\".81\" height=\".81\" x=\"18\" y=\"8\" fill=\"#000000\" />\n<rect width=\".81\" height=\".81\" x=\"19\" y=\"8\" fill=\"#000000\" />\n<rect width=\".81\" height=\".81\" x=\"20\" y=\"8\" fill=\"#000000\" />\n<rect width=\".81\" height=\".81\" x=\"21\" y=\"8\" fill=\"#000000\" />\n<rect width=\".81\" height=\".81\" x=\"22\" y=\"8\" fill=\"#000000\" />\n<rect width=\".81\" height=\".81\" x=\"23\" y=\"8\" fill=\"#000000\" />\n<rect width=\".81\" height=\".81\" x=\"24\" y=\"8\" fill=\"#000000\" />\n<rect width=\".81\" height=\".81\" x=\"25\" y=\"8\" fill=\"#000000\" />\n<rect width=\".81\" height=\".81\" x=\"26\" y=\"8\" fill=\"#000000\" />\n<rect width=\".81\" height=\".81\" x=\"27\" y=\"8\" fill=\"#000000\" />\n<rect width=\".81\" height=\".81\" x=\"0\" y=\"9\" fill=\"#000000\" />\n<rect width=\".81\" height=\".81\" x=\"1\" y=\"9\" fill=\"#000000\" />\n<rect width=\".81\" height=\".81\" x=\"2\" y=\"9\" fill=\"#000000\" />\n<rect width=\".81\" height=\".81\" x=\"3\" y=\"9\" fill=\"#000000\" />\n<rect width=\".81\" height=\".81\" x=\"4\" y=\"9\" fill=\"#000000\" />\n<rect width=\".81\" height=\".81\" x=\"5\" y=\"9\" fill=\"#000000\" />\n<rect width=\".81\" height=\".81\" x=\"6\" y=\"9\" fill=\"#000000\" />\n<rect width=\".81\" height=\".81\" x=\"7\" y=\"9\" fill=\"#000000\" />\n<rect width=\".81\" height=\".81\" x=\"8\" y=\"9\" fill=\"#505050\" />\n<rect width=\".81\" height=\".81\" x=\"9\" y=\"9\" fill=\"#9C9C9C\" />\n<rect width=\".81\" height=\".81\" x=\"10\" y=\"9\" fill=\"#6B6B6B\" />\n<rect width=\".81\" height=\".81\" x=\"11\" y=\"9\" fill=\"#FDFDFD\" />\n<rect width=\".81\" height=\".81\" x=\"12\" y=\"9\" fill=\"#FDFDFD\" />\n<rect width=\".81\" height=\".81\" x=\"13\" y=\"9\" fill=\"#CDCDCD\" />\n<rect width=\".81\" height=\".81\" x=\"14\" y=\"9\" fill=\"#0B0B0B\" />\n<rect width=\".81\" height=\".81\" x=\"15\" y=\"9\" fill=\"#000000\" />\n<rect width=\".81\" height=\".81\" x=\"16\" y=\"9\" fill=\"#2B2B2B\" />\n<rect width=\".81\" height=\".81\" x=\"17\" y=\"9\" fill=\"#9A9A9A\" />\n<rect width=\".81\" height=\".81\" x=\"18\" y=\"9\" fill=\"#000000\" />\n<rect width=\".81\" height=\".81\" x=\"19\" y=\"9\" fill=\"#000000\" />\n<rect width=\".81\" height=\".81\" x=\"20\" y=\"9\" fill=\"#000000\" />\n<rect width=\".81\" height=\".81\" x=\"21\" y=\"9\" fill=\"#000000\" />\n<rect width=\".81\" height=\".81\" x=\"22\" y=\"9\" fill=\"#000000\" />\n<rect width=\".81\" height=\".81\" x=\"23\" y=\"9\" fill=\"#000000\" />\n<rect width=\".81\" height=\".81\" x=\"24\" y=\"9\" fill=\"#000000\" />\n<rect width=\".81\" height=\".81\" x=\"25\" y=\"9\" fill=\"#000000\" />\n<rect width=\".81\" height=\".81\" x=\"26\" y=\"9\" fill=\"#000000\" />\n<rect width=\".81\" height=\".81\" x=\"27\" y=\"9\" fill=\"#000000\" />\n<rect width=\".81\" height=\".81\" x=\"0\" y=\"10\" fill=\"#000000\" />\n<rect width=\".81\" height=\".81\" x=\"1\" y=\"10\" fill=\"#000000\" />\n<rect width=\".81\" height=\".81\" x=\"2\" y=\"10\" fill=\"#000000\" />\n<rect width=\".81\" height=\".81\" x=\"3\" y=\"10\" fill=\"#000000\" />\n<rect width=\".81\" height=\".81\" x=\"4\" y=\"10\" fill=\"#000000\" />\n<rect width=\".81\" height=\".81\" x=\"5\" y=\"10\" fill=\"#000000\" />\n<rect width=\".81\" height=\".81\" x=\"6\" y=\"10\" fill=\"#000000\" />\n<rect width=\".81\" height=\".81\" x=\"7\" y=\"10\" fill=\"#000000\" />\n<rect width=\".81\" height=\".81\" x=\"8\" y=\"10\" fill=\"#000000\" />\n<rect width=\".81\" height=\".81\" x=\"9\" y=\"10\" fill=\"#0E0E0E\" />\n<rect width=\".81\" height=\".81\" x=\"10\" y=\"10\" fill=\"#010101\" />\n<rect width=\".81\" height=\".81\" x=\"11\" y=\"10\" fill=\"#9A9A9A\" />\n<rect width=\".81\" height=\".81\" x=\"12\" y=\"10\" fill=\"#FDFDFD\" />\n<rect width=\".81\" height=\".81\" x=\"13\" y=\"10\" fill=\"#5A5A5A\" />\n<rect width=\".81\" height=\".81\" x=\"14\" y=\"10\" fill=\"#000000\" />\n<rect width=\".81\" height=\".81\" x=\"15\" y=\"10\" fill=\"#000000\" />\n<rect width=\".81\" height=\".81\" x=\"16\" y=\"10\" fill=\"#000000\" />\n<rect width=\".81\" height=\".81\" x=\"17\" y=\"10\" fill=\"#000000\" />\n<rect width=\".81\" height=\".81\" x=\"18\" y=\"10\" fill=\"#000000\" />\n<rect width=\".81\" height=\".81\" x=\"19\" y=\"10\" fill=\"#000000\" />\n<rect width=\".81\" height=\".81\" x=\"20\" y=\"10\" fill=\"#000000\" />\n<rect width=\".81\" height=\".81\" x=\"21\" y=\"10\" fill=\"#000000\" />\n<rect width=\".81\" height=\".81\" x=\"22\" y=\"10\" fill=\"#000000\" />\n<rect width=\".81\" height=\".81\" x=\"23\" y=\"10\" fill=\"#000000\" />\n<rect width=\".81\" height=\".81\" x=\"24\" y=\"10\" fill=\"#000000\" />\n<rect width=\".81\" height=\".81\" x=\"25\" y=\"10\" fill=\"#000000\" />\n<rect width=\".81\" height=\".81\" x=\"26\" y=\"10\" fill=\"#000000\" />\n<rect width=\".81\" height=\".81\" x=\"27\" y=\"10\" fill=\"#000000\" />\n<rect width=\".81\" height=\".81\" x=\"0\" y=\"11\" fill=\"#000000\" />\n<rect width=\".81\" height=\".81\" x=\"1\" y=\"11\" fill=\"#000000\" />\n<rect width=\".81\" height=\".81\" x=\"2\" y=\"11\" fill=\"#000000\" />\n<rect width=\".81\" height=\".81\" x=\"3\" y=\"11\" fill=\"#000000\" />\n<rect width=\".81\" height=\".81\" x=\"4\" y=\"11\" fill=\"#000000\" />\n<rect width=\".81\" height=\".81\" x=\"5\" y=\"11\" fill=\"#000000\" />\n<rect width=\".81\" height=\".81\" x=\"6\" y=\"11\" fill=\"#000000\" />\n<rect width=\".81\" height=\".81\" x=\"7\" y=\"11\" fill=\"#000000\" />\n<rect width=\".81\" height=\".81\" x=\"8\" y=\"11\" fill=\"#000000\" />\n<rect width=\".81\" height=\".81\" x=\"9\" y=\"11\" fill=\"#000000\" />\n<rect width=\".81\" height=\".81\" x=\"10\" y=\"11\" fill=\"#000000\" />\n<rect width=\".81\" height=\".81\" x=\"11\" y=\"11\" fill=\"#8B8B8B\" />\n<rect width=\".81\" height=\".81\" x=\"12\" y=\"11\" fill=\"#FDFDFD\" />\n<rect width=\".81\" height=\".81\" x=\"13\" y=\"11\" fill=\"#BEBEBE\" />\n<rect width=\".81\" height=\".81\" x=\"14\" y=\"11\" fill=\"#020202\" />\n<rect width=\".81\" height=\".81\" x=\"15\" y=\"11\" fill=\"#000000\" />\n<rect width=\".81\" height=\".81\" x=\"16\" y=\"11\" fill=\"#000000\" />\n<rect width=\".81\" height=\".81\" x=\"17\" y=\"11\" fill=\"#000000\" />\n<rect width=\".81\" height=\".81\" x=\"18\" y=\"11\" fill=\"#000000\" />\n<rect width=\".81\" height=\".81\" x=\"19\" y=\"11\" fill=\"#000000\" />\n<rect width=\".81\" height=\".81\" x=\"20\" y=\"11\" fill=\"#000000\" />\n<rect width=\".81\" height=\".81\" x=\"21\" y=\"11\" fill=\"#000000\" />\n<rect width=\".81\" height=\".81\" x=\"22\" y=\"11\" fill=\"#000000\" />\n<rect width=\".81\" height=\".81\" x=\"23\" y=\"11\" fill=\"#000000\" />\n<rect width=\".81\" height=\".81\" x=\"24\" y=\"11\" fill=\"#000000\" />\n<rect width=\".81\" height=\".81\" x=\"25\" y=\"11\" fill=\"#000000\" />\n<rect width=\".81\" height=\".81\" x=\"26\" y=\"11\" fill=\"#000000\" />\n<rect width=\".81\" height=\".81\" x=\"27\" y=\"11\" fill=\"#000000\" />\n<rect width=\".81\" height=\".81\" x=\"0\" y=\"12\" fill=\"#000000\" />\n<rect width=\".81\" height=\".81\" x=\"1\" y=\"12\" fill=\"#000000\" />\n<rect width=\".81\" height=\".81\" x=\"2\" y=\"12\" fill=\"#000000\" />\n<rect width=\".81\" height=\".81\" x=\"3\" y=\"12\" fill=\"#000000\" />\n<rect width=\".81\" height=\".81\" x=\"4\" y=\"12\" fill=\"#000000\" />\n<rect width=\".81\" height=\".81\" x=\"5\" y=\"12\" fill=\"#000000\" />\n<rect width=\".81\" height=\".81\" x=\"6\" y=\"12\" fill=\"#000000\" />\n<rect width=\".81\" height=\".81\" x=\"7\" y=\"12\" fill=\"#000000\" />\n<rect width=\".81\" height=\".81\" x=\"8\" y=\"12\" fill=\"#000000\" />\n<rect width=\".81\" height=\".81\" x=\"9\" y=\"12\" fill=\"#000000\" />\n<rect width=\".81\" height=\".81\" x=\"10\" y=\"12\" fill=\"#000000\" />\n<rect width=\".81\" height=\".81\" x=\"11\" y=\"12\" fill=\"#0B0B0B\" />\n<rect width=\".81\" height=\".81\" x=\"12\" y=\"12\" fill=\"#BEBEBE\" />\n<rect width=\".81\" height=\".81\" x=\"13\" y=\"12\" fill=\"#FDFDFD\" />\n<rect width=\".81\" height=\".81\" x=\"14\" y=\"12\" fill=\"#464646\" />\n<rect width=\".81\" height=\".81\" x=\"15\" y=\"12\" fill=\"#000000\" />\n<rect width=\".81\" height=\".81\" x=\"16\" y=\"12\" fill=\"#000000\" />\n<rect width=\".81\" height=\".81\" x=\"17\" y=\"12\" fill=\"#000000\" />\n<rect width=\".81\" height=\".81\" x=\"18\" y=\"12\" fill=\"#000000\" />\n<rect width=\".81\" height=\".81\" x=\"19\" y=\"12\" fill=\"#000000\" />\n<rect width=\".81\" height=\".81\" x=\"20\" y=\"12\" fill=\"#000000\" />\n<rect width=\".81\" height=\".81\" x=\"21\" y=\"12\" fill=\"#000000\" />\n<rect width=\".81\" height=\".81\" x=\"22\" y=\"12\" fill=\"#000000\" />\n<rect width=\".81\" height=\".81\" x=\"23\" y=\"12\" fill=\"#000000\" />\n<rect width=\".81\" height=\".81\" x=\"24\" y=\"12\" fill=\"#000000\" />\n<rect width=\".81\" height=\".81\" x=\"25\" y=\"12\" fill=\"#000000\" />\n<rect width=\".81\" height=\".81\" x=\"26\" y=\"12\" fill=\"#000000\" />\n<rect width=\".81\" height=\".81\" x=\"27\" y=\"12\" fill=\"#000000\" />\n<rect width=\".81\" height=\".81\" x=\"0\" y=\"13\" fill=\"#000000\" />\n<rect width=\".81\" height=\".81\" x=\"1\" y=\"13\" fill=\"#000000\" />\n<rect width=\".81\" height=\".81\" x=\"2\" y=\"13\" fill=\"#000000\" />\n<rect width=\".81\" height=\".81\" x=\"3\" y=\"13\" fill=\"#000000\" />\n<rect width=\".81\" height=\".81\" x=\"4\" y=\"13\" fill=\"#000000\" />\n<rect width=\".81\" height=\".81\" x=\"5\" y=\"13\" fill=\"#000000\" />\n<rect width=\".81\" height=\".81\" x=\"6\" y=\"13\" fill=\"#000000\" />\n<rect width=\".81\" height=\".81\" x=\"7\" y=\"13\" fill=\"#000000\" />\n<rect width=\".81\" height=\".81\" x=\"8\" y=\"13\" fill=\"#000000\" />\n<rect width=\".81\" height=\".81\" x=\"9\" y=\"13\" fill=\"#000000\" />\n<rect width=\".81\" height=\".81\" x=\"10\" y=\"13\" fill=\"#000000\" />\n<rect width=\".81\" height=\".81\" x=\"11\" y=\"13\" fill=\"#000000\" />\n<rect width=\".81\" height=\".81\" x=\"12\" y=\"13\" fill=\"#232323\" />\n<rect width=\".81\" height=\".81\" x=\"13\" y=\"13\" fill=\"#F1F1F1\" />\n<rect width=\".81\" height=\".81\" x=\"14\" y=\"13\" fill=\"#E1E1E1\" />\n<rect width=\".81\" height=\".81\" x=\"15\" y=\"13\" fill=\"#A0A0A0\" />\n<rect width=\".81\" height=\".81\" x=\"16\" y=\"13\" fill=\"#6C6C6C\" />\n<rect width=\".81\" height=\".81\" x=\"17\" y=\"13\" fill=\"#010101\" />\n<rect width=\".81\" height=\".81\" x=\"18\" y=\"13\" fill=\"#000000\" />\n<rect width=\".81\" height=\".81\" x=\"19\" y=\"13\" fill=\"#000000\" />\n<rect width=\".81\" height=\".81\" x=\"20\" y=\"13\" fill=\"#000000\" />\n<rect width=\".81\" height=\".81\" x=\"21\" y=\"13\" fill=\"#000000\" />\n<rect width=\".81\" height=\".81\" x=\"22\" y=\"13\" fill=\"#000000\" />\n<rect width=\".81\" height=\".81\" x=\"23\" y=\"13\" fill=\"#000000\" />\n<rect width=\".81\" height=\".81\" x=\"24\" y=\"13\" fill=\"#000000\" />\n<rect width=\".81\" height=\".81\" x=\"25\" y=\"13\" fill=\"#000000\" />\n<rect width=\".81\" height=\".81\" x=\"26\" y=\"13\" fill=\"#000000\" />\n<rect width=\".81\" height=\".81\" x=\"27\" y=\"13\" fill=\"#000000\" />\n<rect width=\".81\" height=\".81\" x=\"0\" y=\"14\" fill=\"#000000\" />\n<rect width=\".81\" height=\".81\" x=\"1\" y=\"14\" fill=\"#000000\" />\n<rect width=\".81\" height=\".81\" x=\"2\" y=\"14\" fill=\"#000000\" />\n<rect width=\".81\" height=\".81\" x=\"3\" y=\"14\" fill=\"#000000\" />\n<rect width=\".81\" height=\".81\" x=\"4\" y=\"14\" fill=\"#000000\" />\n<rect width=\".81\" height=\".81\" x=\"5\" y=\"14\" fill=\"#000000\" />\n<rect width=\".81\" height=\".81\" x=\"6\" y=\"14\" fill=\"#000000\" />\n<rect width=\".81\" height=\".81\" x=\"7\" y=\"14\" fill=\"#000000\" />\n<rect width=\".81\" height=\".81\" x=\"8\" y=\"14\" fill=\"#000000\" />\n<rect width=\".81\" height=\".81\" x=\"9\" y=\"14\" fill=\"#000000\" />\n<rect width=\".81\" height=\".81\" x=\"10\" y=\"14\" fill=\"#000000\" />\n<rect width=\".81\" height=\".81\" x=\"11\" y=\"14\" fill=\"#000000\" />\n<rect width=\".81\" height=\".81\" x=\"12\" y=\"14\" fill=\"#000000\" />\n<rect width=\".81\" height=\".81\" x=\"13\" y=\"14\" fill=\"#515151\" />\n<rect width=\".81\" height=\".81\" x=\"14\" y=\"14\" fill=\"#F0F0F0\" />\n<rect width=\".81\" height=\".81\" x=\"15\" y=\"14\" fill=\"#FDFDFD\" />\n<rect width=\".81\" height=\".81\" x=\"16\" y=\"14\" fill=\"#FDFDFD\" />\n<rect width=\".81\" height=\".81\" x=\"17\" y=\"14\" fill=\"#777777\" />\n<rect width=\".81\" height=\".81\" x=\"18\" y=\"14\" fill=\"#191919\" />\n<rect width=\".81\" height=\".81\" x=\"19\" y=\"14\" fill=\"#000000\" />\n<rect width=\".81\" height=\".81\" x=\"20\" y=\"14\" fill=\"#000000\" />\n<rect width=\".81\" height=\".81\" x=\"21\" y=\"14\" fill=\"#000000\" />\n<rect width=\".81\" height=\".81\" x=\"22\" y=\"14\" fill=\"#000000\" />\n<rect width=\".81\" height=\".81\" x=\"23\" y=\"14\" fill=\"#000000\" />\n<rect width=\".81\" height=\".81\" x=\"24\" y=\"14\" fill=\"#000000\" />\n<rect width=\".81\" height=\".81\" x=\"25\" y=\"14\" fill=\"#000000\" />\n<rect width=\".81\" height=\".81\" x=\"26\" y=\"14\" fill=\"#000000\" />\n<rect width=\".81\" height=\".81\" x=\"27\" y=\"14\" fill=\"#000000\" />\n<rect width=\".81\" height=\".81\" x=\"0\" y=\"15\" fill=\"#000000\" />\n<rect width=\".81\" height=\".81\" x=\"1\" y=\"15\" fill=\"#000000\" />\n<rect width=\".81\" height=\".81\" x=\"2\" y=\"15\" fill=\"#000000\" />\n<rect width=\".81\" height=\".81\" x=\"3\" y=\"15\" fill=\"#000000\" />\n<rect width=\".81\" height=\".81\" x=\"4\" y=\"15\" fill=\"#000000\" />\n<rect width=\".81\" height=\".81\" x=\"5\" y=\"15\" fill=\"#000000\" />\n<rect width=\".81\" height=\".81\" x=\"6\" y=\"15\" fill=\"#000000\" />\n<rect width=\".81\" height=\".81\" x=\"7\" y=\"15\" fill=\"#000000\" />\n<rect width=\".81\" height=\".81\" x=\"8\" y=\"15\" fill=\"#000000\" />\n<rect width=\".81\" height=\".81\" x=\"9\" y=\"15\" fill=\"#000000\" />\n<rect width=\".81\" height=\".81\" x=\"10\" y=\"15\" fill=\"#000000\" />\n<rect width=\".81\" height=\".81\" x=\"11\" y=\"15\" fill=\"#000000\" />\n<rect width=\".81\" height=\".81\" x=\"12\" y=\"15\" fill=\"#000000\" />\n<rect width=\".81\" height=\".81\" x=\"13\" y=\"15\" fill=\"#000000\" />\n<rect width=\".81\" height=\".81\" x=\"14\" y=\"15\" fill=\"#2D2D2D\" />\n<rect width=\".81\" height=\".81\" x=\"15\" y=\"15\" fill=\"#BABABA\" />\n<rect width=\".81\" height=\".81\" x=\"16\" y=\"15\" fill=\"#FDFDFD\" />\n<rect width=\".81\" height=\".81\" x=\"17\" y=\"15\" fill=\"#FDFDFD\" />\n<rect width=\".81\" height=\".81\" x=\"18\" y=\"15\" fill=\"#969696\" />\n<rect width=\".81\" height=\".81\" x=\"19\" y=\"15\" fill=\"#1B1B1B\" />\n<rect width=\".81\" height=\".81\" x=\"20\" y=\"15\" fill=\"#000000\" />\n<rect width=\".81\" height=\".81\" x=\"21\" y=\"15\" fill=\"#000000\" />\n<rect width=\".81\" height=\".81\" x=\"22\" y=\"15\" fill=\"#000000\" />\n<rect width=\".81\" height=\".81\" x=\"23\" y=\"15\" fill=\"#000000\" />\n<rect width=\".81\" height=\".81\" x=\"24\" y=\"15\" fill=\"#000000\" />\n<rect width=\".81\" height=\".81\" x=\"25\" y=\"15\" fill=\"#000000\" />\n<rect width=\".81\" height=\".81\" x=\"26\" y=\"15\" fill=\"#000000\" />\n<rect width=\".81\" height=\".81\" x=\"27\" y=\"15\" fill=\"#000000\" />\n<rect width=\".81\" height=\".81\" x=\"0\" y=\"16\" fill=\"#000000\" />\n<rect width=\".81\" height=\".81\" x=\"1\" y=\"16\" fill=\"#000000\" />\n<rect width=\".81\" height=\".81\" x=\"2\" y=\"16\" fill=\"#000000\" />\n<rect width=\".81\" height=\".81\" x=\"3\" y=\"16\" fill=\"#000000\" />\n<rect width=\".81\" height=\".81\" x=\"4\" y=\"16\" fill=\"#000000\" />\n<rect width=\".81\" height=\".81\" x=\"5\" y=\"16\" fill=\"#000000\" />\n<rect width=\".81\" height=\".81\" x=\"6\" y=\"16\" fill=\"#000000\" />\n<rect width=\".81\" height=\".81\" x=\"7\" y=\"16\" fill=\"#000000\" />\n<rect width=\".81\" height=\".81\" x=\"8\" y=\"16\" fill=\"#000000\" />\n<rect width=\".81\" height=\".81\" x=\"9\" y=\"16\" fill=\"#000000\" />\n<rect width=\".81\" height=\".81\" x=\"10\" y=\"16\" fill=\"#000000\" />\n<rect width=\".81\" height=\".81\" x=\"11\" y=\"16\" fill=\"#000000\" />\n<rect width=\".81\" height=\".81\" x=\"12\" y=\"16\" fill=\"#000000\" />\n<rect width=\".81\" height=\".81\" x=\"13\" y=\"16\" fill=\"#000000\" />\n<rect width=\".81\" height=\".81\" x=\"14\" y=\"16\" fill=\"#000000\" />\n<rect width=\".81\" height=\".81\" x=\"15\" y=\"16\" fill=\"#101010\" />\n<rect width=\".81\" height=\".81\" x=\"16\" y=\"16\" fill=\"#5D5D5D\" />\n<rect width=\".81\" height=\".81\" x=\"17\" y=\"16\" fill=\"#FCFCFC\" />\n<rect width=\".81\" height=\".81\" x=\"18\" y=\"16\" fill=\"#FDFDFD\" />\n<rect width=\".81\" height=\".81\" x=\"19\" y=\"16\" fill=\"#BBBBBB\" />\n<rect width=\".81\" height=\".81\" x=\"20\" y=\"16\" fill=\"#000000\" />\n<rect width=\".81\" height=\".81\" x=\"21\" y=\"16\" fill=\"#000000\" />\n<rect width=\".81\" height=\".81\" x=\"22\" y=\"16\" fill=\"#000000\" />\n<rect width=\".81\" height=\".81\" x=\"23\" y=\"16\" fill=\"#000000\" />\n<rect width=\".81\" height=\".81\" x=\"24\" y=\"16\" fill=\"#000000\" />\n<rect width=\".81\" height=\".81\" x=\"25\" y=\"16\" fill=\"#000000\" />\n<rect width=\".81\" height=\".81\" x=\"26\" y=\"16\" fill=\"#000000\" />\n<rect width=\".81\" height=\".81\" x=\"27\" y=\"16\" fill=\"#000000\" />\n<rect width=\".81\" height=\".81\" x=\"0\" y=\"17\" fill=\"#000000\" />\n<rect width=\".81\" height=\".81\" x=\"1\" y=\"17\" fill=\"#000000\" />\n<rect width=\".81\" height=\".81\" x=\"2\" y=\"17\" fill=\"#000000\" />\n<rect width=\".81\" height=\".81\" x=\"3\" y=\"17\" fill=\"#000000\" />\n<rect width=\".81\" height=\".81\" x=\"4\" y=\"17\" fill=\"#000000\" />\n<rect width=\".81\" height=\".81\" x=\"5\" y=\"17\" fill=\"#000000\" />\n<rect width=\".81\" height=\".81\" x=\"6\" y=\"17\" fill=\"#000000\" />\n<rect width=\".81\" height=\".81\" x=\"7\" y=\"17\" fill=\"#000000\" />\n<rect width=\".81\" height=\".81\" x=\"8\" y=\"17\" fill=\"#000000\" />\n<rect width=\".81\" height=\".81\" x=\"9\" y=\"17\" fill=\"#000000\" />\n<rect width=\".81\" height=\".81\" x=\"10\" y=\"17\" fill=\"#000000\" />\n<rect width=\".81\" height=\".81\" x=\"11\" y=\"17\" fill=\"#000000\" />\n<rect width=\".81\" height=\".81\" x=\"12\" y=\"17\" fill=\"#000000\" />\n<rect width=\".81\" height=\".81\" x=\"13\" y=\"17\" fill=\"#000000\" />\n<rect width=\".81\" height=\".81\" x=\"14\" y=\"17\" fill=\"#000000\" />\n<rect width=\".81\" height=\".81\" x=\"15\" y=\"17\" fill=\"#000000\" />\n<rect width=\".81\" height=\".81\" x=\"16\" y=\"17\" fill=\"#000000\" />\n<rect width=\".81\" height=\".81\" x=\"17\" y=\"17\" fill=\"#F9F9F9\" />\n<rect width=\".81\" height=\".81\" x=\"18\" y=\"17\" fill=\"#FDFDFD\" />\n<rect width=\".81\" height=\".81\" x=\"19\" y=\"17\" fill=\"#F9F9F9\" />\n<rect width=\".81\" height=\".81\" x=\"20\" y=\"17\" fill=\"#404040\" />\n<rect width=\".81\" height=\".81\" x=\"21\" y=\"17\" fill=\"#000000\" />\n<rect width=\".81\" height=\".81\" x=\"22\" y=\"17\" fill=\"#000000\" />\n<rect width=\".81\" height=\".81\" x=\"23\" y=\"17\" fill=\"#000000\" />\n<rect width=\".81\" height=\".81\" x=\"24\" y=\"17\" fill=\"#000000\" />\n<rect width=\".81\" height=\".81\" x=\"25\" y=\"17\" fill=\"#000000\" />\n<rect width=\".81\" height=\".81\" x=\"26\" y=\"17\" fill=\"#000000\" />\n<rect width=\".81\" height=\".81\" x=\"27\" y=\"17\" fill=\"#000000\" />\n<rect width=\".81\" height=\".81\" x=\"0\" y=\"18\" fill=\"#000000\" />\n<rect width=\".81\" height=\".81\" x=\"1\" y=\"18\" fill=\"#000000\" />\n<rect width=\".81\" height=\".81\" x=\"2\" y=\"18\" fill=\"#000000\" />\n<rect width=\".81\" height=\".81\" x=\"3\" y=\"18\" fill=\"#000000\" />\n<rect width=\".81\" height=\".81\" x=\"4\" y=\"18\" fill=\"#000000\" />\n<rect width=\".81\" height=\".81\" x=\"5\" y=\"18\" fill=\"#000000\" />\n<rect width=\".81\" height=\".81\" x=\"6\" y=\"18\" fill=\"#000000\" />\n<rect width=\".81\" height=\".81\" x=\"7\" y=\"18\" fill=\"#000000\" />\n<rect width=\".81\" height=\".81\" x=\"8\" y=\"18\" fill=\"#000000\" />\n<rect width=\".81\" height=\".81\" x=\"9\" y=\"18\" fill=\"#000000\" />\n<rect width=\".81\" height=\".81\" x=\"10\" y=\"18\" fill=\"#000000\" />\n<rect width=\".81\" height=\".81\" x=\"11\" y=\"18\" fill=\"#000000\" />\n<rect width=\".81\" height=\".81\" x=\"12\" y=\"18\" fill=\"#000000\" />\n<rect width=\".81\" height=\".81\" x=\"13\" y=\"18\" fill=\"#000000\" />\n<rect width=\".81\" height=\".81\" x=\"14\" y=\"18\" fill=\"#2E2E2E\" />\n<rect width=\".81\" height=\".81\" x=\"15\" y=\"18\" fill=\"#828282\" />\n<rect width=\".81\" height=\".81\" x=\"16\" y=\"18\" fill=\"#B7B7B7\" />\n<rect width=\".81\" height=\".81\" x=\"17\" y=\"18\" fill=\"#FDFDFD\" />\n<rect width=\".81\" height=\".81\" x=\"18\" y=\"18\" fill=\"#FDFDFD\" />\n<rect width=\".81\" height=\".81\" x=\"19\" y=\"18\" fill=\"#CFCFCF\" />\n<rect width=\".81\" height=\".81\" x=\"20\" y=\"18\" fill=\"#020202\" />\n<rect width=\".81\" height=\".81\" x=\"21\" y=\"18\" fill=\"#000000\" />\n<rect width=\".81\" height=\".81\" x=\"22\" y=\"18\" fill=\"#000000\" />\n<rect width=\".81\" height=\".81\" x=\"23\" y=\"18\" fill=\"#000000\" />\n<rect width=\".81\" height=\".81\" x=\"24\" y=\"18\" fill=\"#000000\" />\n<rect width=\".81\" height=\".81\" x=\"25\" y=\"18\" fill=\"#000000\" />\n<rect width=\".81\" height=\".81\" x=\"26\" y=\"18\" fill=\"#000000\" />\n<rect width=\".81\" height=\".81\" x=\"27\" y=\"18\" fill=\"#000000\" />\n<rect width=\".81\" height=\".81\" x=\"0\" y=\"19\" fill=\"#000000\" />\n<rect width=\".81\" height=\".81\" x=\"1\" y=\"19\" fill=\"#000000\" />\n<rect width=\".81\" height=\".81\" x=\"2\" y=\"19\" fill=\"#000000\" />\n<rect width=\".81\" height=\".81\" x=\"3\" y=\"19\" fill=\"#000000\" />\n<rect width=\".81\" height=\".81\" x=\"4\" y=\"19\" fill=\"#000000\" />\n<rect width=\".81\" height=\".81\" x=\"5\" y=\"19\" fill=\"#000000\" />\n<rect width=\".81\" height=\".81\" x=\"6\" y=\"19\" fill=\"#000000\" />\n<rect width=\".81\" height=\".81\" x=\"7\" y=\"19\" fill=\"#000000\" />\n<rect width=\".81\" height=\".81\" x=\"8\" y=\"19\" fill=\"#000000\" />\n<rect width=\".81\" height=\".81\" x=\"9\" y=\"19\" fill=\"#000000\" />\n<rect width=\".81\" height=\".81\" x=\"10\" y=\"19\" fill=\"#000000\" />\n<rect width=\".81\" height=\".81\" x=\"11\" y=\"19\" fill=\"#000000\" />\n<rect width=\".81\" height=\".81\" x=\"12\" y=\"19\" fill=\"#272727\" />\n<rect width=\".81\" height=\".81\" x=\"13\" y=\"19\" fill=\"#949494\" />\n<rect width=\".81\" height=\".81\" x=\"14\" y=\"19\" fill=\"#E5E5E5\" />\n<rect width=\".81\" height=\".81\" x=\"15\" y=\"19\" fill=\"#FDFDFD\" />\n<rect width=\".81\" height=\".81\" x=\"16\" y=\"19\" fill=\"#FDFDFD\" />\n<rect width=\".81\" height=\".81\" x=\"17\" y=\"19\" fill=\"#FDFDFD\" />\n<rect width=\".81\" height=\".81\" x=\"18\" y=\"19\" fill=\"#FAFAFA\" />\n<rect width=\".81\" height=\".81\" x=\"19\" y=\"19\" fill=\"#B6B6B6\" />\n<rect width=\".81\" height=\".81\" x=\"20\" y=\"19\" fill=\"#000000\" />\n<rect width=\".81\" height=\".81\" x=\"21\" y=\"19\" fill=\"#000000\" />\n<rect width=\".81\" height=\".81\" x=\"22\" y=\"19\" fill=\"#000000\" />\n<rect width=\".81\" height=\".81\" x=\"23\" y=\"19\" fill=\"#000000\" />\n<rect width=\".81\" height=\".81\" x=\"24\" y=\"19\" fill=\"#000000\" />\n<rect width=\".81\" height=\".81\" x=\"25\" y=\"19\" fill=\"#000000\" />\n<rect width=\".81\" height=\".81\" x=\"26\" y=\"19\" fill=\"#000000\" />\n<rect width=\".81\" height=\".81\" x=\"27\" y=\"19\" fill=\"#000000\" />\n<rect width=\".81\" height=\".81\" x=\"0\" y=\"20\" fill=\"#000000\" />\n<rect width=\".81\" height=\".81\" x=\"1\" y=\"20\" fill=\"#000000\" />\n<rect width=\".81\" height=\".81\" x=\"2\" y=\"20\" fill=\"#000000\" />\n<rect width=\".81\" height=\".81\" x=\"3\" y=\"20\" fill=\"#000000\" />\n<rect width=\".81\" height=\".81\" x=\"4\" y=\"20\" fill=\"#000000\" />\n<rect width=\".81\" height=\".81\" x=\"5\" y=\"20\" fill=\"#000000\" />\n<rect width=\".81\" height=\".81\" x=\"6\" y=\"20\" fill=\"#000000\" />\n<rect width=\".81\" height=\".81\" x=\"7\" y=\"20\" fill=\"#000000\" />\n<rect width=\".81\" height=\".81\" x=\"8\" y=\"20\" fill=\"#000000\" />\n<rect width=\".81\" height=\".81\" x=\"9\" y=\"20\" fill=\"#000000\" />\n<rect width=\".81\" height=\".81\" x=\"10\" y=\"20\" fill=\"#181818\" />\n<rect width=\".81\" height=\".81\" x=\"11\" y=\"20\" fill=\"#727272\" />\n<rect width=\".81\" height=\".81\" x=\"12\" y=\"20\" fill=\"#DDDDDD\" />\n<rect width=\".81\" height=\".81\" x=\"13\" y=\"20\" fill=\"#FDFDFD\" />\n<rect width=\".81\" height=\".81\" x=\"14\" y=\"20\" fill=\"#FDFDFD\" />\n<rect width=\".81\" height=\".81\" x=\"15\" y=\"20\" fill=\"#FDFDFD\" />\n<rect width=\".81\" height=\".81\" x=\"16\" y=\"20\" fill=\"#FDFDFD\" />\n<rect width=\".81\" height=\".81\" x=\"17\" y=\"20\" fill=\"#C9C9C9\" />\n<rect width=\".81\" height=\".81\" x=\"18\" y=\"20\" fill=\"#4E4E4E\" />\n<rect width=\".81\" height=\".81\" x=\"19\" y=\"20\" fill=\"#000000\" />\n<rect width=\".81\" height=\".81\" x=\"20\" y=\"20\" fill=\"#000000\" />\n<rect width=\".81\" height=\".81\" x=\"21\" y=\"20\" fill=\"#000000\" />\n<rect width=\".81\" height=\".81\" x=\"22\" y=\"20\" fill=\"#000000\" />\n<rect width=\".81\" height=\".81\" x=\"23\" y=\"20\" fill=\"#000000\" />\n<rect width=\".81\" height=\".81\" x=\"24\" y=\"20\" fill=\"#000000\" />\n<rect width=\".81\" height=\".81\" x=\"25\" y=\"20\" fill=\"#000000\" />\n<rect width=\".81\" height=\".81\" x=\"26\" y=\"20\" fill=\"#000000\" />\n<rect width=\".81\" height=\".81\" x=\"27\" y=\"20\" fill=\"#000000\" />\n<rect width=\".81\" height=\".81\" x=\"0\" y=\"21\" fill=\"#000000\" />\n<rect width=\".81\" height=\".81\" x=\"1\" y=\"21\" fill=\"#000000\" />\n<rect width=\".81\" height=\".81\" x=\"2\" y=\"21\" fill=\"#000000\" />\n<rect width=\".81\" height=\".81\" x=\"3\" y=\"21\" fill=\"#000000\" />\n<rect width=\".81\" height=\".81\" x=\"4\" y=\"21\" fill=\"#000000\" />\n<rect width=\".81\" height=\".81\" x=\"5\" y=\"21\" fill=\"#000000\" />\n<rect width=\".81\" height=\".81\" x=\"6\" y=\"21\" fill=\"#000000\" />\n<rect width=\".81\" height=\".81\" x=\"7\" y=\"21\" fill=\"#000000\" />\n<rect width=\".81\" height=\".81\" x=\"8\" y=\"21\" fill=\"#171717\" />\n<rect width=\".81\" height=\".81\" x=\"9\" y=\"21\" fill=\"#424242\" />\n<rect width=\".81\" height=\".81\" x=\"10\" y=\"21\" fill=\"#D5D5D5\" />\n<rect width=\".81\" height=\".81\" x=\"11\" y=\"21\" fill=\"#FDFDFD\" />\n<rect width=\".81\" height=\".81\" x=\"12\" y=\"21\" fill=\"#FDFDFD\" />\n<rect width=\".81\" height=\".81\" x=\"13\" y=\"21\" fill=\"#FDFDFD\" />\n<rect width=\".81\" height=\".81\" x=\"14\" y=\"21\" fill=\"#FDFDFD\" />\n<rect width=\".81\" height=\".81\" x=\"15\" y=\"21\" fill=\"#C6C6C6\" />\n<rect width=\".81\" height=\".81\" x=\"16\" y=\"21\" fill=\"#515151\" />\n<rect width=\".81\" height=\".81\" x=\"17\" y=\"21\" fill=\"#020202\" />\n<rect width=\".81\" height=\".81\" x=\"18\" y=\"21\" fill=\"#000000\" />\n<rect width=\".81\" height=\".81\" x=\"19\" y=\"21\" fill=\"#000000\" />\n<rect width=\".81\" height=\".81\" x=\"20\" y=\"21\" fill=\"#000000\" />\n<rect width=\".81\" height=\".81\" x=\"21\" y=\"21\" fill=\"#000000\" />\n<rect width=\".81\" height=\".81\" x=\"22\" y=\"21\" fill=\"#000000\" />\n<rect width=\".81\" height=\".81\" x=\"23\" y=\"21\" fill=\"#000000\" />\n<rect width=\".81\" height=\".81\" x=\"24\" y=\"21\" fill=\"#000000\" />\n<rect width=\".81\" height=\".81\" x=\"25\" y=\"21\" fill=\"#000000\" />\n<rect width=\".81\" height=\".81\" x=\"26\" y=\"21\" fill=\"#000000\" />\n<rect width=\".81\" height=\".81\" x=\"27\" y=\"21\" fill=\"#000000\" />\n<rect width=\".81\" height=\".81\" x=\"0\" y=\"22\" fill=\"#000000\" />\n<rect width=\".81\" height=\".81\" x=\"1\" y=\"22\" fill=\"#000000\" />\n<rect width=\".81\" height=\".81\" x=\"2\" y=\"22\" fill=\"#000000\" />\n<rect width=\".81\" height=\".81\" x=\"3\" y=\"22\" fill=\"#000000\" />\n<rect width=\".81\" height=\".81\" x=\"4\" y=\"22\" fill=\"#000000\" />\n<rect width=\".81\" height=\".81\" x=\"5\" y=\"22\" fill=\"#000000\" />\n<rect width=\".81\" height=\".81\" x=\"6\" y=\"22\" fill=\"#121212\" />\n<rect width=\".81\" height=\".81\" x=\"7\" y=\"22\" fill=\"#ABABAB\" />\n<rect width=\".81\" height=\".81\" x=\"8\" y=\"22\" fill=\"#DBDBDB\" />\n<rect width=\".81\" height=\".81\" x=\"9\" y=\"22\" fill=\"#FDFDFD\" />\n<rect width=\".81\" height=\".81\" x=\"10\" y=\"22\" fill=\"#FDFDFD\" />\n<rect width=\".81\" height=\".81\" x=\"11\" y=\"22\" fill=\"#FDFDFD\" />\n<rect width=\".81\" height=\".81\" x=\"12\" y=\"22\" fill=\"#FDFDFD\" />\n<rect width=\".81\" height=\".81\" x=\"13\" y=\"22\" fill=\"#C3C3C3\" />\n<rect width=\".81\" height=\".81\" x=\"14\" y=\"22\" fill=\"#505050\" />\n<rect width=\".81\" height=\".81\" x=\"15\" y=\"22\" fill=\"#090909\" />\n<rect width=\".81\" height=\".81\" x=\"16\" y=\"22\" fill=\"#000000\" />\n<rect width=\".81\" height=\".81\" x=\"17\" y=\"22\" fill=\"#000000\" />\n<rect width=\".81\" height=\".81\" x=\"18\" y=\"22\" fill=\"#000000\" />\n<rect width=\".81\" height=\".81\" x=\"19\" y=\"22\" fill=\"#000000\" />\n<rect width=\".81\" height=\".81\" x=\"20\" y=\"22\" fill=\"#000000\" />\n<rect width=\".81\" height=\".81\" x=\"21\" y=\"22\" fill=\"#000000\" />\n<rect width=\".81\" height=\".81\" x=\"22\" y=\"22\" fill=\"#000000\" />\n<rect width=\".81\" height=\".81\" x=\"23\" y=\"22\" fill=\"#000000\" />\n<rect width=\".81\" height=\".81\" x=\"24\" y=\"22\" fill=\"#000000\" />\n<rect width=\".81\" height=\".81\" x=\"25\" y=\"22\" fill=\"#000000\" />\n<rect width=\".81\" height=\".81\" x=\"26\" y=\"22\" fill=\"#000000\" />\n<rect width=\".81\" height=\".81\" x=\"27\" y=\"22\" fill=\"#000000\" />\n<rect width=\".81\" height=\".81\" x=\"0\" y=\"23\" fill=\"#000000\" />\n<rect width=\".81\" height=\".81\" x=\"1\" y=\"23\" fill=\"#000000\" />\n<rect width=\".81\" height=\".81\" x=\"2\" y=\"23\" fill=\"#000000\" />\n<rect width=\".81\" height=\".81\" x=\"3\" y=\"23\" fill=\"#000000\" />\n<rect width=\".81\" height=\".81\" x=\"4\" y=\"23\" fill=\"#373737\" />\n<rect width=\".81\" height=\".81\" x=\"5\" y=\"23\" fill=\"#ACACAC\" />\n<rect width=\".81\" height=\".81\" x=\"6\" y=\"23\" fill=\"#E2E2E2\" />\n<rect width=\".81\" height=\".81\" x=\"7\" y=\"23\" fill=\"#FDFDFD\" />\n<rect width=\".81\" height=\".81\" x=\"8\" y=\"23\" fill=\"#FDFDFD\" />\n<rect width=\".81\" height=\".81\" x=\"9\" y=\"23\" fill=\"#FDFDFD\" />\n<rect width=\".81\" height=\".81\" x=\"10\" y=\"23\" fill=\"#FDFDFD\" />\n<rect width=\".81\" height=\".81\" x=\"11\" y=\"23\" fill=\"#F4F4F4\" />\n<rect width=\".81\" height=\".81\" x=\"12\" y=\"23\" fill=\"#858585\" />\n<rect width=\".81\" height=\".81\" x=\"13\" y=\"23\" fill=\"#0B0B0B\" />\n<rect width=\".81\" height=\".81\" x=\"14\" y=\"23\" fill=\"#000000\" />\n<rect width=\".81\" height=\".81\" x=\"15\" y=\"23\" fill=\"#000000\" />\n<rect width=\".81\" height=\".81\" x=\"16\" y=\"23\" fill=\"#000000\" />\n<rect width=\".81\" height=\".81\" x=\"17\" y=\"23\" fill=\"#000000\" />\n<rect width=\".81\" height=\".81\" x=\"18\" y=\"23\" fill=\"#000000\" />\n<rect width=\".81\" height=\".81\" x=\"19\" y=\"23\" fill=\"#000000\" />\n<rect width=\".81\" height=\".81\" x=\"20\" y=\"23\" fill=\"#000000\" />\n<rect width=\".81\" height=\".81\" x=\"21\" y=\"23\" fill=\"#000000\" />\n<rect width=\".81\" height=\".81\" x=\"22\" y=\"23\" fill=\"#000000\" />\n<rect width=\".81\" height=\".81\" x=\"23\" y=\"23\" fill=\"#000000\" />\n<rect width=\".81\" height=\".81\" x=\"24\" y=\"23\" fill=\"#000000\" />\n<rect width=\".81\" height=\".81\" x=\"25\" y=\"23\" fill=\"#000000\" />\n<rect width=\".81\" height=\".81\" x=\"26\" y=\"23\" fill=\"#000000\" />\n<rect width=\".81\" height=\".81\" x=\"27\" y=\"23\" fill=\"#000000\" />\n<rect width=\".81\" height=\".81\" x=\"0\" y=\"24\" fill=\"#000000\" />\n<rect width=\".81\" height=\".81\" x=\"1\" y=\"24\" fill=\"#000000\" />\n<rect width=\".81\" height=\".81\" x=\"2\" y=\"24\" fill=\"#000000\" />\n<rect width=\".81\" height=\".81\" x=\"3\" y=\"24\" fill=\"#000000\" />\n<rect width=\".81\" height=\".81\" x=\"4\" y=\"24\" fill=\"#888888\" />\n<rect width=\".81\" height=\".81\" x=\"5\" y=\"24\" fill=\"#FDFDFD\" />\n<rect width=\".81\" height=\".81\" x=\"6\" y=\"24\" fill=\"#FDFDFD\" />\n<rect width=\".81\" height=\".81\" x=\"7\" y=\"24\" fill=\"#FDFDFD\" />\n<rect width=\".81\" height=\".81\" x=\"8\" y=\"24\" fill=\"#D4D4D4\" />\n<rect width=\".81\" height=\".81\" x=\"9\" y=\"24\" fill=\"#878787\" />\n<rect width=\".81\" height=\".81\" x=\"10\" y=\"24\" fill=\"#848484\" />\n<rect width=\".81\" height=\".81\" x=\"11\" y=\"24\" fill=\"#101010\" />\n<rect width=\".81\" height=\".81\" x=\"12\" y=\"24\" fill=\"#000000\" />\n<rect width=\".81\" height=\".81\" x=\"13\" y=\"24\" fill=\"#000000\" />\n<rect width=\".81\" height=\".81\" x=\"14\" y=\"24\" fill=\"#000000\" />\n<rect width=\".81\" height=\".81\" x=\"15\" y=\"24\" fill=\"#000000\" />\n<rect width=\".81\" height=\".81\" x=\"16\" y=\"24\" fill=\"#000000\" />\n<rect width=\".81\" height=\".81\" x=\"17\" y=\"24\" fill=\"#000000\" />\n<rect width=\".81\" height=\".81\" x=\"18\" y=\"24\" fill=\"#000000\" />\n<rect width=\".81\" height=\".81\" x=\"19\" y=\"24\" fill=\"#000000\" />\n<rect width=\".81\" height=\".81\" x=\"20\" y=\"24\" fill=\"#000000\" />\n<rect width=\".81\" height=\".81\" x=\"21\" y=\"24\" fill=\"#000000\" />\n<rect width=\".81\" height=\".81\" x=\"22\" y=\"24\" fill=\"#000000\" />\n<rect width=\".81\" height=\".81\" x=\"23\" y=\"24\" fill=\"#000000\" />\n<rect width=\".81\" height=\".81\" x=\"24\" y=\"24\" fill=\"#000000\" />\n<rect width=\".81\" height=\".81\" x=\"25\" y=\"24\" fill=\"#000000\" />\n<rect width=\".81\" height=\".81\" x=\"26\" y=\"24\" fill=\"#000000\" />\n<rect width=\".81\" height=\".81\" x=\"27\" y=\"24\" fill=\"#000000\" />\n<rect width=\".81\" height=\".81\" x=\"0\" y=\"25\" fill=\"#000000\" />\n<rect width=\".81\" height=\".81\" x=\"1\" y=\"25\" fill=\"#000000\" />\n<rect width=\".81\" height=\".81\" x=\"2\" y=\"25\" fill=\"#000000\" />\n<rect width=\".81\" height=\".81\" x=\"3\" y=\"25\" fill=\"#000000\" />\n<rect width=\".81\" height=\".81\" x=\"4\" y=\"25\" fill=\"#000000\" />\n<rect width=\".81\" height=\".81\" x=\"5\" y=\"25\" fill=\"#000000\" />\n<rect width=\".81\" height=\".81\" x=\"6\" y=\"25\" fill=\"#000000\" />\n<rect width=\".81\" height=\".81\" x=\"7\" y=\"25\" fill=\"#000000\" />\n<rect width=\".81\" height=\".81\" x=\"8\" y=\"25\" fill=\"#000000\" />\n<rect width=\".81\" height=\".81\" x=\"9\" y=\"25\" fill=\"#000000\" />\n<rect width=\".81\" height=\".81\" x=\"10\" y=\"25\" fill=\"#000000\" />\n<rect width=\".81\" height=\".81\" x=\"11\" y=\"25\" fill=\"#000000\" />\n<rect width=\".81\" height=\".81\" x=\"12\" y=\"25\" fill=\"#000000\" />\n<rect width=\".81\" height=\".81\" x=\"13\" y=\"25\" fill=\"#000000\" />\n<rect width=\".81\" height=\".81\" x=\"14\" y=\"25\" fill=\"#000000\" />\n<rect width=\".81\" height=\".81\" x=\"15\" y=\"25\" fill=\"#000000\" />\n<rect width=\".81\" height=\".81\" x=\"16\" y=\"25\" fill=\"#000000\" />\n<rect width=\".81\" height=\".81\" x=\"17\" y=\"25\" fill=\"#000000\" />\n<rect width=\".81\" height=\".81\" x=\"18\" y=\"25\" fill=\"#000000\" />\n<rect width=\".81\" height=\".81\" x=\"19\" y=\"25\" fill=\"#000000\" />\n<rect width=\".81\" height=\".81\" x=\"20\" y=\"25\" fill=\"#000000\" />\n<rect width=\".81\" height=\".81\" x=\"21\" y=\"25\" fill=\"#000000\" />\n<rect width=\".81\" height=\".81\" x=\"22\" y=\"25\" fill=\"#000000\" />\n<rect width=\".81\" height=\".81\" x=\"23\" y=\"25\" fill=\"#000000\" />\n<rect width=\".81\" height=\".81\" x=\"24\" y=\"25\" fill=\"#000000\" />\n<rect width=\".81\" height=\".81\" x=\"25\" y=\"25\" fill=\"#000000\" />\n<rect width=\".81\" height=\".81\" x=\"26\" y=\"25\" fill=\"#000000\" />\n<rect width=\".81\" height=\".81\" x=\"27\" y=\"25\" fill=\"#000000\" />\n<rect width=\".81\" height=\".81\" x=\"0\" y=\"26\" fill=\"#000000\" />\n<rect width=\".81\" height=\".81\" x=\"1\" y=\"26\" fill=\"#000000\" />\n<rect width=\".81\" height=\".81\" x=\"2\" y=\"26\" fill=\"#000000\" />\n<rect width=\".81\" height=\".81\" x=\"3\" y=\"26\" fill=\"#000000\" />\n<rect width=\".81\" height=\".81\" x=\"4\" y=\"26\" fill=\"#000000\" />\n<rect width=\".81\" height=\".81\" x=\"5\" y=\"26\" fill=\"#000000\" />\n<rect width=\".81\" height=\".81\" x=\"6\" y=\"26\" fill=\"#000000\" />\n<rect width=\".81\" height=\".81\" x=\"7\" y=\"26\" fill=\"#000000\" />\n<rect width=\".81\" height=\".81\" x=\"8\" y=\"26\" fill=\"#000000\" />\n<rect width=\".81\" height=\".81\" x=\"9\" y=\"26\" fill=\"#000000\" />\n<rect width=\".81\" height=\".81\" x=\"10\" y=\"26\" fill=\"#000000\" />\n<rect width=\".81\" height=\".81\" x=\"11\" y=\"26\" fill=\"#000000\" />\n<rect width=\".81\" height=\".81\" x=\"12\" y=\"26\" fill=\"#000000\" />\n<rect width=\".81\" height=\".81\" x=\"13\" y=\"26\" fill=\"#000000\" />\n<rect width=\".81\" height=\".81\" x=\"14\" y=\"26\" fill=\"#000000\" />\n<rect width=\".81\" height=\".81\" x=\"15\" y=\"26\" fill=\"#000000\" />\n<rect width=\".81\" height=\".81\" x=\"16\" y=\"26\" fill=\"#000000\" />\n<rect width=\".81\" height=\".81\" x=\"17\" y=\"26\" fill=\"#000000\" />\n<rect width=\".81\" height=\".81\" x=\"18\" y=\"26\" fill=\"#000000\" />\n<rect width=\".81\" height=\".81\" x=\"19\" y=\"26\" fill=\"#000000\" />\n<rect width=\".81\" height=\".81\" x=\"20\" y=\"26\" fill=\"#000000\" />\n<rect width=\".81\" height=\".81\" x=\"21\" y=\"26\" fill=\"#000000\" />\n<rect width=\".81\" height=\".81\" x=\"22\" y=\"26\" fill=\"#000000\" />\n<rect width=\".81\" height=\".81\" x=\"23\" y=\"26\" fill=\"#000000\" />\n<rect width=\".81\" height=\".81\" x=\"24\" y=\"26\" fill=\"#000000\" />\n<rect width=\".81\" height=\".81\" x=\"25\" y=\"26\" fill=\"#000000\" />\n<rect width=\".81\" height=\".81\" x=\"26\" y=\"26\" fill=\"#000000\" />\n<rect width=\".81\" height=\".81\" x=\"27\" y=\"26\" fill=\"#000000\" />\n<rect width=\".81\" height=\".81\" x=\"0\" y=\"27\" fill=\"#000000\" />\n<rect width=\".81\" height=\".81\" x=\"1\" y=\"27\" fill=\"#000000\" />\n<rect width=\".81\" height=\".81\" x=\"2\" y=\"27\" fill=\"#000000\" />\n<rect width=\".81\" height=\".81\" x=\"3\" y=\"27\" fill=\"#000000\" />\n<rect width=\".81\" height=\".81\" x=\"4\" y=\"27\" fill=\"#000000\" />\n<rect width=\".81\" height=\".81\" x=\"5\" y=\"27\" fill=\"#000000\" />\n<rect width=\".81\" height=\".81\" x=\"6\" y=\"27\" fill=\"#000000\" />\n<rect width=\".81\" height=\".81\" x=\"7\" y=\"27\" fill=\"#000000\" />\n<rect width=\".81\" height=\".81\" x=\"8\" y=\"27\" fill=\"#000000\" />\n<rect width=\".81\" height=\".81\" x=\"9\" y=\"27\" fill=\"#000000\" />\n<rect width=\".81\" height=\".81\" x=\"10\" y=\"27\" fill=\"#000000\" />\n<rect width=\".81\" height=\".81\" x=\"11\" y=\"27\" fill=\"#000000\" />\n<rect width=\".81\" height=\".81\" x=\"12\" y=\"27\" fill=\"#000000\" />\n<rect width=\".81\" height=\".81\" x=\"13\" y=\"27\" fill=\"#000000\" />\n<rect width=\".81\" height=\".81\" x=\"14\" y=\"27\" fill=\"#000000\" />\n<rect width=\".81\" height=\".81\" x=\"15\" y=\"27\" fill=\"#000000\" />\n<rect width=\".81\" height=\".81\" x=\"16\" y=\"27\" fill=\"#000000\" />\n<rect width=\".81\" height=\".81\" x=\"17\" y=\"27\" fill=\"#000000\" />\n<rect width=\".81\" height=\".81\" x=\"18\" y=\"27\" fill=\"#000000\" />\n<rect width=\".81\" height=\".81\" x=\"19\" y=\"27\" fill=\"#000000\" />\n<rect width=\".81\" height=\".81\" x=\"20\" y=\"27\" fill=\"#000000\" />\n<rect width=\".81\" height=\".81\" x=\"21\" y=\"27\" fill=\"#000000\" />\n<rect width=\".81\" height=\".81\" x=\"22\" y=\"27\" fill=\"#000000\" />\n<rect width=\".81\" height=\".81\" x=\"23\" y=\"27\" fill=\"#000000\" />\n<rect width=\".81\" height=\".81\" x=\"24\" y=\"27\" fill=\"#000000\" />\n<rect width=\".81\" height=\".81\" x=\"25\" y=\"27\" fill=\"#000000\" />\n<rect width=\".81\" height=\".81\" x=\"26\" y=\"27\" fill=\"#000000\" />\n<rect width=\".81\" height=\".81\" x=\"27\" y=\"27\" fill=\"#000000\" />\n</svg>"
          },
          "metadata": {
            "tags": []
          },
          "execution_count": 11
        }
      ]
    },
    {
      "cell_type": "markdown",
      "metadata": {
        "id": "ixWOaf2Vx98c",
        "colab_type": "text"
      },
      "source": [
        "**Model Building**"
      ]
    },
    {
      "cell_type": "code",
      "metadata": {
        "id": "ImIce6E1Q9pt",
        "colab_type": "code",
        "colab": {
          "base_uri": "https://localhost:8080/",
          "height": 34
        },
        "outputId": "e08e13fa-e4f1-43ad-eac9-f8e3f361f316"
      },
      "source": [
        "# building a simple model\n",
        "\n",
        "\n",
        "m =Chain(           \n",
        "  Dense(28^2, 32, relu),\n",
        "  Dense(32, 10),\n",
        "  softmax)\n",
        "\n",
        "model = m\n"
      ],
      "execution_count": 23,
      "outputs": [
        {
          "output_type": "execute_result",
          "data": {
            "text/plain": [
              "Chain(Dense(784, 32, relu), Dense(32, 10), softmax)"
            ]
          },
          "metadata": {
            "tags": []
          },
          "execution_count": 23
        }
      ]
    },
    {
      "cell_type": "code",
      "metadata": {
        "id": "OE_JxOZBXJkV",
        "colab_type": "code",
        "colab": {
          "base_uri": "https://localhost:8080/",
          "height": 204
        },
        "outputId": "cc55aef3-4475-4a49-f4a8-9351b5a714a6"
      },
      "source": [
        "X = hcat(float.(reshape.(train_img, :))...) #stack all the images\n",
        "Y = onehotbatch(train_label, 0:9) # just a common way to encode categorical variables"
      ],
      "execution_count": 24,
      "outputs": [
        {
          "output_type": "execute_result",
          "data": {
            "text/plain": [
              "10×60000 Flux.OneHotMatrix{Array{Flux.OneHotVector,1}}:\n",
              " 0  1  0  0  0  0  0  0  0  0  0  0  0  …  0  0  0  0  0  0  0  0  0  0  0  0\n",
              " 0  0  0  1  0  0  1  0  1  0  0  0  0     0  0  0  0  0  0  1  0  0  0  0  0\n",
              " 0  0  0  0  0  1  0  0  0  0  0  0  0     0  0  0  1  0  0  0  0  0  0  0  0\n",
              " 0  0  0  0  0  0  0  1  0  0  1  0  1     0  0  0  0  0  0  0  0  1  0  0  0\n",
              " 0  0  1  0  0  0  0  0  0  1  0  0  0     0  0  0  0  0  0  0  0  0  0  0  0\n",
              " 1  0  0  0  0  0  0  0  0  0  0  1  0  …  0  0  0  0  0  1  0  0  0  1  0  0\n",
              " 0  0  0  0  0  0  0  0  0  0  0  0  0     0  0  0  0  0  0  0  0  0  0  1  0\n",
              " 0  0  0  0  0  0  0  0  0  0  0  0  0     1  0  0  0  0  0  0  0  0  0  0  0\n",
              " 0  0  0  0  0  0  0  0  0  0  0  0  0     0  1  0  0  0  0  0  1  0  0  0  1\n",
              " 0  0  0  0  1  0  0  0  0  0  0  0  0     0  0  1  0  1  0  0  0  0  0  0  0"
            ]
          },
          "metadata": {
            "tags": []
          },
          "execution_count": 24
        }
      ]
    },
    {
      "cell_type": "markdown",
      "metadata": {
        "id": "eHtGkhkWyKXa",
        "colab_type": "text"
      },
      "source": [
        "**Loss Function and Accuracy**"
      ]
    },
    {
      "cell_type": "code",
      "metadata": {
        "id": "Felq6h-p_g9K",
        "colab_type": "code",
        "colab": {
          "base_uri": "https://localhost:8080/",
          "height": 34
        },
        "outputId": "ba8889ff-4329-44ba-87ea-d46f2f2e4422"
      },
      "source": [
        "loss(x, y) = crossentropy(model(x), y) \n",
        "opt = ADAM();      # popular stochastic gradient descent variant\n",
        "\n",
        "accuracy(x, y) = mean(onecold(model(x)) .== onecold(y))     # cute way to find average of correct guesses\n",
        "\n",
        "dataset = repeated((X,Y),200)       # repeat the data set 200 times, as opposed to @epochs 200 ...\n",
        "evalcb = () -> @show(loss(X, Y))    # callback to show loss"
      ],
      "execution_count": 41,
      "outputs": [
        {
          "output_type": "execute_result",
          "data": {
            "text/plain": [
              "#15 (generic function with 1 method)"
            ]
          },
          "metadata": {
            "tags": []
          },
          "execution_count": 41
        }
      ]
    },
    {
      "cell_type": "code",
      "metadata": {
        "id": "Y2dikue-eN5B",
        "colab_type": "code",
        "colab": {
          "base_uri": "https://localhost:8080/",
          "height": 187
        },
        "outputId": "f8308ae6-fb13-472f-b016-aad90d7cc639"
      },
      "source": [
        " Flux.train!(loss, params(model), dataset, opt, cb = throttle(evalcb, 10)); #took me ~2 minutes to train on GPU"
      ],
      "execution_count": 49,
      "outputs": [
        {
          "output_type": "stream",
          "text": [
            "loss(X, Y) = 0.1288626f0 (tracked)\n",
            "loss(X, Y) = 0.119610295f0 (tracked)\n",
            "loss(X, Y) = 0.111465156f0 (tracked)\n",
            "loss(X, Y) = 0.104163185f0 (tracked)\n",
            "loss(X, Y) = 0.097341746f0 (tracked)\n",
            "loss(X, Y) = 0.09151615f0 (tracked)\n",
            "loss(X, Y) = 0.08603765f0 (tracked)\n",
            "loss(X, Y) = 0.081104495f0 (tracked)\n",
            "loss(X, Y) = 0.07682921f0 (tracked)\n",
            "loss(X, Y) = 0.072693735f0 (tracked)\n"
          ],
          "name": "stdout"
        }
      ]
    },
    {
      "cell_type": "code",
      "metadata": {
        "id": "YPDr4PuRf-uA",
        "colab_type": "code",
        "colab": {
          "base_uri": "https://localhost:8080/",
          "height": 34
        },
        "outputId": "ef5161ba-474b-4e70-aee2-858ed7c5cad3"
      },
      "source": [
        "size(test_img)"
      ],
      "execution_count": 50,
      "outputs": [
        {
          "output_type": "execute_result",
          "data": {
            "text/plain": [
              "(10000,)"
            ]
          },
          "metadata": {
            "tags": []
          },
          "execution_count": 50
        }
      ]
    },
    {
      "cell_type": "code",
      "metadata": {
        "id": "pCzgPqY2q9FF",
        "colab_type": "code",
        "colab": {
          "base_uri": "https://localhost:8080/",
          "height": 588
        },
        "outputId": "2a1c0e1b-ca3a-4b71-cb8a-3c7e25ae51e9"
      },
      "source": [
        "Flux.Data.MNIST.images(:test)[5287] # give me a number 1-10000"
      ],
      "execution_count": 52,
      "outputs": [
        {
          "output_type": "execute_result",
          "data": {
            "text/plain": [
              "28×28 Array{Gray{N0f8},2} with eltype Gray{FixedPointNumbers.Normed{UInt8,8}}:\n",
              " Gray{N0f8}(0.0)  Gray{N0f8}(0.0)  …  Gray{N0f8}(0.0)  Gray{N0f8}(0.0)\n",
              " Gray{N0f8}(0.0)  Gray{N0f8}(0.0)     Gray{N0f8}(0.0)  Gray{N0f8}(0.0)\n",
              " Gray{N0f8}(0.0)  Gray{N0f8}(0.0)     Gray{N0f8}(0.0)  Gray{N0f8}(0.0)\n",
              " Gray{N0f8}(0.0)  Gray{N0f8}(0.0)     Gray{N0f8}(0.0)  Gray{N0f8}(0.0)\n",
              " Gray{N0f8}(0.0)  Gray{N0f8}(0.0)     Gray{N0f8}(0.0)  Gray{N0f8}(0.0)\n",
              " Gray{N0f8}(0.0)  Gray{N0f8}(0.0)  …  Gray{N0f8}(0.0)  Gray{N0f8}(0.0)\n",
              " Gray{N0f8}(0.0)  Gray{N0f8}(0.0)     Gray{N0f8}(0.0)  Gray{N0f8}(0.0)\n",
              " Gray{N0f8}(0.0)  Gray{N0f8}(0.0)     Gray{N0f8}(0.0)  Gray{N0f8}(0.0)\n",
              " Gray{N0f8}(0.0)  Gray{N0f8}(0.0)     Gray{N0f8}(0.0)  Gray{N0f8}(0.0)\n",
              " Gray{N0f8}(0.0)  Gray{N0f8}(0.0)     Gray{N0f8}(0.0)  Gray{N0f8}(0.0)\n",
              " Gray{N0f8}(0.0)  Gray{N0f8}(0.0)  …  Gray{N0f8}(0.0)  Gray{N0f8}(0.0)\n",
              " Gray{N0f8}(0.0)  Gray{N0f8}(0.0)     Gray{N0f8}(0.0)  Gray{N0f8}(0.0)\n",
              " Gray{N0f8}(0.0)  Gray{N0f8}(0.0)     Gray{N0f8}(0.0)  Gray{N0f8}(0.0)\n",
              " ⋮                                 ⋱                   \n",
              " Gray{N0f8}(0.0)  Gray{N0f8}(0.0)     Gray{N0f8}(0.0)  Gray{N0f8}(0.0)\n",
              " Gray{N0f8}(0.0)  Gray{N0f8}(0.0)     Gray{N0f8}(0.0)  Gray{N0f8}(0.0)\n",
              " Gray{N0f8}(0.0)  Gray{N0f8}(0.0)     Gray{N0f8}(0.0)  Gray{N0f8}(0.0)\n",
              " Gray{N0f8}(0.0)  Gray{N0f8}(0.0)     Gray{N0f8}(0.0)  Gray{N0f8}(0.0)\n",
              " Gray{N0f8}(0.0)  Gray{N0f8}(0.0)  …  Gray{N0f8}(0.0)  Gray{N0f8}(0.0)\n",
              " Gray{N0f8}(0.0)  Gray{N0f8}(0.0)     Gray{N0f8}(0.0)  Gray{N0f8}(0.0)\n",
              " Gray{N0f8}(0.0)  Gray{N0f8}(0.0)     Gray{N0f8}(0.0)  Gray{N0f8}(0.0)\n",
              " Gray{N0f8}(0.0)  Gray{N0f8}(0.0)     Gray{N0f8}(0.0)  Gray{N0f8}(0.0)\n",
              " Gray{N0f8}(0.0)  Gray{N0f8}(0.0)     Gray{N0f8}(0.0)  Gray{N0f8}(0.0)\n",
              " Gray{N0f8}(0.0)  Gray{N0f8}(0.0)  …  Gray{N0f8}(0.0)  Gray{N0f8}(0.0)\n",
              " Gray{N0f8}(0.0)  Gray{N0f8}(0.0)     Gray{N0f8}(0.0)  Gray{N0f8}(0.0)\n",
              " Gray{N0f8}(0.0)  Gray{N0f8}(0.0)     Gray{N0f8}(0.0)  Gray{N0f8}(0.0)"
            ],
            "image/svg+xml": "<?xml version=\"1.0\" encoding=\"UTF-8\"?>\n<!DOCTYPE svg PUBLIC \"-//W3C//DTD SVG 1.1//EN\"\n \"http://www.w3.org/Graphics/SVG/1.1/DTD/svg11.dtd\">\n<svg xmlns=\"http://www.w3.org/2000/svg\" version=\"1.1\"\n     width=\"150mm\" height=\"150mm\"\n     viewBox=\"0 0 28 28\" preserveAspectRatio=\"none\"\n     shape-rendering=\"crispEdges\" stroke=\"none\">\n<rect width=\".81\" height=\".81\" x=\"0\" y=\"0\" fill=\"#000000\" />\n<rect width=\".81\" height=\".81\" x=\"1\" y=\"0\" fill=\"#000000\" />\n<rect width=\".81\" height=\".81\" x=\"2\" y=\"0\" fill=\"#000000\" />\n<rect width=\".81\" height=\".81\" x=\"3\" y=\"0\" fill=\"#000000\" />\n<rect width=\".81\" height=\".81\" x=\"4\" y=\"0\" fill=\"#000000\" />\n<rect width=\".81\" height=\".81\" x=\"5\" y=\"0\" fill=\"#000000\" />\n<rect width=\".81\" height=\".81\" x=\"6\" y=\"0\" fill=\"#000000\" />\n<rect width=\".81\" height=\".81\" x=\"7\" y=\"0\" fill=\"#000000\" />\n<rect width=\".81\" height=\".81\" x=\"8\" y=\"0\" fill=\"#000000\" />\n<rect width=\".81\" height=\".81\" x=\"9\" y=\"0\" fill=\"#000000\" />\n<rect width=\".81\" height=\".81\" x=\"10\" y=\"0\" fill=\"#000000\" />\n<rect width=\".81\" height=\".81\" x=\"11\" y=\"0\" fill=\"#000000\" />\n<rect width=\".81\" height=\".81\" x=\"12\" y=\"0\" fill=\"#000000\" />\n<rect width=\".81\" height=\".81\" x=\"13\" y=\"0\" fill=\"#000000\" />\n<rect width=\".81\" height=\".81\" x=\"14\" y=\"0\" fill=\"#000000\" />\n<rect width=\".81\" height=\".81\" x=\"15\" y=\"0\" fill=\"#000000\" />\n<rect width=\".81\" height=\".81\" x=\"16\" y=\"0\" fill=\"#000000\" />\n<rect width=\".81\" height=\".81\" x=\"17\" y=\"0\" fill=\"#000000\" />\n<rect width=\".81\" height=\".81\" x=\"18\" y=\"0\" fill=\"#000000\" />\n<rect width=\".81\" height=\".81\" x=\"19\" y=\"0\" fill=\"#000000\" />\n<rect width=\".81\" height=\".81\" x=\"20\" y=\"0\" fill=\"#000000\" />\n<rect width=\".81\" height=\".81\" x=\"21\" y=\"0\" fill=\"#000000\" />\n<rect width=\".81\" height=\".81\" x=\"22\" y=\"0\" fill=\"#000000\" />\n<rect width=\".81\" height=\".81\" x=\"23\" y=\"0\" fill=\"#000000\" />\n<rect width=\".81\" height=\".81\" x=\"24\" y=\"0\" fill=\"#000000\" />\n<rect width=\".81\" height=\".81\" x=\"25\" y=\"0\" fill=\"#000000\" />\n<rect width=\".81\" height=\".81\" x=\"26\" y=\"0\" fill=\"#000000\" />\n<rect width=\".81\" height=\".81\" x=\"27\" y=\"0\" fill=\"#000000\" />\n<rect width=\".81\" height=\".81\" x=\"0\" y=\"1\" fill=\"#000000\" />\n<rect width=\".81\" height=\".81\" x=\"1\" y=\"1\" fill=\"#000000\" />\n<rect width=\".81\" height=\".81\" x=\"2\" y=\"1\" fill=\"#000000\" />\n<rect width=\".81\" height=\".81\" x=\"3\" y=\"1\" fill=\"#000000\" />\n<rect width=\".81\" height=\".81\" x=\"4\" y=\"1\" fill=\"#000000\" />\n<rect width=\".81\" height=\".81\" x=\"5\" y=\"1\" fill=\"#000000\" />\n<rect width=\".81\" height=\".81\" x=\"6\" y=\"1\" fill=\"#000000\" />\n<rect width=\".81\" height=\".81\" x=\"7\" y=\"1\" fill=\"#000000\" />\n<rect width=\".81\" height=\".81\" x=\"8\" y=\"1\" fill=\"#000000\" />\n<rect width=\".81\" height=\".81\" x=\"9\" y=\"1\" fill=\"#000000\" />\n<rect width=\".81\" height=\".81\" x=\"10\" y=\"1\" fill=\"#000000\" />\n<rect width=\".81\" height=\".81\" x=\"11\" y=\"1\" fill=\"#000000\" />\n<rect width=\".81\" height=\".81\" x=\"12\" y=\"1\" fill=\"#000000\" />\n<rect width=\".81\" height=\".81\" x=\"13\" y=\"1\" fill=\"#000000\" />\n<rect width=\".81\" height=\".81\" x=\"14\" y=\"1\" fill=\"#000000\" />\n<rect width=\".81\" height=\".81\" x=\"15\" y=\"1\" fill=\"#000000\" />\n<rect width=\".81\" height=\".81\" x=\"16\" y=\"1\" fill=\"#000000\" />\n<rect width=\".81\" height=\".81\" x=\"17\" y=\"1\" fill=\"#000000\" />\n<rect width=\".81\" height=\".81\" x=\"18\" y=\"1\" fill=\"#000000\" />\n<rect width=\".81\" height=\".81\" x=\"19\" y=\"1\" fill=\"#000000\" />\n<rect width=\".81\" height=\".81\" x=\"20\" y=\"1\" fill=\"#000000\" />\n<rect width=\".81\" height=\".81\" x=\"21\" y=\"1\" fill=\"#000000\" />\n<rect width=\".81\" height=\".81\" x=\"22\" y=\"1\" fill=\"#000000\" />\n<rect width=\".81\" height=\".81\" x=\"23\" y=\"1\" fill=\"#000000\" />\n<rect width=\".81\" height=\".81\" x=\"24\" y=\"1\" fill=\"#000000\" />\n<rect width=\".81\" height=\".81\" x=\"25\" y=\"1\" fill=\"#000000\" />\n<rect width=\".81\" height=\".81\" x=\"26\" y=\"1\" fill=\"#000000\" />\n<rect width=\".81\" height=\".81\" x=\"27\" y=\"1\" fill=\"#000000\" />\n<rect width=\".81\" height=\".81\" x=\"0\" y=\"2\" fill=\"#000000\" />\n<rect width=\".81\" height=\".81\" x=\"1\" y=\"2\" fill=\"#000000\" />\n<rect width=\".81\" height=\".81\" x=\"2\" y=\"2\" fill=\"#000000\" />\n<rect width=\".81\" height=\".81\" x=\"3\" y=\"2\" fill=\"#000000\" />\n<rect width=\".81\" height=\".81\" x=\"4\" y=\"2\" fill=\"#000000\" />\n<rect width=\".81\" height=\".81\" x=\"5\" y=\"2\" fill=\"#000000\" />\n<rect width=\".81\" height=\".81\" x=\"6\" y=\"2\" fill=\"#000000\" />\n<rect width=\".81\" height=\".81\" x=\"7\" y=\"2\" fill=\"#000000\" />\n<rect width=\".81\" height=\".81\" x=\"8\" y=\"2\" fill=\"#000000\" />\n<rect width=\".81\" height=\".81\" x=\"9\" y=\"2\" fill=\"#000000\" />\n<rect width=\".81\" height=\".81\" x=\"10\" y=\"2\" fill=\"#000000\" />\n<rect width=\".81\" height=\".81\" x=\"11\" y=\"2\" fill=\"#000000\" />\n<rect width=\".81\" height=\".81\" x=\"12\" y=\"2\" fill=\"#000000\" />\n<rect width=\".81\" height=\".81\" x=\"13\" y=\"2\" fill=\"#000000\" />\n<rect width=\".81\" height=\".81\" x=\"14\" y=\"2\" fill=\"#212121\" />\n<rect width=\".81\" height=\".81\" x=\"15\" y=\"2\" fill=\"#9A9A9A\" />\n<rect width=\".81\" height=\".81\" x=\"16\" y=\"2\" fill=\"#FFFFFF\" />\n<rect width=\".81\" height=\".81\" x=\"17\" y=\"2\" fill=\"#D0D0D0\" />\n<rect width=\".81\" height=\".81\" x=\"18\" y=\"2\" fill=\"#000000\" />\n<rect width=\".81\" height=\".81\" x=\"19\" y=\"2\" fill=\"#000000\" />\n<rect width=\".81\" height=\".81\" x=\"20\" y=\"2\" fill=\"#000000\" />\n<rect width=\".81\" height=\".81\" x=\"21\" y=\"2\" fill=\"#000000\" />\n<rect width=\".81\" height=\".81\" x=\"22\" y=\"2\" fill=\"#000000\" />\n<rect width=\".81\" height=\".81\" x=\"23\" y=\"2\" fill=\"#000000\" />\n<rect width=\".81\" height=\".81\" x=\"24\" y=\"2\" fill=\"#000000\" />\n<rect width=\".81\" height=\".81\" x=\"25\" y=\"2\" fill=\"#000000\" />\n<rect width=\".81\" height=\".81\" x=\"26\" y=\"2\" fill=\"#000000\" />\n<rect width=\".81\" height=\".81\" x=\"27\" y=\"2\" fill=\"#000000\" />\n<rect width=\".81\" height=\".81\" x=\"0\" y=\"3\" fill=\"#000000\" />\n<rect width=\".81\" height=\".81\" x=\"1\" y=\"3\" fill=\"#000000\" />\n<rect width=\".81\" height=\".81\" x=\"2\" y=\"3\" fill=\"#000000\" />\n<rect width=\".81\" height=\".81\" x=\"3\" y=\"3\" fill=\"#000000\" />\n<rect width=\".81\" height=\".81\" x=\"4\" y=\"3\" fill=\"#000000\" />\n<rect width=\".81\" height=\".81\" x=\"5\" y=\"3\" fill=\"#000000\" />\n<rect width=\".81\" height=\".81\" x=\"6\" y=\"3\" fill=\"#000000\" />\n<rect width=\".81\" height=\".81\" x=\"7\" y=\"3\" fill=\"#000000\" />\n<rect width=\".81\" height=\".81\" x=\"8\" y=\"3\" fill=\"#000000\" />\n<rect width=\".81\" height=\".81\" x=\"9\" y=\"3\" fill=\"#000000\" />\n<rect width=\".81\" height=\".81\" x=\"10\" y=\"3\" fill=\"#000000\" />\n<rect width=\".81\" height=\".81\" x=\"11\" y=\"3\" fill=\"#000000\" />\n<rect width=\".81\" height=\".81\" x=\"12\" y=\"3\" fill=\"#000000\" />\n<rect width=\".81\" height=\".81\" x=\"13\" y=\"3\" fill=\"#000000\" />\n<rect width=\".81\" height=\".81\" x=\"14\" y=\"3\" fill=\"#7F7F7F\" />\n<rect width=\".81\" height=\".81\" x=\"15\" y=\"3\" fill=\"#FDFDFD\" />\n<rect width=\".81\" height=\".81\" x=\"16\" y=\"3\" fill=\"#FDFDFD\" />\n<rect width=\".81\" height=\".81\" x=\"17\" y=\"3\" fill=\"#CFCFCF\" />\n<rect width=\".81\" height=\".81\" x=\"18\" y=\"3\" fill=\"#000000\" />\n<rect width=\".81\" height=\".81\" x=\"19\" y=\"3\" fill=\"#000000\" />\n<rect width=\".81\" height=\".81\" x=\"20\" y=\"3\" fill=\"#000000\" />\n<rect width=\".81\" height=\".81\" x=\"21\" y=\"3\" fill=\"#000000\" />\n<rect width=\".81\" height=\".81\" x=\"22\" y=\"3\" fill=\"#000000\" />\n<rect width=\".81\" height=\".81\" x=\"23\" y=\"3\" fill=\"#000000\" />\n<rect width=\".81\" height=\".81\" x=\"24\" y=\"3\" fill=\"#000000\" />\n<rect width=\".81\" height=\".81\" x=\"25\" y=\"3\" fill=\"#000000\" />\n<rect width=\".81\" height=\".81\" x=\"26\" y=\"3\" fill=\"#000000\" />\n<rect width=\".81\" height=\".81\" x=\"27\" y=\"3\" fill=\"#000000\" />\n<rect width=\".81\" height=\".81\" x=\"0\" y=\"4\" fill=\"#000000\" />\n<rect width=\".81\" height=\".81\" x=\"1\" y=\"4\" fill=\"#000000\" />\n<rect width=\".81\" height=\".81\" x=\"2\" y=\"4\" fill=\"#000000\" />\n<rect width=\".81\" height=\".81\" x=\"3\" y=\"4\" fill=\"#000000\" />\n<rect width=\".81\" height=\".81\" x=\"4\" y=\"4\" fill=\"#000000\" />\n<rect width=\".81\" height=\".81\" x=\"5\" y=\"4\" fill=\"#000000\" />\n<rect width=\".81\" height=\".81\" x=\"6\" y=\"4\" fill=\"#000000\" />\n<rect width=\".81\" height=\".81\" x=\"7\" y=\"4\" fill=\"#000000\" />\n<rect width=\".81\" height=\".81\" x=\"8\" y=\"4\" fill=\"#000000\" />\n<rect width=\".81\" height=\".81\" x=\"9\" y=\"4\" fill=\"#000000\" />\n<rect width=\".81\" height=\".81\" x=\"10\" y=\"4\" fill=\"#000000\" />\n<rect width=\".81\" height=\".81\" x=\"11\" y=\"4\" fill=\"#000000\" />\n<rect width=\".81\" height=\".81\" x=\"12\" y=\"4\" fill=\"#000000\" />\n<rect width=\".81\" height=\".81\" x=\"13\" y=\"4\" fill=\"#7E7E7E\" />\n<rect width=\".81\" height=\".81\" x=\"14\" y=\"4\" fill=\"#FBFBFB\" />\n<rect width=\".81\" height=\".81\" x=\"15\" y=\"4\" fill=\"#FDFDFD\" />\n<rect width=\".81\" height=\".81\" x=\"16\" y=\"4\" fill=\"#FDFDFD\" />\n<rect width=\".81\" height=\".81\" x=\"17\" y=\"4\" fill=\"#545454\" />\n<rect width=\".81\" height=\".81\" x=\"18\" y=\"4\" fill=\"#000000\" />\n<rect width=\".81\" height=\".81\" x=\"19\" y=\"4\" fill=\"#000000\" />\n<rect width=\".81\" height=\".81\" x=\"20\" y=\"4\" fill=\"#000000\" />\n<rect width=\".81\" height=\".81\" x=\"21\" y=\"4\" fill=\"#000000\" />\n<rect width=\".81\" height=\".81\" x=\"22\" y=\"4\" fill=\"#000000\" />\n<rect width=\".81\" height=\".81\" x=\"23\" y=\"4\" fill=\"#000000\" />\n<rect width=\".81\" height=\".81\" x=\"24\" y=\"4\" fill=\"#000000\" />\n<rect width=\".81\" height=\".81\" x=\"25\" y=\"4\" fill=\"#000000\" />\n<rect width=\".81\" height=\".81\" x=\"26\" y=\"4\" fill=\"#000000\" />\n<rect width=\".81\" height=\".81\" x=\"27\" y=\"4\" fill=\"#000000\" />\n<rect width=\".81\" height=\".81\" x=\"0\" y=\"5\" fill=\"#000000\" />\n<rect width=\".81\" height=\".81\" x=\"1\" y=\"5\" fill=\"#000000\" />\n<rect width=\".81\" height=\".81\" x=\"2\" y=\"5\" fill=\"#000000\" />\n<rect width=\".81\" height=\".81\" x=\"3\" y=\"5\" fill=\"#000000\" />\n<rect width=\".81\" height=\".81\" x=\"4\" y=\"5\" fill=\"#000000\" />\n<rect width=\".81\" height=\".81\" x=\"5\" y=\"5\" fill=\"#000000\" />\n<rect width=\".81\" height=\".81\" x=\"6\" y=\"5\" fill=\"#000000\" />\n<rect width=\".81\" height=\".81\" x=\"7\" y=\"5\" fill=\"#000000\" />\n<rect width=\".81\" height=\".81\" x=\"8\" y=\"5\" fill=\"#000000\" />\n<rect width=\".81\" height=\".81\" x=\"9\" y=\"5\" fill=\"#000000\" />\n<rect width=\".81\" height=\".81\" x=\"10\" y=\"5\" fill=\"#000000\" />\n<rect width=\".81\" height=\".81\" x=\"11\" y=\"5\" fill=\"#000000\" />\n<rect width=\".81\" height=\".81\" x=\"12\" y=\"5\" fill=\"#212121\" />\n<rect width=\".81\" height=\".81\" x=\"13\" y=\"5\" fill=\"#DFDFDF\" />\n<rect width=\".81\" height=\".81\" x=\"14\" y=\"5\" fill=\"#FDFDFD\" />\n<rect width=\".81\" height=\".81\" x=\"15\" y=\"5\" fill=\"#FDFDFD\" />\n<rect width=\".81\" height=\".81\" x=\"16\" y=\"5\" fill=\"#CDCDCD\" />\n<rect width=\".81\" height=\".81\" x=\"17\" y=\"5\" fill=\"#060606\" />\n<rect width=\".81\" height=\".81\" x=\"18\" y=\"5\" fill=\"#000000\" />\n<rect width=\".81\" height=\".81\" x=\"19\" y=\"5\" fill=\"#000000\" />\n<rect width=\".81\" height=\".81\" x=\"20\" y=\"5\" fill=\"#000000\" />\n<rect width=\".81\" height=\".81\" x=\"21\" y=\"5\" fill=\"#000000\" />\n<rect width=\".81\" height=\".81\" x=\"22\" y=\"5\" fill=\"#000000\" />\n<rect width=\".81\" height=\".81\" x=\"23\" y=\"5\" fill=\"#000000\" />\n<rect width=\".81\" height=\".81\" x=\"24\" y=\"5\" fill=\"#000000\" />\n<rect width=\".81\" height=\".81\" x=\"25\" y=\"5\" fill=\"#000000\" />\n<rect width=\".81\" height=\".81\" x=\"26\" y=\"5\" fill=\"#000000\" />\n<rect width=\".81\" height=\".81\" x=\"27\" y=\"5\" fill=\"#000000\" />\n<rect width=\".81\" height=\".81\" x=\"0\" y=\"6\" fill=\"#000000\" />\n<rect width=\".81\" height=\".81\" x=\"1\" y=\"6\" fill=\"#000000\" />\n<rect width=\".81\" height=\".81\" x=\"2\" y=\"6\" fill=\"#000000\" />\n<rect width=\".81\" height=\".81\" x=\"3\" y=\"6\" fill=\"#000000\" />\n<rect width=\".81\" height=\".81\" x=\"4\" y=\"6\" fill=\"#000000\" />\n<rect width=\".81\" height=\".81\" x=\"5\" y=\"6\" fill=\"#000000\" />\n<rect width=\".81\" height=\".81\" x=\"6\" y=\"6\" fill=\"#000000\" />\n<rect width=\".81\" height=\".81\" x=\"7\" y=\"6\" fill=\"#000000\" />\n<rect width=\".81\" height=\".81\" x=\"8\" y=\"6\" fill=\"#000000\" />\n<rect width=\".81\" height=\".81\" x=\"9\" y=\"6\" fill=\"#000000\" />\n<rect width=\".81\" height=\".81\" x=\"10\" y=\"6\" fill=\"#000000\" />\n<rect width=\".81\" height=\".81\" x=\"11\" y=\"6\" fill=\"#000000\" />\n<rect width=\".81\" height=\".81\" x=\"12\" y=\"6\" fill=\"#818181\" />\n<rect width=\".81\" height=\".81\" x=\"13\" y=\"6\" fill=\"#FDFDFD\" />\n<rect width=\".81\" height=\".81\" x=\"14\" y=\"6\" fill=\"#FDFDFD\" />\n<rect width=\".81\" height=\".81\" x=\"15\" y=\"6\" fill=\"#FDFDFD\" />\n<rect width=\".81\" height=\".81\" x=\"16\" y=\"6\" fill=\"#545454\" />\n<rect width=\".81\" height=\".81\" x=\"17\" y=\"6\" fill=\"#000000\" />\n<rect width=\".81\" height=\".81\" x=\"18\" y=\"6\" fill=\"#000000\" />\n<rect width=\".81\" height=\".81\" x=\"19\" y=\"6\" fill=\"#000000\" />\n<rect width=\".81\" height=\".81\" x=\"20\" y=\"6\" fill=\"#000000\" />\n<rect width=\".81\" height=\".81\" x=\"21\" y=\"6\" fill=\"#000000\" />\n<rect width=\".81\" height=\".81\" x=\"22\" y=\"6\" fill=\"#000000\" />\n<rect width=\".81\" height=\".81\" x=\"23\" y=\"6\" fill=\"#000000\" />\n<rect width=\".81\" height=\".81\" x=\"24\" y=\"6\" fill=\"#000000\" />\n<rect width=\".81\" height=\".81\" x=\"25\" y=\"6\" fill=\"#000000\" />\n<rect width=\".81\" height=\".81\" x=\"26\" y=\"6\" fill=\"#000000\" />\n<rect width=\".81\" height=\".81\" x=\"27\" y=\"6\" fill=\"#000000\" />\n<rect width=\".81\" height=\".81\" x=\"0\" y=\"7\" fill=\"#000000\" />\n<rect width=\".81\" height=\".81\" x=\"1\" y=\"7\" fill=\"#000000\" />\n<rect width=\".81\" height=\".81\" x=\"2\" y=\"7\" fill=\"#000000\" />\n<rect width=\".81\" height=\".81\" x=\"3\" y=\"7\" fill=\"#000000\" />\n<rect width=\".81\" height=\".81\" x=\"4\" y=\"7\" fill=\"#000000\" />\n<rect width=\".81\" height=\".81\" x=\"5\" y=\"7\" fill=\"#000000\" />\n<rect width=\".81\" height=\".81\" x=\"6\" y=\"7\" fill=\"#000000\" />\n<rect width=\".81\" height=\".81\" x=\"7\" y=\"7\" fill=\"#000000\" />\n<rect width=\".81\" height=\".81\" x=\"8\" y=\"7\" fill=\"#000000\" />\n<rect width=\".81\" height=\".81\" x=\"9\" y=\"7\" fill=\"#000000\" />\n<rect width=\".81\" height=\".81\" x=\"10\" y=\"7\" fill=\"#000000\" />\n<rect width=\".81\" height=\".81\" x=\"11\" y=\"7\" fill=\"#4B4B4B\" />\n<rect width=\".81\" height=\".81\" x=\"12\" y=\"7\" fill=\"#F8F8F8\" />\n<rect width=\".81\" height=\".81\" x=\"13\" y=\"7\" fill=\"#FDFDFD\" />\n<rect width=\".81\" height=\".81\" x=\"14\" y=\"7\" fill=\"#FDFDFD\" />\n<rect width=\".81\" height=\".81\" x=\"15\" y=\"7\" fill=\"#CACACA\" />\n<rect width=\".81\" height=\".81\" x=\"16\" y=\"7\" fill=\"#090909\" />\n<rect width=\".81\" height=\".81\" x=\"17\" y=\"7\" fill=\"#000000\" />\n<rect width=\".81\" height=\".81\" x=\"18\" y=\"7\" fill=\"#000000\" />\n<rect width=\".81\" height=\".81\" x=\"19\" y=\"7\" fill=\"#000000\" />\n<rect width=\".81\" height=\".81\" x=\"20\" y=\"7\" fill=\"#000000\" />\n<rect width=\".81\" height=\".81\" x=\"21\" y=\"7\" fill=\"#000000\" />\n<rect width=\".81\" height=\".81\" x=\"22\" y=\"7\" fill=\"#000000\" />\n<rect width=\".81\" height=\".81\" x=\"23\" y=\"7\" fill=\"#000000\" />\n<rect width=\".81\" height=\".81\" x=\"24\" y=\"7\" fill=\"#000000\" />\n<rect width=\".81\" height=\".81\" x=\"25\" y=\"7\" fill=\"#000000\" />\n<rect width=\".81\" height=\".81\" x=\"26\" y=\"7\" fill=\"#000000\" />\n<rect width=\".81\" height=\".81\" x=\"27\" y=\"7\" fill=\"#000000\" />\n<rect width=\".81\" height=\".81\" x=\"0\" y=\"8\" fill=\"#000000\" />\n<rect width=\".81\" height=\".81\" x=\"1\" y=\"8\" fill=\"#000000\" />\n<rect width=\".81\" height=\".81\" x=\"2\" y=\"8\" fill=\"#000000\" />\n<rect width=\".81\" height=\".81\" x=\"3\" y=\"8\" fill=\"#000000\" />\n<rect width=\".81\" height=\".81\" x=\"4\" y=\"8\" fill=\"#000000\" />\n<rect width=\".81\" height=\".81\" x=\"5\" y=\"8\" fill=\"#000000\" />\n<rect width=\".81\" height=\".81\" x=\"6\" y=\"8\" fill=\"#000000\" />\n<rect width=\".81\" height=\".81\" x=\"7\" y=\"8\" fill=\"#000000\" />\n<rect width=\".81\" height=\".81\" x=\"8\" y=\"8\" fill=\"#000000\" />\n<rect width=\".81\" height=\".81\" x=\"9\" y=\"8\" fill=\"#000000\" />\n<rect width=\".81\" height=\".81\" x=\"10\" y=\"8\" fill=\"#000000\" />\n<rect width=\".81\" height=\".81\" x=\"11\" y=\"8\" fill=\"#808080\" />\n<rect width=\".81\" height=\".81\" x=\"12\" y=\"8\" fill=\"#FDFDFD\" />\n<rect width=\".81\" height=\".81\" x=\"13\" y=\"8\" fill=\"#FDFDFD\" />\n<rect width=\".81\" height=\".81\" x=\"14\" y=\"8\" fill=\"#E7E7E7\" />\n<rect width=\".81\" height=\".81\" x=\"15\" y=\"8\" fill=\"#818181\" />\n<rect width=\".81\" height=\".81\" x=\"16\" y=\"8\" fill=\"#000000\" />\n<rect width=\".81\" height=\".81\" x=\"17\" y=\"8\" fill=\"#000000\" />\n<rect width=\".81\" height=\".81\" x=\"18\" y=\"8\" fill=\"#000000\" />\n<rect width=\".81\" height=\".81\" x=\"19\" y=\"8\" fill=\"#000000\" />\n<rect width=\".81\" height=\".81\" x=\"20\" y=\"8\" fill=\"#000000\" />\n<rect width=\".81\" height=\".81\" x=\"21\" y=\"8\" fill=\"#000000\" />\n<rect width=\".81\" height=\".81\" x=\"22\" y=\"8\" fill=\"#000000\" />\n<rect width=\".81\" height=\".81\" x=\"23\" y=\"8\" fill=\"#000000\" />\n<rect width=\".81\" height=\".81\" x=\"24\" y=\"8\" fill=\"#000000\" />\n<rect width=\".81\" height=\".81\" x=\"25\" y=\"8\" fill=\"#000000\" />\n<rect width=\".81\" height=\".81\" x=\"26\" y=\"8\" fill=\"#000000\" />\n<rect width=\".81\" height=\".81\" x=\"27\" y=\"8\" fill=\"#000000\" />\n<rect width=\".81\" height=\".81\" x=\"0\" y=\"9\" fill=\"#000000\" />\n<rect width=\".81\" height=\".81\" x=\"1\" y=\"9\" fill=\"#000000\" />\n<rect width=\".81\" height=\".81\" x=\"2\" y=\"9\" fill=\"#000000\" />\n<rect width=\".81\" height=\".81\" x=\"3\" y=\"9\" fill=\"#000000\" />\n<rect width=\".81\" height=\".81\" x=\"4\" y=\"9\" fill=\"#000000\" />\n<rect width=\".81\" height=\".81\" x=\"5\" y=\"9\" fill=\"#000000\" />\n<rect width=\".81\" height=\".81\" x=\"6\" y=\"9\" fill=\"#000000\" />\n<rect width=\".81\" height=\".81\" x=\"7\" y=\"9\" fill=\"#000000\" />\n<rect width=\".81\" height=\".81\" x=\"8\" y=\"9\" fill=\"#000000\" />\n<rect width=\".81\" height=\".81\" x=\"9\" y=\"9\" fill=\"#000000\" />\n<rect width=\".81\" height=\".81\" x=\"10\" y=\"9\" fill=\"#1D1D1D\" />\n<rect width=\".81\" height=\".81\" x=\"11\" y=\"9\" fill=\"#E3E3E3\" />\n<rect width=\".81\" height=\".81\" x=\"12\" y=\"9\" fill=\"#FDFDFD\" />\n<rect width=\".81\" height=\".81\" x=\"13\" y=\"9\" fill=\"#FDFDFD\" />\n<rect width=\".81\" height=\".81\" x=\"14\" y=\"9\" fill=\"#BCBCBC\" />\n<rect width=\".81\" height=\".81\" x=\"15\" y=\"9\" fill=\"#000000\" />\n<rect width=\".81\" height=\".81\" x=\"16\" y=\"9\" fill=\"#000000\" />\n<rect width=\".81\" height=\".81\" x=\"17\" y=\"9\" fill=\"#000000\" />\n<rect width=\".81\" height=\".81\" x=\"18\" y=\"9\" fill=\"#000000\" />\n<rect width=\".81\" height=\".81\" x=\"19\" y=\"9\" fill=\"#000000\" />\n<rect width=\".81\" height=\".81\" x=\"20\" y=\"9\" fill=\"#000000\" />\n<rect width=\".81\" height=\".81\" x=\"21\" y=\"9\" fill=\"#000000\" />\n<rect width=\".81\" height=\".81\" x=\"22\" y=\"9\" fill=\"#000000\" />\n<rect width=\".81\" height=\".81\" x=\"23\" y=\"9\" fill=\"#000000\" />\n<rect width=\".81\" height=\".81\" x=\"24\" y=\"9\" fill=\"#000000\" />\n<rect width=\".81\" height=\".81\" x=\"25\" y=\"9\" fill=\"#000000\" />\n<rect width=\".81\" height=\".81\" x=\"26\" y=\"9\" fill=\"#000000\" />\n<rect width=\".81\" height=\".81\" x=\"27\" y=\"9\" fill=\"#000000\" />\n<rect width=\".81\" height=\".81\" x=\"0\" y=\"10\" fill=\"#000000\" />\n<rect width=\".81\" height=\".81\" x=\"1\" y=\"10\" fill=\"#000000\" />\n<rect width=\".81\" height=\".81\" x=\"2\" y=\"10\" fill=\"#000000\" />\n<rect width=\".81\" height=\".81\" x=\"3\" y=\"10\" fill=\"#000000\" />\n<rect width=\".81\" height=\".81\" x=\"4\" y=\"10\" fill=\"#000000\" />\n<rect width=\".81\" height=\".81\" x=\"5\" y=\"10\" fill=\"#000000\" />\n<rect width=\".81\" height=\".81\" x=\"6\" y=\"10\" fill=\"#000000\" />\n<rect width=\".81\" height=\".81\" x=\"7\" y=\"10\" fill=\"#000000\" />\n<rect width=\".81\" height=\".81\" x=\"8\" y=\"10\" fill=\"#000000\" />\n<rect width=\".81\" height=\".81\" x=\"9\" y=\"10\" fill=\"#000000\" />\n<rect width=\".81\" height=\".81\" x=\"10\" y=\"10\" fill=\"#C4C4C4\" />\n<rect width=\".81\" height=\".81\" x=\"11\" y=\"10\" fill=\"#FDFDFD\" />\n<rect width=\".81\" height=\".81\" x=\"12\" y=\"10\" fill=\"#FDFDFD\" />\n<rect width=\".81\" height=\".81\" x=\"13\" y=\"10\" fill=\"#FDFDFD\" />\n<rect width=\".81\" height=\".81\" x=\"14\" y=\"10\" fill=\"#979797\" />\n<rect width=\".81\" height=\".81\" x=\"15\" y=\"10\" fill=\"#000000\" />\n<rect width=\".81\" height=\".81\" x=\"16\" y=\"10\" fill=\"#000000\" />\n<rect width=\".81\" height=\".81\" x=\"17\" y=\"10\" fill=\"#000000\" />\n<rect width=\".81\" height=\".81\" x=\"18\" y=\"10\" fill=\"#000000\" />\n<rect width=\".81\" height=\".81\" x=\"19\" y=\"10\" fill=\"#000000\" />\n<rect width=\".81\" height=\".81\" x=\"20\" y=\"10\" fill=\"#000000\" />\n<rect width=\".81\" height=\".81\" x=\"21\" y=\"10\" fill=\"#000000\" />\n<rect width=\".81\" height=\".81\" x=\"22\" y=\"10\" fill=\"#000000\" />\n<rect width=\".81\" height=\".81\" x=\"23\" y=\"10\" fill=\"#000000\" />\n<rect width=\".81\" height=\".81\" x=\"24\" y=\"10\" fill=\"#000000\" />\n<rect width=\".81\" height=\".81\" x=\"25\" y=\"10\" fill=\"#000000\" />\n<rect width=\".81\" height=\".81\" x=\"26\" y=\"10\" fill=\"#000000\" />\n<rect width=\".81\" height=\".81\" x=\"27\" y=\"10\" fill=\"#000000\" />\n<rect width=\".81\" height=\".81\" x=\"0\" y=\"11\" fill=\"#000000\" />\n<rect width=\".81\" height=\".81\" x=\"1\" y=\"11\" fill=\"#000000\" />\n<rect width=\".81\" height=\".81\" x=\"2\" y=\"11\" fill=\"#000000\" />\n<rect width=\".81\" height=\".81\" x=\"3\" y=\"11\" fill=\"#000000\" />\n<rect width=\".81\" height=\".81\" x=\"4\" y=\"11\" fill=\"#000000\" />\n<rect width=\".81\" height=\".81\" x=\"5\" y=\"11\" fill=\"#000000\" />\n<rect width=\".81\" height=\".81\" x=\"6\" y=\"11\" fill=\"#000000\" />\n<rect width=\".81\" height=\".81\" x=\"7\" y=\"11\" fill=\"#000000\" />\n<rect width=\".81\" height=\".81\" x=\"8\" y=\"11\" fill=\"#000000\" />\n<rect width=\".81\" height=\".81\" x=\"9\" y=\"11\" fill=\"#1A1A1A\" />\n<rect width=\".81\" height=\".81\" x=\"10\" y=\"11\" fill=\"#E6E6E6\" />\n<rect width=\".81\" height=\".81\" x=\"11\" y=\"11\" fill=\"#FDFDFD\" />\n<rect width=\".81\" height=\".81\" x=\"12\" y=\"11\" fill=\"#FDFDFD\" />\n<rect width=\".81\" height=\".81\" x=\"13\" y=\"11\" fill=\"#A4A4A4\" />\n<rect width=\".81\" height=\".81\" x=\"14\" y=\"11\" fill=\"#0E0E0E\" />\n<rect width=\".81\" height=\".81\" x=\"15\" y=\"11\" fill=\"#000000\" />\n<rect width=\".81\" height=\".81\" x=\"16\" y=\"11\" fill=\"#000000\" />\n<rect width=\".81\" height=\".81\" x=\"17\" y=\"11\" fill=\"#000000\" />\n<rect width=\".81\" height=\".81\" x=\"18\" y=\"11\" fill=\"#000000\" />\n<rect width=\".81\" height=\".81\" x=\"19\" y=\"11\" fill=\"#000000\" />\n<rect width=\".81\" height=\".81\" x=\"20\" y=\"11\" fill=\"#000000\" />\n<rect width=\".81\" height=\".81\" x=\"21\" y=\"11\" fill=\"#000000\" />\n<rect width=\".81\" height=\".81\" x=\"22\" y=\"11\" fill=\"#000000\" />\n<rect width=\".81\" height=\".81\" x=\"23\" y=\"11\" fill=\"#000000\" />\n<rect width=\".81\" height=\".81\" x=\"24\" y=\"11\" fill=\"#000000\" />\n<rect width=\".81\" height=\".81\" x=\"25\" y=\"11\" fill=\"#000000\" />\n<rect width=\".81\" height=\".81\" x=\"26\" y=\"11\" fill=\"#000000\" />\n<rect width=\".81\" height=\".81\" x=\"27\" y=\"11\" fill=\"#000000\" />\n<rect width=\".81\" height=\".81\" x=\"0\" y=\"12\" fill=\"#000000\" />\n<rect width=\".81\" height=\".81\" x=\"1\" y=\"12\" fill=\"#000000\" />\n<rect width=\".81\" height=\".81\" x=\"2\" y=\"12\" fill=\"#000000\" />\n<rect width=\".81\" height=\".81\" x=\"3\" y=\"12\" fill=\"#000000\" />\n<rect width=\".81\" height=\".81\" x=\"4\" y=\"12\" fill=\"#000000\" />\n<rect width=\".81\" height=\".81\" x=\"5\" y=\"12\" fill=\"#000000\" />\n<rect width=\".81\" height=\".81\" x=\"6\" y=\"12\" fill=\"#000000\" />\n<rect width=\".81\" height=\".81\" x=\"7\" y=\"12\" fill=\"#000000\" />\n<rect width=\".81\" height=\".81\" x=\"8\" y=\"12\" fill=\"#000000\" />\n<rect width=\".81\" height=\".81\" x=\"9\" y=\"12\" fill=\"#808080\" />\n<rect width=\".81\" height=\".81\" x=\"10\" y=\"12\" fill=\"#FDFDFD\" />\n<rect width=\".81\" height=\".81\" x=\"11\" y=\"12\" fill=\"#FDFDFD\" />\n<rect width=\".81\" height=\".81\" x=\"12\" y=\"12\" fill=\"#FDFDFD\" />\n<rect width=\".81\" height=\".81\" x=\"13\" y=\"12\" fill=\"#333333\" />\n<rect width=\".81\" height=\".81\" x=\"14\" y=\"12\" fill=\"#101010\" />\n<rect width=\".81\" height=\".81\" x=\"15\" y=\"12\" fill=\"#3B3B3B\" />\n<rect width=\".81\" height=\".81\" x=\"16\" y=\"12\" fill=\"#3B3B3B\" />\n<rect width=\".81\" height=\".81\" x=\"17\" y=\"12\" fill=\"#313131\" />\n<rect width=\".81\" height=\".81\" x=\"18\" y=\"12\" fill=\"#0A0A0A\" />\n<rect width=\".81\" height=\".81\" x=\"19\" y=\"12\" fill=\"#151515\" />\n<rect width=\".81\" height=\".81\" x=\"20\" y=\"12\" fill=\"#000000\" />\n<rect width=\".81\" height=\".81\" x=\"21\" y=\"12\" fill=\"#000000\" />\n<rect width=\".81\" height=\".81\" x=\"22\" y=\"12\" fill=\"#000000\" />\n<rect width=\".81\" height=\".81\" x=\"23\" y=\"12\" fill=\"#000000\" />\n<rect width=\".81\" height=\".81\" x=\"24\" y=\"12\" fill=\"#000000\" />\n<rect width=\".81\" height=\".81\" x=\"25\" y=\"12\" fill=\"#000000\" />\n<rect width=\".81\" height=\".81\" x=\"26\" y=\"12\" fill=\"#000000\" />\n<rect width=\".81\" height=\".81\" x=\"27\" y=\"12\" fill=\"#000000\" />\n<rect width=\".81\" height=\".81\" x=\"0\" y=\"13\" fill=\"#000000\" />\n<rect width=\".81\" height=\".81\" x=\"1\" y=\"13\" fill=\"#000000\" />\n<rect width=\".81\" height=\".81\" x=\"2\" y=\"13\" fill=\"#000000\" />\n<rect width=\".81\" height=\".81\" x=\"3\" y=\"13\" fill=\"#000000\" />\n<rect width=\".81\" height=\".81\" x=\"4\" y=\"13\" fill=\"#000000\" />\n<rect width=\".81\" height=\".81\" x=\"5\" y=\"13\" fill=\"#000000\" />\n<rect width=\".81\" height=\".81\" x=\"6\" y=\"13\" fill=\"#000000\" />\n<rect width=\".81\" height=\".81\" x=\"7\" y=\"13\" fill=\"#000000\" />\n<rect width=\".81\" height=\".81\" x=\"8\" y=\"13\" fill=\"#4C4C4C\" />\n<rect width=\".81\" height=\".81\" x=\"9\" y=\"13\" fill=\"#F6F6F6\" />\n<rect width=\".81\" height=\".81\" x=\"10\" y=\"13\" fill=\"#FDFDFD\" />\n<rect width=\".81\" height=\".81\" x=\"11\" y=\"13\" fill=\"#FDFDFD\" />\n<rect width=\".81\" height=\".81\" x=\"12\" y=\"13\" fill=\"#C5C5C5\" />\n<rect width=\".81\" height=\".81\" x=\"13\" y=\"13\" fill=\"#5E5E5E\" />\n<rect width=\".81\" height=\".81\" x=\"14\" y=\"13\" fill=\"#C9C9C9\" />\n<rect width=\".81\" height=\".81\" x=\"15\" y=\"13\" fill=\"#FDFDFD\" />\n<rect width=\".81\" height=\".81\" x=\"16\" y=\"13\" fill=\"#FDFDFD\" />\n<rect width=\".81\" height=\".81\" x=\"17\" y=\"13\" fill=\"#F0F0F0\" />\n<rect width=\".81\" height=\".81\" x=\"18\" y=\"13\" fill=\"#C1C1C1\" />\n<rect width=\".81\" height=\".81\" x=\"19\" y=\"13\" fill=\"#767676\" />\n<rect width=\".81\" height=\".81\" x=\"20\" y=\"13\" fill=\"#000000\" />\n<rect width=\".81\" height=\".81\" x=\"21\" y=\"13\" fill=\"#000000\" />\n<rect width=\".81\" height=\".81\" x=\"22\" y=\"13\" fill=\"#000000\" />\n<rect width=\".81\" height=\".81\" x=\"23\" y=\"13\" fill=\"#000000\" />\n<rect width=\".81\" height=\".81\" x=\"24\" y=\"13\" fill=\"#000000\" />\n<rect width=\".81\" height=\".81\" x=\"25\" y=\"13\" fill=\"#000000\" />\n<rect width=\".81\" height=\".81\" x=\"26\" y=\"13\" fill=\"#000000\" />\n<rect width=\".81\" height=\".81\" x=\"27\" y=\"13\" fill=\"#000000\" />\n<rect width=\".81\" height=\".81\" x=\"0\" y=\"14\" fill=\"#000000\" />\n<rect width=\".81\" height=\".81\" x=\"1\" y=\"14\" fill=\"#000000\" />\n<rect width=\".81\" height=\".81\" x=\"2\" y=\"14\" fill=\"#000000\" />\n<rect width=\".81\" height=\".81\" x=\"3\" y=\"14\" fill=\"#000000\" />\n<rect width=\".81\" height=\".81\" x=\"4\" y=\"14\" fill=\"#000000\" />\n<rect width=\".81\" height=\".81\" x=\"5\" y=\"14\" fill=\"#000000\" />\n<rect width=\".81\" height=\".81\" x=\"6\" y=\"14\" fill=\"#000000\" />\n<rect width=\".81\" height=\".81\" x=\"7\" y=\"14\" fill=\"#000000\" />\n<rect width=\".81\" height=\".81\" x=\"8\" y=\"14\" fill=\"#696969\" />\n<rect width=\".81\" height=\".81\" x=\"9\" y=\"14\" fill=\"#FDFDFD\" />\n<rect width=\".81\" height=\".81\" x=\"10\" y=\"14\" fill=\"#FDFDFD\" />\n<rect width=\".81\" height=\".81\" x=\"11\" y=\"14\" fill=\"#FDFDFD\" />\n<rect width=\".81\" height=\".81\" x=\"12\" y=\"14\" fill=\"#E5E5E5\" />\n<rect width=\".81\" height=\".81\" x=\"13\" y=\"14\" fill=\"#EEEEEE\" />\n<rect width=\".81\" height=\".81\" x=\"14\" y=\"14\" fill=\"#FDFDFD\" />\n<rect width=\".81\" height=\".81\" x=\"15\" y=\"14\" fill=\"#FDFDFD\" />\n<rect width=\".81\" height=\".81\" x=\"16\" y=\"14\" fill=\"#FDFDFD\" />\n<rect width=\".81\" height=\".81\" x=\"17\" y=\"14\" fill=\"#FDFDFD\" />\n<rect width=\".81\" height=\".81\" x=\"18\" y=\"14\" fill=\"#FDFDFD\" />\n<rect width=\".81\" height=\".81\" x=\"19\" y=\"14\" fill=\"#E2E2E2\" />\n<rect width=\".81\" height=\".81\" x=\"20\" y=\"14\" fill=\"#121212\" />\n<rect width=\".81\" height=\".81\" x=\"21\" y=\"14\" fill=\"#000000\" />\n<rect width=\".81\" height=\".81\" x=\"22\" y=\"14\" fill=\"#000000\" />\n<rect width=\".81\" height=\".81\" x=\"23\" y=\"14\" fill=\"#000000\" />\n<rect width=\".81\" height=\".81\" x=\"24\" y=\"14\" fill=\"#000000\" />\n<rect width=\".81\" height=\".81\" x=\"25\" y=\"14\" fill=\"#000000\" />\n<rect width=\".81\" height=\".81\" x=\"26\" y=\"14\" fill=\"#000000\" />\n<rect width=\".81\" height=\".81\" x=\"27\" y=\"14\" fill=\"#000000\" />\n<rect width=\".81\" height=\".81\" x=\"0\" y=\"15\" fill=\"#000000\" />\n<rect width=\".81\" height=\".81\" x=\"1\" y=\"15\" fill=\"#000000\" />\n<rect width=\".81\" height=\".81\" x=\"2\" y=\"15\" fill=\"#000000\" />\n<rect width=\".81\" height=\".81\" x=\"3\" y=\"15\" fill=\"#000000\" />\n<rect width=\".81\" height=\".81\" x=\"4\" y=\"15\" fill=\"#000000\" />\n<rect width=\".81\" height=\".81\" x=\"5\" y=\"15\" fill=\"#000000\" />\n<rect width=\".81\" height=\".81\" x=\"6\" y=\"15\" fill=\"#000000\" />\n<rect width=\".81\" height=\".81\" x=\"7\" y=\"15\" fill=\"#000000\" />\n<rect width=\".81\" height=\".81\" x=\"8\" y=\"15\" fill=\"#696969\" />\n<rect width=\".81\" height=\".81\" x=\"9\" y=\"15\" fill=\"#FDFDFD\" />\n<rect width=\".81\" height=\".81\" x=\"10\" y=\"15\" fill=\"#FDFDFD\" />\n<rect width=\".81\" height=\".81\" x=\"11\" y=\"15\" fill=\"#FDFDFD\" />\n<rect width=\".81\" height=\".81\" x=\"12\" y=\"15\" fill=\"#FDFDFD\" />\n<rect width=\".81\" height=\".81\" x=\"13\" y=\"15\" fill=\"#FDFDFD\" />\n<rect width=\".81\" height=\".81\" x=\"14\" y=\"15\" fill=\"#FDFDFD\" />\n<rect width=\".81\" height=\".81\" x=\"15\" y=\"15\" fill=\"#FDFDFD\" />\n<rect width=\".81\" height=\".81\" x=\"16\" y=\"15\" fill=\"#FDFDFD\" />\n<rect width=\".81\" height=\".81\" x=\"17\" y=\"15\" fill=\"#FDFDFD\" />\n<rect width=\".81\" height=\".81\" x=\"18\" y=\"15\" fill=\"#FDFDFD\" />\n<rect width=\".81\" height=\".81\" x=\"19\" y=\"15\" fill=\"#FDFDFD\" />\n<rect width=\".81\" height=\".81\" x=\"20\" y=\"15\" fill=\"#616161\" />\n<rect width=\".81\" height=\".81\" x=\"21\" y=\"15\" fill=\"#000000\" />\n<rect width=\".81\" height=\".81\" x=\"22\" y=\"15\" fill=\"#000000\" />\n<rect width=\".81\" height=\".81\" x=\"23\" y=\"15\" fill=\"#000000\" />\n<rect width=\".81\" height=\".81\" x=\"24\" y=\"15\" fill=\"#000000\" />\n<rect width=\".81\" height=\".81\" x=\"25\" y=\"15\" fill=\"#000000\" />\n<rect width=\".81\" height=\".81\" x=\"26\" y=\"15\" fill=\"#000000\" />\n<rect width=\".81\" height=\".81\" x=\"27\" y=\"15\" fill=\"#000000\" />\n<rect width=\".81\" height=\".81\" x=\"0\" y=\"16\" fill=\"#000000\" />\n<rect width=\".81\" height=\".81\" x=\"1\" y=\"16\" fill=\"#000000\" />\n<rect width=\".81\" height=\".81\" x=\"2\" y=\"16\" fill=\"#000000\" />\n<rect width=\".81\" height=\".81\" x=\"3\" y=\"16\" fill=\"#000000\" />\n<rect width=\".81\" height=\".81\" x=\"4\" y=\"16\" fill=\"#000000\" />\n<rect width=\".81\" height=\".81\" x=\"5\" y=\"16\" fill=\"#000000\" />\n<rect width=\".81\" height=\".81\" x=\"6\" y=\"16\" fill=\"#000000\" />\n<rect width=\".81\" height=\".81\" x=\"7\" y=\"16\" fill=\"#000000\" />\n<rect width=\".81\" height=\".81\" x=\"8\" y=\"16\" fill=\"#696969\" />\n<rect width=\".81\" height=\".81\" x=\"9\" y=\"16\" fill=\"#FDFDFD\" />\n<rect width=\".81\" height=\".81\" x=\"10\" y=\"16\" fill=\"#FDFDFD\" />\n<rect width=\".81\" height=\".81\" x=\"11\" y=\"16\" fill=\"#FDFDFD\" />\n<rect width=\".81\" height=\".81\" x=\"12\" y=\"16\" fill=\"#FDFDFD\" />\n<rect width=\".81\" height=\".81\" x=\"13\" y=\"16\" fill=\"#FDFDFD\" />\n<rect width=\".81\" height=\".81\" x=\"14\" y=\"16\" fill=\"#C2C2C2\" />\n<rect width=\".81\" height=\".81\" x=\"15\" y=\"16\" fill=\"#5B5B5B\" />\n<rect width=\".81\" height=\".81\" x=\"16\" y=\"16\" fill=\"#5B5B5B\" />\n<rect width=\".81\" height=\".81\" x=\"17\" y=\"16\" fill=\"#787878\" />\n<rect width=\".81\" height=\".81\" x=\"18\" y=\"16\" fill=\"#FDFDFD\" />\n<rect width=\".81\" height=\".81\" x=\"19\" y=\"16\" fill=\"#FDFDFD\" />\n<rect width=\".81\" height=\".81\" x=\"20\" y=\"16\" fill=\"#A4A4A4\" />\n<rect width=\".81\" height=\".81\" x=\"21\" y=\"16\" fill=\"#000000\" />\n<rect width=\".81\" height=\".81\" x=\"22\" y=\"16\" fill=\"#000000\" />\n<rect width=\".81\" height=\".81\" x=\"23\" y=\"16\" fill=\"#000000\" />\n<rect width=\".81\" height=\".81\" x=\"24\" y=\"16\" fill=\"#000000\" />\n<rect width=\".81\" height=\".81\" x=\"25\" y=\"16\" fill=\"#000000\" />\n<rect width=\".81\" height=\".81\" x=\"26\" y=\"16\" fill=\"#000000\" />\n<rect width=\".81\" height=\".81\" x=\"27\" y=\"16\" fill=\"#000000\" />\n<rect width=\".81\" height=\".81\" x=\"0\" y=\"17\" fill=\"#000000\" />\n<rect width=\".81\" height=\".81\" x=\"1\" y=\"17\" fill=\"#000000\" />\n<rect width=\".81\" height=\".81\" x=\"2\" y=\"17\" fill=\"#000000\" />\n<rect width=\".81\" height=\".81\" x=\"3\" y=\"17\" fill=\"#000000\" />\n<rect width=\".81\" height=\".81\" x=\"4\" y=\"17\" fill=\"#000000\" />\n<rect width=\".81\" height=\".81\" x=\"5\" y=\"17\" fill=\"#000000\" />\n<rect width=\".81\" height=\".81\" x=\"6\" y=\"17\" fill=\"#000000\" />\n<rect width=\".81\" height=\".81\" x=\"7\" y=\"17\" fill=\"#000000\" />\n<rect width=\".81\" height=\".81\" x=\"8\" y=\"17\" fill=\"#696969\" />\n<rect width=\".81\" height=\".81\" x=\"9\" y=\"17\" fill=\"#FDFDFD\" />\n<rect width=\".81\" height=\".81\" x=\"10\" y=\"17\" fill=\"#FDFDFD\" />\n<rect width=\".81\" height=\".81\" x=\"11\" y=\"17\" fill=\"#FDFDFD\" />\n<rect width=\".81\" height=\".81\" x=\"12\" y=\"17\" fill=\"#FDFDFD\" />\n<rect width=\".81\" height=\".81\" x=\"13\" y=\"17\" fill=\"#808080\" />\n<rect width=\".81\" height=\".81\" x=\"14\" y=\"17\" fill=\"#161616\" />\n<rect width=\".81\" height=\".81\" x=\"15\" y=\"17\" fill=\"#000000\" />\n<rect width=\".81\" height=\".81\" x=\"16\" y=\"17\" fill=\"#060606\" />\n<rect width=\".81\" height=\".81\" x=\"17\" y=\"17\" fill=\"#868686\" />\n<rect width=\".81\" height=\".81\" x=\"18\" y=\"17\" fill=\"#FDFDFD\" />\n<rect width=\".81\" height=\".81\" x=\"19\" y=\"17\" fill=\"#FDFDFD\" />\n<rect width=\".81\" height=\".81\" x=\"20\" y=\"17\" fill=\"#A4A4A4\" />\n<rect width=\".81\" height=\".81\" x=\"21\" y=\"17\" fill=\"#000000\" />\n<rect width=\".81\" height=\".81\" x=\"22\" y=\"17\" fill=\"#000000\" />\n<rect width=\".81\" height=\".81\" x=\"23\" y=\"17\" fill=\"#000000\" />\n<rect width=\".81\" height=\".81\" x=\"24\" y=\"17\" fill=\"#000000\" />\n<rect width=\".81\" height=\".81\" x=\"25\" y=\"17\" fill=\"#000000\" />\n<rect width=\".81\" height=\".81\" x=\"26\" y=\"17\" fill=\"#000000\" />\n<rect width=\".81\" height=\".81\" x=\"27\" y=\"17\" fill=\"#000000\" />\n<rect width=\".81\" height=\".81\" x=\"0\" y=\"18\" fill=\"#000000\" />\n<rect width=\".81\" height=\".81\" x=\"1\" y=\"18\" fill=\"#000000\" />\n<rect width=\".81\" height=\".81\" x=\"2\" y=\"18\" fill=\"#000000\" />\n<rect width=\".81\" height=\".81\" x=\"3\" y=\"18\" fill=\"#000000\" />\n<rect width=\".81\" height=\".81\" x=\"4\" y=\"18\" fill=\"#000000\" />\n<rect width=\".81\" height=\".81\" x=\"5\" y=\"18\" fill=\"#000000\" />\n<rect width=\".81\" height=\".81\" x=\"6\" y=\"18\" fill=\"#000000\" />\n<rect width=\".81\" height=\".81\" x=\"7\" y=\"18\" fill=\"#000000\" />\n<rect width=\".81\" height=\".81\" x=\"8\" y=\"18\" fill=\"#696969\" />\n<rect width=\".81\" height=\".81\" x=\"9\" y=\"18\" fill=\"#FDFDFD\" />\n<rect width=\".81\" height=\".81\" x=\"10\" y=\"18\" fill=\"#FDFDFD\" />\n<rect width=\".81\" height=\".81\" x=\"11\" y=\"18\" fill=\"#FDFDFD\" />\n<rect width=\".81\" height=\".81\" x=\"12\" y=\"18\" fill=\"#FDFDFD\" />\n<rect width=\".81\" height=\".81\" x=\"13\" y=\"18\" fill=\"#434343\" />\n<rect width=\".81\" height=\".81\" x=\"14\" y=\"18\" fill=\"#141414\" />\n<rect width=\".81\" height=\".81\" x=\"15\" y=\"18\" fill=\"#767676\" />\n<rect width=\".81\" height=\".81\" x=\"16\" y=\"18\" fill=\"#ABABAB\" />\n<rect width=\".81\" height=\".81\" x=\"17\" y=\"18\" fill=\"#FDFDFD\" />\n<rect width=\".81\" height=\".81\" x=\"18\" y=\"18\" fill=\"#FDFDFD\" />\n<rect width=\".81\" height=\".81\" x=\"19\" y=\"18\" fill=\"#FBFBFB\" />\n<rect width=\".81\" height=\".81\" x=\"20\" y=\"18\" fill=\"#5A5A5A\" />\n<rect width=\".81\" height=\".81\" x=\"21\" y=\"18\" fill=\"#000000\" />\n<rect width=\".81\" height=\".81\" x=\"22\" y=\"18\" fill=\"#000000\" />\n<rect width=\".81\" height=\".81\" x=\"23\" y=\"18\" fill=\"#000000\" />\n<rect width=\".81\" height=\".81\" x=\"24\" y=\"18\" fill=\"#000000\" />\n<rect width=\".81\" height=\".81\" x=\"25\" y=\"18\" fill=\"#000000\" />\n<rect width=\".81\" height=\".81\" x=\"26\" y=\"18\" fill=\"#000000\" />\n<rect width=\".81\" height=\".81\" x=\"27\" y=\"18\" fill=\"#000000\" />\n<rect width=\".81\" height=\".81\" x=\"0\" y=\"19\" fill=\"#000000\" />\n<rect width=\".81\" height=\".81\" x=\"1\" y=\"19\" fill=\"#000000\" />\n<rect width=\".81\" height=\".81\" x=\"2\" y=\"19\" fill=\"#000000\" />\n<rect width=\".81\" height=\".81\" x=\"3\" y=\"19\" fill=\"#000000\" />\n<rect width=\".81\" height=\".81\" x=\"4\" y=\"19\" fill=\"#000000\" />\n<rect width=\".81\" height=\".81\" x=\"5\" y=\"19\" fill=\"#000000\" />\n<rect width=\".81\" height=\".81\" x=\"6\" y=\"19\" fill=\"#000000\" />\n<rect width=\".81\" height=\".81\" x=\"7\" y=\"19\" fill=\"#000000\" />\n<rect width=\".81\" height=\".81\" x=\"8\" y=\"19\" fill=\"#2E2E2E\" />\n<rect width=\".81\" height=\".81\" x=\"9\" y=\"19\" fill=\"#E8E8E8\" />\n<rect width=\".81\" height=\".81\" x=\"10\" y=\"19\" fill=\"#FDFDFD\" />\n<rect width=\".81\" height=\".81\" x=\"11\" y=\"19\" fill=\"#FDFDFD\" />\n<rect width=\".81\" height=\".81\" x=\"12\" y=\"19\" fill=\"#FDFDFD\" />\n<rect width=\".81\" height=\".81\" x=\"13\" y=\"19\" fill=\"#FDFDFD\" />\n<rect width=\".81\" height=\".81\" x=\"14\" y=\"19\" fill=\"#FDFDFD\" />\n<rect width=\".81\" height=\".81\" x=\"15\" y=\"19\" fill=\"#FDFDFD\" />\n<rect width=\".81\" height=\".81\" x=\"16\" y=\"19\" fill=\"#FDFDFD\" />\n<rect width=\".81\" height=\".81\" x=\"17\" y=\"19\" fill=\"#FDFDFD\" />\n<rect width=\".81\" height=\".81\" x=\"18\" y=\"19\" fill=\"#FDFDFD\" />\n<rect width=\".81\" height=\".81\" x=\"19\" y=\"19\" fill=\"#929292\" />\n<rect width=\".81\" height=\".81\" x=\"20\" y=\"19\" fill=\"#000000\" />\n<rect width=\".81\" height=\".81\" x=\"21\" y=\"19\" fill=\"#000000\" />\n<rect width=\".81\" height=\".81\" x=\"22\" y=\"19\" fill=\"#000000\" />\n<rect width=\".81\" height=\".81\" x=\"23\" y=\"19\" fill=\"#000000\" />\n<rect width=\".81\" height=\".81\" x=\"24\" y=\"19\" fill=\"#000000\" />\n<rect width=\".81\" height=\".81\" x=\"25\" y=\"19\" fill=\"#000000\" />\n<rect width=\".81\" height=\".81\" x=\"26\" y=\"19\" fill=\"#000000\" />\n<rect width=\".81\" height=\".81\" x=\"27\" y=\"19\" fill=\"#000000\" />\n<rect width=\".81\" height=\".81\" x=\"0\" y=\"20\" fill=\"#000000\" />\n<rect width=\".81\" height=\".81\" x=\"1\" y=\"20\" fill=\"#000000\" />\n<rect width=\".81\" height=\".81\" x=\"2\" y=\"20\" fill=\"#000000\" />\n<rect width=\".81\" height=\".81\" x=\"3\" y=\"20\" fill=\"#000000\" />\n<rect width=\".81\" height=\".81\" x=\"4\" y=\"20\" fill=\"#000000\" />\n<rect width=\".81\" height=\".81\" x=\"5\" y=\"20\" fill=\"#000000\" />\n<rect width=\".81\" height=\".81\" x=\"6\" y=\"20\" fill=\"#000000\" />\n<rect width=\".81\" height=\".81\" x=\"7\" y=\"20\" fill=\"#000000\" />\n<rect width=\".81\" height=\".81\" x=\"8\" y=\"20\" fill=\"#000000\" />\n<rect width=\".81\" height=\".81\" x=\"9\" y=\"20\" fill=\"#2D2D2D\" />\n<rect width=\".81\" height=\".81\" x=\"10\" y=\"20\" fill=\"#E9E9E9\" />\n<rect width=\".81\" height=\".81\" x=\"11\" y=\"20\" fill=\"#FDFDFD\" />\n<rect width=\".81\" height=\".81\" x=\"12\" y=\"20\" fill=\"#FDFDFD\" />\n<rect width=\".81\" height=\".81\" x=\"13\" y=\"20\" fill=\"#FDFDFD\" />\n<rect width=\".81\" height=\".81\" x=\"14\" y=\"20\" fill=\"#FDFDFD\" />\n<rect width=\".81\" height=\".81\" x=\"15\" y=\"20\" fill=\"#FDFDFD\" />\n<rect width=\".81\" height=\".81\" x=\"16\" y=\"20\" fill=\"#FDFDFD\" />\n<rect width=\".81\" height=\".81\" x=\"17\" y=\"20\" fill=\"#FCFCFC\" />\n<rect width=\".81\" height=\".81\" x=\"18\" y=\"20\" fill=\"#9F9F9F\" />\n<rect width=\".81\" height=\".81\" x=\"19\" y=\"20\" fill=\"#2A2A2A\" />\n<rect width=\".81\" height=\".81\" x=\"20\" y=\"20\" fill=\"#000000\" />\n<rect width=\".81\" height=\".81\" x=\"21\" y=\"20\" fill=\"#000000\" />\n<rect width=\".81\" height=\".81\" x=\"22\" y=\"20\" fill=\"#000000\" />\n<rect width=\".81\" height=\".81\" x=\"23\" y=\"20\" fill=\"#000000\" />\n<rect width=\".81\" height=\".81\" x=\"24\" y=\"20\" fill=\"#000000\" />\n<rect width=\".81\" height=\".81\" x=\"25\" y=\"20\" fill=\"#000000\" />\n<rect width=\".81\" height=\".81\" x=\"26\" y=\"20\" fill=\"#000000\" />\n<rect width=\".81\" height=\".81\" x=\"27\" y=\"20\" fill=\"#000000\" />\n<rect width=\".81\" height=\".81\" x=\"0\" y=\"21\" fill=\"#000000\" />\n<rect width=\".81\" height=\".81\" x=\"1\" y=\"21\" fill=\"#000000\" />\n<rect width=\".81\" height=\".81\" x=\"2\" y=\"21\" fill=\"#000000\" />\n<rect width=\".81\" height=\".81\" x=\"3\" y=\"21\" fill=\"#000000\" />\n<rect width=\".81\" height=\".81\" x=\"4\" y=\"21\" fill=\"#000000\" />\n<rect width=\".81\" height=\".81\" x=\"5\" y=\"21\" fill=\"#000000\" />\n<rect width=\".81\" height=\".81\" x=\"6\" y=\"21\" fill=\"#000000\" />\n<rect width=\".81\" height=\".81\" x=\"7\" y=\"21\" fill=\"#000000\" />\n<rect width=\".81\" height=\".81\" x=\"8\" y=\"21\" fill=\"#000000\" />\n<rect width=\".81\" height=\".81\" x=\"9\" y=\"21\" fill=\"#000000\" />\n<rect width=\".81\" height=\".81\" x=\"10\" y=\"21\" fill=\"#2D2D2D\" />\n<rect width=\".81\" height=\".81\" x=\"11\" y=\"21\" fill=\"#A6A6A6\" />\n<rect width=\".81\" height=\".81\" x=\"12\" y=\"21\" fill=\"#FDFDFD\" />\n<rect width=\".81\" height=\".81\" x=\"13\" y=\"21\" fill=\"#FDFDFD\" />\n<rect width=\".81\" height=\".81\" x=\"14\" y=\"21\" fill=\"#FDFDFD\" />\n<rect width=\".81\" height=\".81\" x=\"15\" y=\"21\" fill=\"#FDFDFD\" />\n<rect width=\".81\" height=\".81\" x=\"16\" y=\"21\" fill=\"#E2E2E2\" />\n<rect width=\".81\" height=\".81\" x=\"17\" y=\"21\" fill=\"#656565\" />\n<rect width=\".81\" height=\".81\" x=\"18\" y=\"21\" fill=\"#000000\" />\n<rect width=\".81\" height=\".81\" x=\"19\" y=\"21\" fill=\"#000000\" />\n<rect width=\".81\" height=\".81\" x=\"20\" y=\"21\" fill=\"#000000\" />\n<rect width=\".81\" height=\".81\" x=\"21\" y=\"21\" fill=\"#000000\" />\n<rect width=\".81\" height=\".81\" x=\"22\" y=\"21\" fill=\"#000000\" />\n<rect width=\".81\" height=\".81\" x=\"23\" y=\"21\" fill=\"#000000\" />\n<rect width=\".81\" height=\".81\" x=\"24\" y=\"21\" fill=\"#000000\" />\n<rect width=\".81\" height=\".81\" x=\"25\" y=\"21\" fill=\"#000000\" />\n<rect width=\".81\" height=\".81\" x=\"26\" y=\"21\" fill=\"#000000\" />\n<rect width=\".81\" height=\".81\" x=\"27\" y=\"21\" fill=\"#000000\" />\n<rect width=\".81\" height=\".81\" x=\"0\" y=\"22\" fill=\"#000000\" />\n<rect width=\".81\" height=\".81\" x=\"1\" y=\"22\" fill=\"#000000\" />\n<rect width=\".81\" height=\".81\" x=\"2\" y=\"22\" fill=\"#000000\" />\n<rect width=\".81\" height=\".81\" x=\"3\" y=\"22\" fill=\"#000000\" />\n<rect width=\".81\" height=\".81\" x=\"4\" y=\"22\" fill=\"#000000\" />\n<rect width=\".81\" height=\".81\" x=\"5\" y=\"22\" fill=\"#000000\" />\n<rect width=\".81\" height=\".81\" x=\"6\" y=\"22\" fill=\"#000000\" />\n<rect width=\".81\" height=\".81\" x=\"7\" y=\"22\" fill=\"#000000\" />\n<rect width=\".81\" height=\".81\" x=\"8\" y=\"22\" fill=\"#000000\" />\n<rect width=\".81\" height=\".81\" x=\"9\" y=\"22\" fill=\"#000000\" />\n<rect width=\".81\" height=\".81\" x=\"10\" y=\"22\" fill=\"#000000\" />\n<rect width=\".81\" height=\".81\" x=\"11\" y=\"22\" fill=\"#000000\" />\n<rect width=\".81\" height=\".81\" x=\"12\" y=\"22\" fill=\"#000000\" />\n<rect width=\".81\" height=\".81\" x=\"13\" y=\"22\" fill=\"#000000\" />\n<rect width=\".81\" height=\".81\" x=\"14\" y=\"22\" fill=\"#000000\" />\n<rect width=\".81\" height=\".81\" x=\"15\" y=\"22\" fill=\"#000000\" />\n<rect width=\".81\" height=\".81\" x=\"16\" y=\"22\" fill=\"#000000\" />\n<rect width=\".81\" height=\".81\" x=\"17\" y=\"22\" fill=\"#000000\" />\n<rect width=\".81\" height=\".81\" x=\"18\" y=\"22\" fill=\"#000000\" />\n<rect width=\".81\" height=\".81\" x=\"19\" y=\"22\" fill=\"#000000\" />\n<rect width=\".81\" height=\".81\" x=\"20\" y=\"22\" fill=\"#000000\" />\n<rect width=\".81\" height=\".81\" x=\"21\" y=\"22\" fill=\"#000000\" />\n<rect width=\".81\" height=\".81\" x=\"22\" y=\"22\" fill=\"#000000\" />\n<rect width=\".81\" height=\".81\" x=\"23\" y=\"22\" fill=\"#000000\" />\n<rect width=\".81\" height=\".81\" x=\"24\" y=\"22\" fill=\"#000000\" />\n<rect width=\".81\" height=\".81\" x=\"25\" y=\"22\" fill=\"#000000\" />\n<rect width=\".81\" height=\".81\" x=\"26\" y=\"22\" fill=\"#000000\" />\n<rect width=\".81\" height=\".81\" x=\"27\" y=\"22\" fill=\"#000000\" />\n<rect width=\".81\" height=\".81\" x=\"0\" y=\"23\" fill=\"#000000\" />\n<rect width=\".81\" height=\".81\" x=\"1\" y=\"23\" fill=\"#000000\" />\n<rect width=\".81\" height=\".81\" x=\"2\" y=\"23\" fill=\"#000000\" />\n<rect width=\".81\" height=\".81\" x=\"3\" y=\"23\" fill=\"#000000\" />\n<rect width=\".81\" height=\".81\" x=\"4\" y=\"23\" fill=\"#000000\" />\n<rect width=\".81\" height=\".81\" x=\"5\" y=\"23\" fill=\"#000000\" />\n<rect width=\".81\" height=\".81\" x=\"6\" y=\"23\" fill=\"#000000\" />\n<rect width=\".81\" height=\".81\" x=\"7\" y=\"23\" fill=\"#000000\" />\n<rect width=\".81\" height=\".81\" x=\"8\" y=\"23\" fill=\"#000000\" />\n<rect width=\".81\" height=\".81\" x=\"9\" y=\"23\" fill=\"#000000\" />\n<rect width=\".81\" height=\".81\" x=\"10\" y=\"23\" fill=\"#000000\" />\n<rect width=\".81\" height=\".81\" x=\"11\" y=\"23\" fill=\"#000000\" />\n<rect width=\".81\" height=\".81\" x=\"12\" y=\"23\" fill=\"#000000\" />\n<rect width=\".81\" height=\".81\" x=\"13\" y=\"23\" fill=\"#000000\" />\n<rect width=\".81\" height=\".81\" x=\"14\" y=\"23\" fill=\"#000000\" />\n<rect width=\".81\" height=\".81\" x=\"15\" y=\"23\" fill=\"#000000\" />\n<rect width=\".81\" height=\".81\" x=\"16\" y=\"23\" fill=\"#000000\" />\n<rect width=\".81\" height=\".81\" x=\"17\" y=\"23\" fill=\"#000000\" />\n<rect width=\".81\" height=\".81\" x=\"18\" y=\"23\" fill=\"#000000\" />\n<rect width=\".81\" height=\".81\" x=\"19\" y=\"23\" fill=\"#000000\" />\n<rect width=\".81\" height=\".81\" x=\"20\" y=\"23\" fill=\"#000000\" />\n<rect width=\".81\" height=\".81\" x=\"21\" y=\"23\" fill=\"#000000\" />\n<rect width=\".81\" height=\".81\" x=\"22\" y=\"23\" fill=\"#000000\" />\n<rect width=\".81\" height=\".81\" x=\"23\" y=\"23\" fill=\"#000000\" />\n<rect width=\".81\" height=\".81\" x=\"24\" y=\"23\" fill=\"#000000\" />\n<rect width=\".81\" height=\".81\" x=\"25\" y=\"23\" fill=\"#000000\" />\n<rect width=\".81\" height=\".81\" x=\"26\" y=\"23\" fill=\"#000000\" />\n<rect width=\".81\" height=\".81\" x=\"27\" y=\"23\" fill=\"#000000\" />\n<rect width=\".81\" height=\".81\" x=\"0\" y=\"24\" fill=\"#000000\" />\n<rect width=\".81\" height=\".81\" x=\"1\" y=\"24\" fill=\"#000000\" />\n<rect width=\".81\" height=\".81\" x=\"2\" y=\"24\" fill=\"#000000\" />\n<rect width=\".81\" height=\".81\" x=\"3\" y=\"24\" fill=\"#000000\" />\n<rect width=\".81\" height=\".81\" x=\"4\" y=\"24\" fill=\"#000000\" />\n<rect width=\".81\" height=\".81\" x=\"5\" y=\"24\" fill=\"#000000\" />\n<rect width=\".81\" height=\".81\" x=\"6\" y=\"24\" fill=\"#000000\" />\n<rect width=\".81\" height=\".81\" x=\"7\" y=\"24\" fill=\"#000000\" />\n<rect width=\".81\" height=\".81\" x=\"8\" y=\"24\" fill=\"#000000\" />\n<rect width=\".81\" height=\".81\" x=\"9\" y=\"24\" fill=\"#000000\" />\n<rect width=\".81\" height=\".81\" x=\"10\" y=\"24\" fill=\"#000000\" />\n<rect width=\".81\" height=\".81\" x=\"11\" y=\"24\" fill=\"#000000\" />\n<rect width=\".81\" height=\".81\" x=\"12\" y=\"24\" fill=\"#000000\" />\n<rect width=\".81\" height=\".81\" x=\"13\" y=\"24\" fill=\"#000000\" />\n<rect width=\".81\" height=\".81\" x=\"14\" y=\"24\" fill=\"#000000\" />\n<rect width=\".81\" height=\".81\" x=\"15\" y=\"24\" fill=\"#000000\" />\n<rect width=\".81\" height=\".81\" x=\"16\" y=\"24\" fill=\"#000000\" />\n<rect width=\".81\" height=\".81\" x=\"17\" y=\"24\" fill=\"#000000\" />\n<rect width=\".81\" height=\".81\" x=\"18\" y=\"24\" fill=\"#000000\" />\n<rect width=\".81\" height=\".81\" x=\"19\" y=\"24\" fill=\"#000000\" />\n<rect width=\".81\" height=\".81\" x=\"20\" y=\"24\" fill=\"#000000\" />\n<rect width=\".81\" height=\".81\" x=\"21\" y=\"24\" fill=\"#000000\" />\n<rect width=\".81\" height=\".81\" x=\"22\" y=\"24\" fill=\"#000000\" />\n<rect width=\".81\" height=\".81\" x=\"23\" y=\"24\" fill=\"#000000\" />\n<rect width=\".81\" height=\".81\" x=\"24\" y=\"24\" fill=\"#000000\" />\n<rect width=\".81\" height=\".81\" x=\"25\" y=\"24\" fill=\"#000000\" />\n<rect width=\".81\" height=\".81\" x=\"26\" y=\"24\" fill=\"#000000\" />\n<rect width=\".81\" height=\".81\" x=\"27\" y=\"24\" fill=\"#000000\" />\n<rect width=\".81\" height=\".81\" x=\"0\" y=\"25\" fill=\"#000000\" />\n<rect width=\".81\" height=\".81\" x=\"1\" y=\"25\" fill=\"#000000\" />\n<rect width=\".81\" height=\".81\" x=\"2\" y=\"25\" fill=\"#000000\" />\n<rect width=\".81\" height=\".81\" x=\"3\" y=\"25\" fill=\"#000000\" />\n<rect width=\".81\" height=\".81\" x=\"4\" y=\"25\" fill=\"#000000\" />\n<rect width=\".81\" height=\".81\" x=\"5\" y=\"25\" fill=\"#000000\" />\n<rect width=\".81\" height=\".81\" x=\"6\" y=\"25\" fill=\"#000000\" />\n<rect width=\".81\" height=\".81\" x=\"7\" y=\"25\" fill=\"#000000\" />\n<rect width=\".81\" height=\".81\" x=\"8\" y=\"25\" fill=\"#000000\" />\n<rect width=\".81\" height=\".81\" x=\"9\" y=\"25\" fill=\"#000000\" />\n<rect width=\".81\" height=\".81\" x=\"10\" y=\"25\" fill=\"#000000\" />\n<rect width=\".81\" height=\".81\" x=\"11\" y=\"25\" fill=\"#000000\" />\n<rect width=\".81\" height=\".81\" x=\"12\" y=\"25\" fill=\"#000000\" />\n<rect width=\".81\" height=\".81\" x=\"13\" y=\"25\" fill=\"#000000\" />\n<rect width=\".81\" height=\".81\" x=\"14\" y=\"25\" fill=\"#000000\" />\n<rect width=\".81\" height=\".81\" x=\"15\" y=\"25\" fill=\"#000000\" />\n<rect width=\".81\" height=\".81\" x=\"16\" y=\"25\" fill=\"#000000\" />\n<rect width=\".81\" height=\".81\" x=\"17\" y=\"25\" fill=\"#000000\" />\n<rect width=\".81\" height=\".81\" x=\"18\" y=\"25\" fill=\"#000000\" />\n<rect width=\".81\" height=\".81\" x=\"19\" y=\"25\" fill=\"#000000\" />\n<rect width=\".81\" height=\".81\" x=\"20\" y=\"25\" fill=\"#000000\" />\n<rect width=\".81\" height=\".81\" x=\"21\" y=\"25\" fill=\"#000000\" />\n<rect width=\".81\" height=\".81\" x=\"22\" y=\"25\" fill=\"#000000\" />\n<rect width=\".81\" height=\".81\" x=\"23\" y=\"25\" fill=\"#000000\" />\n<rect width=\".81\" height=\".81\" x=\"24\" y=\"25\" fill=\"#000000\" />\n<rect width=\".81\" height=\".81\" x=\"25\" y=\"25\" fill=\"#000000\" />\n<rect width=\".81\" height=\".81\" x=\"26\" y=\"25\" fill=\"#000000\" />\n<rect width=\".81\" height=\".81\" x=\"27\" y=\"25\" fill=\"#000000\" />\n<rect width=\".81\" height=\".81\" x=\"0\" y=\"26\" fill=\"#000000\" />\n<rect width=\".81\" height=\".81\" x=\"1\" y=\"26\" fill=\"#000000\" />\n<rect width=\".81\" height=\".81\" x=\"2\" y=\"26\" fill=\"#000000\" />\n<rect width=\".81\" height=\".81\" x=\"3\" y=\"26\" fill=\"#000000\" />\n<rect width=\".81\" height=\".81\" x=\"4\" y=\"26\" fill=\"#000000\" />\n<rect width=\".81\" height=\".81\" x=\"5\" y=\"26\" fill=\"#000000\" />\n<rect width=\".81\" height=\".81\" x=\"6\" y=\"26\" fill=\"#000000\" />\n<rect width=\".81\" height=\".81\" x=\"7\" y=\"26\" fill=\"#000000\" />\n<rect width=\".81\" height=\".81\" x=\"8\" y=\"26\" fill=\"#000000\" />\n<rect width=\".81\" height=\".81\" x=\"9\" y=\"26\" fill=\"#000000\" />\n<rect width=\".81\" height=\".81\" x=\"10\" y=\"26\" fill=\"#000000\" />\n<rect width=\".81\" height=\".81\" x=\"11\" y=\"26\" fill=\"#000000\" />\n<rect width=\".81\" height=\".81\" x=\"12\" y=\"26\" fill=\"#000000\" />\n<rect width=\".81\" height=\".81\" x=\"13\" y=\"26\" fill=\"#000000\" />\n<rect width=\".81\" height=\".81\" x=\"14\" y=\"26\" fill=\"#000000\" />\n<rect width=\".81\" height=\".81\" x=\"15\" y=\"26\" fill=\"#000000\" />\n<rect width=\".81\" height=\".81\" x=\"16\" y=\"26\" fill=\"#000000\" />\n<rect width=\".81\" height=\".81\" x=\"17\" y=\"26\" fill=\"#000000\" />\n<rect width=\".81\" height=\".81\" x=\"18\" y=\"26\" fill=\"#000000\" />\n<rect width=\".81\" height=\".81\" x=\"19\" y=\"26\" fill=\"#000000\" />\n<rect width=\".81\" height=\".81\" x=\"20\" y=\"26\" fill=\"#000000\" />\n<rect width=\".81\" height=\".81\" x=\"21\" y=\"26\" fill=\"#000000\" />\n<rect width=\".81\" height=\".81\" x=\"22\" y=\"26\" fill=\"#000000\" />\n<rect width=\".81\" height=\".81\" x=\"23\" y=\"26\" fill=\"#000000\" />\n<rect width=\".81\" height=\".81\" x=\"24\" y=\"26\" fill=\"#000000\" />\n<rect width=\".81\" height=\".81\" x=\"25\" y=\"26\" fill=\"#000000\" />\n<rect width=\".81\" height=\".81\" x=\"26\" y=\"26\" fill=\"#000000\" />\n<rect width=\".81\" height=\".81\" x=\"27\" y=\"26\" fill=\"#000000\" />\n<rect width=\".81\" height=\".81\" x=\"0\" y=\"27\" fill=\"#000000\" />\n<rect width=\".81\" height=\".81\" x=\"1\" y=\"27\" fill=\"#000000\" />\n<rect width=\".81\" height=\".81\" x=\"2\" y=\"27\" fill=\"#000000\" />\n<rect width=\".81\" height=\".81\" x=\"3\" y=\"27\" fill=\"#000000\" />\n<rect width=\".81\" height=\".81\" x=\"4\" y=\"27\" fill=\"#000000\" />\n<rect width=\".81\" height=\".81\" x=\"5\" y=\"27\" fill=\"#000000\" />\n<rect width=\".81\" height=\".81\" x=\"6\" y=\"27\" fill=\"#000000\" />\n<rect width=\".81\" height=\".81\" x=\"7\" y=\"27\" fill=\"#000000\" />\n<rect width=\".81\" height=\".81\" x=\"8\" y=\"27\" fill=\"#000000\" />\n<rect width=\".81\" height=\".81\" x=\"9\" y=\"27\" fill=\"#000000\" />\n<rect width=\".81\" height=\".81\" x=\"10\" y=\"27\" fill=\"#000000\" />\n<rect width=\".81\" height=\".81\" x=\"11\" y=\"27\" fill=\"#000000\" />\n<rect width=\".81\" height=\".81\" x=\"12\" y=\"27\" fill=\"#000000\" />\n<rect width=\".81\" height=\".81\" x=\"13\" y=\"27\" fill=\"#000000\" />\n<rect width=\".81\" height=\".81\" x=\"14\" y=\"27\" fill=\"#000000\" />\n<rect width=\".81\" height=\".81\" x=\"15\" y=\"27\" fill=\"#000000\" />\n<rect width=\".81\" height=\".81\" x=\"16\" y=\"27\" fill=\"#000000\" />\n<rect width=\".81\" height=\".81\" x=\"17\" y=\"27\" fill=\"#000000\" />\n<rect width=\".81\" height=\".81\" x=\"18\" y=\"27\" fill=\"#000000\" />\n<rect width=\".81\" height=\".81\" x=\"19\" y=\"27\" fill=\"#000000\" />\n<rect width=\".81\" height=\".81\" x=\"20\" y=\"27\" fill=\"#000000\" />\n<rect width=\".81\" height=\".81\" x=\"21\" y=\"27\" fill=\"#000000\" />\n<rect width=\".81\" height=\".81\" x=\"22\" y=\"27\" fill=\"#000000\" />\n<rect width=\".81\" height=\".81\" x=\"23\" y=\"27\" fill=\"#000000\" />\n<rect width=\".81\" height=\".81\" x=\"24\" y=\"27\" fill=\"#000000\" />\n<rect width=\".81\" height=\".81\" x=\"25\" y=\"27\" fill=\"#000000\" />\n<rect width=\".81\" height=\".81\" x=\"26\" y=\"27\" fill=\"#000000\" />\n<rect width=\".81\" height=\".81\" x=\"27\" y=\"27\" fill=\"#000000\" />\n</svg>"
          },
          "metadata": {
            "tags": []
          },
          "execution_count": 52
        }
      ]
    },
    {
      "cell_type": "code",
      "metadata": {
        "id": "2Az9TUrptpN3",
        "colab_type": "code",
        "colab": {
          "base_uri": "https://localhost:8080/",
          "height": 204
        },
        "outputId": "750f6511-6f01-4dcd-fcf8-ee3dd11bd654"
      },
      "source": [
        "# Same preprocessing\n",
        "test_X = hcat(float.(reshape.(Flux.Data.MNIST.images(:test), :))...)\n",
        "test_Y = onehotbatch(Flux.Data.MNIST.labels(:test), 0:9);\n",
        "\n",
        "m(test_X[:,5287])       # Note the 7th index ( corresponding to the digit 6 ) is nearly 1"
      ],
      "execution_count": 53,
      "outputs": [
        {
          "output_type": "execute_result",
          "data": {
            "text/plain": [
              "Tracked 10-element Array{Float32,1}:\n",
              " 1.4339258f-8\n",
              " 1.9824803f-8\n",
              " 3.6036883f-7\n",
              " 8.278516f-9\n",
              " 2.1289566f-6\n",
              " 7.799352f-8\n",
              " 0.99999607f0\n",
              " 1.1303876f-11\n",
              " 1.2854244f-6\n",
              " 7.762031f-11"
            ]
          },
          "metadata": {
            "tags": []
          },
          "execution_count": 53
        }
      ]
    },
    {
      "cell_type": "code",
      "metadata": {
        "id": "pEG9gAgrwcq3",
        "colab_type": "code",
        "colab": {
          "base_uri": "https://localhost:8080/",
          "height": 34
        },
        "outputId": "62c22075-64b3-487c-9795-1a2b9ac3a828"
      },
      "source": [
        "onecold(m(test_X[:,5287])) - 1 "
      ],
      "execution_count": 54,
      "outputs": [
        {
          "output_type": "execute_result",
          "data": {
            "text/plain": [
              "6"
            ]
          },
          "metadata": {
            "tags": []
          },
          "execution_count": 54
        }
      ]
    },
    {
      "cell_type": "code",
      "metadata": {
        "id": "VR4aJraQwgIt",
        "colab_type": "code",
        "colab": {
          "base_uri": "https://localhost:8080/",
          "height": 34
        },
        "outputId": "d50b55a3-3b86-471c-bcec-c52cc2dc0c83"
      },
      "source": [
        "accuracy(X, Y)"
      ],
      "execution_count": 55,
      "outputs": [
        {
          "output_type": "execute_result",
          "data": {
            "text/plain": [
              "0.9801666666666666"
            ]
          },
          "metadata": {
            "tags": []
          },
          "execution_count": 55
        }
      ]
    },
    {
      "cell_type": "code",
      "metadata": {
        "id": "_3toiK9pwi8k",
        "colab_type": "code",
        "colab": {
          "base_uri": "https://localhost:8080/",
          "height": 34
        },
        "outputId": "d3913693-ee2a-49f4-ed8d-b38f0f81af71"
      },
      "source": [
        "# Test set accuracy\n",
        "accuracy(test_X, test_Y)"
      ],
      "execution_count": 56,
      "outputs": [
        {
          "output_type": "execute_result",
          "data": {
            "text/plain": [
              "0.9625"
            ]
          },
          "metadata": {
            "tags": []
          },
          "execution_count": 56
        }
      ]
    },
    {
      "cell_type": "code",
      "metadata": {
        "id": "sCKH6UYHwuAE",
        "colab_type": "code",
        "colab": {}
      },
      "source": [
        ""
      ],
      "execution_count": null,
      "outputs": []
    }
  ]
}